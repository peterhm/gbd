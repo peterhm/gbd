{
 "metadata": {
  "name": "DM-co"
 }, 
 "nbformat": 2, 
 "worksheets": [
  {
   "cells": [
    {
     "cell_type": "markdown", 
     "source": [
      "Initialization", 
      "--------------"
     ]
    }, 
    {
     "cell_type": "code", 
     "collapsed": false, 
     "input": [
      "pwd"
     ], 
     "language": "python", 
     "outputs": [
      {
       "output_type": "pyout", 
       "prompt_number": 1, 
       "text": [
        "u&apos;/snfs2/HOME/peterhm/gbd/book&apos;"
       ]
      }
     ], 
     "prompt_number": 1
    }, 
    {
     "cell_type": "code", 
     "collapsed": false, 
     "input": [
      "cd /homes/peterhm/gbd/"
     ], 
     "language": "python", 
     "outputs": [
      {
       "output_type": "stream", 
       "stream": "stdout", 
       "text": [
        "/snfs2/HOME/peterhm/gbd"
       ]
      }
     ], 
     "prompt_number": 2
    }, 
    {
     "cell_type": "code", 
     "collapsed": false, 
     "input": [
      "import sys", 
      "sys.path += ['/book', '../dm3-computation_only/', '../dm3-computation_only/book']", 
      "import pylab as pl", 
      "import pymc as mc", 
      "import pandas", 
      "", 
      "import dismod3", 
      "reload(dismod3)"
     ], 
     "language": "python", 
     "outputs": [
      {
       "output_type": "pyout", 
       "prompt_number": 3, 
       "text": [
        "&lt;module &apos;dismod3&apos; from &apos;dismod3/__init__.pyc&apos;&gt;"
       ]
      }
     ], 
     "prompt_number": 3
    }, 
    {
     "cell_type": "code", 
     "collapsed": false, 
     "input": [
      "cd /homes/peterhm/gbd/book"
     ], 
     "language": "python", 
     "outputs": [
      {
       "output_type": "stream", 
       "stream": "stdout", 
       "text": [
        "/snfs2/HOME/peterhm/gbd/book"
       ]
      }
     ], 
     "prompt_number": 5
    }, 
    {
     "cell_type": "code", 
     "collapsed": false, 
     "input": [
      "import book_graphics", 
      "reload(book_graphics)"
     ], 
     "language": "python", 
     "outputs": [
      {
       "output_type": "pyout", 
       "prompt_number": 6, 
       "text": [
        "&lt;module &apos;book_graphics&apos; from &apos;book_graphics.pyc&apos;&gt;"
       ]
      }
     ], 
     "prompt_number": 6
    }, 
    {
     "cell_type": "code", 
     "collapsed": false, 
     "input": [
      "cd /homes/peterhm/gbd/"
     ], 
     "language": "python", 
     "outputs": [
      {
       "output_type": "stream", 
       "stream": "stdout", 
       "text": [
        "/snfs2/HOME/peterhm/gbd"
       ]
      }
     ], 
     "prompt_number": 7
    }, 
    {
     "cell_type": "markdown", 
     "source": [
      "Functions", 
      "---------"
     ]
    }, 
    {
     "cell_type": "code", 
     "collapsed": true, 
     "input": [
      "full_name = {'p': 'prevalence', ", 
      "             'i': 'incidence', ", 
      "             'r': 'remission', ", 
      "             'f': 'excess-mortality', ", 
      "             'pf': 'pf', ", 
      "             'csmr': 'r_specific', ", 
      "             'm_all': 'r_all',", 
      "             'm_with': 'r_with',", 
      "             'm': 'r_other',", 
      "             'smr': 'r_standard', ", 
      "             'rr': 'relative_risk', ", 
      "             'X': 'duration'}"
     ], 
     "language": "python", 
     "outputs": [], 
     "prompt_number": 8
    }, 
    {
     "cell_type": "code", 
     "collapsed": true, 
     "input": [
      "# find disease number from disease name", 
      "def disease_num(name):", 
      "    bm_path = '/snfs1/Project/GBD/dalynator/yld/best_models.csv'", 
      "    bm_csv = pandas.read_csv(bm_path,index_col=None)", 
      "    dismod_models = bm_csv.groupby('dismod_model_number').apply(lambda df: df.ix[df.index[0], 'outcome_name'])", 
      "    dismod_models = dismod_models.drop([0], axis=0)", 
      "    dismod_models = dict(sort(dismod_models))", 
      "    # change Series object into dictionary", 
      "    from collections import defaultdict", 
      "    reversed_dict = defaultdict(list)", 
      "    for key,value in dismod_models.iteritems():", 
      "        reversed_dict[value].append(key)", 
      "    num = reversed_dict[name]", 
      "    if num == []:", 
      "        print 'No DisMod-MR estimates for %s'%name", 
      "    elif len(num) > 1:", 
      "        print 'DisMod-MR has more than one model for %s'%name", 
      "        num = [int(k) for k in num]", 
      "    else:", 
      "        num = int(num[0])", 
      "    return num"
     ], 
     "language": "python", 
     "outputs": [], 
     "prompt_number": 9
    }, 
    {
     "cell_type": "code", 
     "collapsed": true, 
     "input": [
      "# find country name and region", 
      "def geo_info(name, disease):", 
      "    global_model = load_new_model(disease, 'all', 'total', 2010)", 
      "    region = global_model.hierarchy.in_edges(country)[0][0]", 
      "    return region"
     ], 
     "language": "python", 
     "outputs": [], 
     "prompt_number": 17
    }, 
    {
     "cell_type": "code", 
     "collapsed": true, 
     "input": [
      "# create disease model with relavtive data", 
      "def load_new_model(disease, country, sex, year):", 
      "    model = dismod3.data.load('/home/j/Project/dismod/output/dm-%s'%disease)", 
      "    # keep relative data", 
      "    model.keep(areas=[country], sexes=[sex])", 
      "    ", 
      "    return model"
     ], 
     "language": "python", 
     "outputs": [], 
     "prompt_number": 32
    }, 
    {
     "cell_type": "code", 
     "collapsed": true, 
     "input": [
      "def get_emp(disease, data_type, country, sex, year):", 
      "    # load posterior estimates from GBD 2010 Study", 
      "    emp = pandas.read_csv('/home/j/Project/dismod/output/dm-%s/posterior/dm-%s-%s-%s-%s-%s.csv'%(disease, disease, full_name[data_type], region, sex, year), index_col=None)", 
      "", 
      "    # remove population numbers", 
      "    del emp['Population']", 
      "", 
      "    # keep only estimates from country", 
      "    cty_ix = (emp['Iso3'] == country)", 
      "    emp = emp[cty_ix]", 
      "    del emp['Iso3']", 
      "", 
      "    # keep only estimates for data type", 
      "    try:", 
      "        assert pl.all(emp['Rate type'] == full_name[data_type])", 
      "    except:", 
      "        dt_ix = (emp['Rate type']) == full_name[data_type]", 
      "        emp = emp[dt_ix]", 
      "    del emp['Rate type'] ", 
      "    ", 
      "    # return GBD 2010 Study posterior ", 
      "    emp.index = emp['Age']", 
      "    del emp['Age']", 
      "    return emp.mean(1), emp.std(1) #*10"
     ], 
     "language": "python", 
     "outputs": [], 
     "prompt_number": 23
    }, 
    {
     "cell_type": "code", 
     "collapsed": true, 
     "input": [
      "# if sigma_alpha is too hacky", 
      "# this might me an alternative", 
      "# though this is also hacky", 
      "#    dm = dismod3.load_disease_model(disease)", 
      "#    dm_na = dm.get_empirical_prior('incidence')['new_alpha']", 
      "#    sa = []", 
      "#    dm_na_keys = dm.get_empirical_prior('incidence')['new_alpha'].keys()", 
      "#    for k in range(len(dm_na_keys)):", 
      "#       try: ", 
      "#            dm_na_keys[k].index('sigma_alpha')", 
      "#            sa.append(dm_na_keys[k])", 
      "#            except:", 
      "#                pass"
     ], 
     "language": "python", 
     "outputs": [], 
     "prompt_number": 428
    }, 
    {
     "cell_type": "code", 
     "collapsed": true, 
     "input": [
      "# set fixed effects and random effects from strength-gathering posterior mean", 
      "", 
      "def find_fnrfx(model, disease, data_type, country, region, sex, year):", 
      "    # create dummy model to get appropriate Model.vars fields", 
      "    dummy = load_new_model(disease, country, sex, year)", 
      "    dummy.vars += dismod3.ism.age_specific_rate(dummy, data_type)", 
      "    vars = dummy.vars[data_type]", 
      "    ", 
      "    # save random effects", 
      "    emp_re = pandas.read_csv('/home/j/Project/dismod/output/dm-%s/posterior/re-%s-%s+%s+%s.csv'%(disease, data_type, region, sex, year), index_col=None)", 
      "    for n, col in zip(vars['alpha'], vars['U'].columns):", 
      "        model.parameters[data_type]['random_effects'][col] = dict(dist='Constant', ", 
      "                                                          mu=emp_re.ix[col, 'mu_coeff'], ", 
      "                                                          sigma=emp_re.ix[col, 'sigma_coeff'])", 
      "        ", 
      "    # also save empirical prior on sigma_alpha, the dispersion of the random effects", 
      "    dm = dismod3.load_disease_model(disease)", 
      "    dm_na = dm.get_empirical_prior('incidence')['new_alpha']", 
      "    for n in vars['sigma_alpha']:", 
      "        try:", 
      "            model.parameters[data_type]['random_effects'][n.__name__] = dict(dist = dm_na[n.__name__]['dist'],", 
      "                                                                             mu = dm_na[n.__name__]['mu'], ", 
      "                                                                             sigma = dm_na[n.__name__]['sigma'], ", 
      "                                                                             lower = dm_na[n.__name__]['lower'], ", 
      "                                                                             upper = dm_na[n.__name__]['upper'])", 
      "        except:", 
      "            model.parameters[data_type]['random_effects'][n.__name__] = dict(dist = 'TruncatedNormal',", 
      "                                                                             mu = .05,", 
      "                                                                             sigma = .03**-2, ", 
      "                                                                             lower = 0.01, ", 
      "                                                                             upper = 0.5)", 
      "    # save fixed effects    ", 
      "    emp_fe = pandas.read_csv('/home/j/Project/dismod/output/dm-%s/posterior/fe-%s-%s+%s+%s.csv'%(disease, data_type, region, sex, year), index_col=0)", 
      "    for n, col in zip(vars['beta'], vars['X'].columns):", 
      "        model.parameters[data_type]['fixed_effects'][col] = dict(dist = 'Constant', ", 
      "                                                         mu = emp_fe.ix[col, 'mu_coeff'], ", 
      "                                                         sigma = emp_fe.ix[col, 'sigma_coeff'])", 
      "  "
     ], 
     "language": "python", 
     "outputs": [], 
     "prompt_number": 42
    }, 
    {
     "cell_type": "markdown", 
     "source": [
      "Choose disease, country, age, sex, year", 
      "---------------------------------------"
     ]
    }, 
    {
     "cell_type": "code", 
     "collapsed": false, 
     "input": [
      "disease = 28646 #39098", 
      "country = 'FIN'", 
      "region = geo_info(country, disease) #'europe_western'", 
      "sex = 'male'", 
      "year = 2005", 
      "data_type = 'i'", 
      "", 
      "iter=10000", 
      "burn=5000", 
      "thin=50"
     ], 
     "language": "python", 
     "outputs": [
      {
       "output_type": "stream", 
       "stream": "stdout", 
       "text": [
        "kept 0 rows of data"
       ]
      }
     ], 
     "prompt_number": 18
    }, 
    {
     "cell_type": "code", 
     "collapsed": false, 
     "input": [
      "model = load_new_model(disease, country, sex, year)"
     ], 
     "language": "python", 
     "outputs": [
      {
       "output_type": "stream", 
       "stream": "stdout", 
       "text": [
        "kept 79 rows of data"
       ]
      }
     ], 
     "prompt_number": 27
    }, 
    {
     "cell_type": "code", 
     "collapsed": true, 
     "input": [
      "mu_prior, sigma_prior = get_emp(disease, data_type, country, sex, year) "
     ], 
     "language": "python", 
     "outputs": [], 
     "prompt_number": 28
    }, 
    {
     "cell_type": "code", 
     "collapsed": false, 
     "input": [
      "find_fnrfx(model, disease, data_type, country, region, sex, year)"
     ], 
     "language": "python", 
     "outputs": [
      {
       "output_type": "stream", 
       "stream": "stdout", 
       "text": [
        "kept 79 rows of data", 
        "adding smoothing of 0.5"
       ]
      }
     ], 
     "prompt_number": 43
    }, 
    {
     "cell_type": "code", 
     "collapsed": false, 
     "input": [
      "model.vars += dismod3.ism.age_specific_rate(model, data_type,", 
      "                                            country, sex, year)", 
      "#                                            None, mu_prior, sigma_prior)"
     ], 
     "language": "python", 
     "outputs": [
      {
       "output_type": "stream", 
       "stream": "stdout", 
       "text": [
        "adding smoothing of 0.5", 
        "using stored RE hyperprior for"
       ]
      }, 
      {
       "output_type": "stream", 
       "stream": "stdout", 
       "text": [
        " sigma_alpha_i_0 {&apos;mu&apos;: 0.05, &apos;upper&apos;: 0.5, &apos;lower&apos;: 0.01, &apos;sigma&apos;: 1111.111111111111, &apos;dist&apos;: &apos;TruncatedNormal&apos;}", 
        "using stored RE hyperprior for sigma_alpha_i_1 {&apos;mu&apos;: 0.05, &apos;upper&apos;: 0.5, &apos;lower&apos;: 0.01, &apos;sigma&apos;: 1111.111111111111, &apos;dist&apos;: &apos;TruncatedNormal&apos;}", 
        "using stored RE hyperprior for sigma_alpha_i_2 {&apos;mu&apos;: 0.05, &apos;upper&apos;: 0.5, &apos;lower&apos;: 0.01, &apos;sigma&apos;: 1111.111111111111, &apos;dist&apos;: &apos;TruncatedNormal&apos;}", 
        "using stored RE hyperprior for sigma_alpha_i_3 {&apos;mu&apos;: 0.05, &apos;upper&apos;: 0.5, &apos;lower&apos;: 0.01, &apos;sigma&apos;: 1111.111111111111, &apos;dist&apos;: &apos;TruncatedNormal&apos;}", 
        "using stored RE hyperprior for sigma_alpha_i_4 {&apos;mu&apos;: 0.05, &apos;upper&apos;: 0.5, &apos;lower&apos;: 0.01, &apos;sigma&apos;: 1111.111111111111, &apos;dist&apos;: &apos;TruncatedNormal&apos;}", 
        "using stored FE for"
       ]
      }, 
      {
       "output_type": "stream", 
       "stream": "stdout", 
       "text": [
        " beta_i_x_IHME_alcohol_liters_pc_25July11 x_IHME_alcohol_liters_pc_25July11 {&apos;mu&apos;: 0.45348077369500001, &apos;sigma&apos;: 0.0, &apos;dist&apos;: &apos;Constant&apos;}", 
        "using stored FE for beta_i_x_health_system_access2 x_health_system_access2 {&apos;mu&apos;: 1.1261412398899999, &apos;sigma&apos;: 0.0, &apos;dist&apos;: &apos;Constant&apos;}", 
        "using stored FE for beta_i_x_sex x_sex {&apos;mu&apos;: 0.15505847944100001, &apos;sigma&apos;: 0.0, &apos;dist&apos;: &apos;Constant&apos;}"
       ]
      }
     ], 
     "prompt_number": 44
    }, 
    {
     "cell_type": "code", 
     "collapsed": false, 
     "input": [
      "%time dismod3.fit.fit_asr(model, data_type, iter=iter, thin=thin, burn=burn)"
     ], 
     "language": "python", 
     "outputs": [
      {
       "output_type": "stream", 
       "stream": "stdout", 
       "text": [
        "finding initial values"
       ]
      }, 
      {
       "output_type": "stream", 
       "stream": "stdout", 
       "text": [
        " ."
       ]
      }, 
      {
       "output_type": "stream", 
       "stream": "stdout", 
       "text": [
        " ."
       ]
      }, 
      {
       "output_type": "stream", 
       "stream": "stdout", 
       "text": [
        " ."
       ]
      }, 
      {
       "output_type": "stream", 
       "stream": "stdout", 
       "text": [
        " ", 
        "finding MAP estimate"
       ]
      }, 
      {
       "output_type": "stream", 
       "stream": "stdout", 
       "text": [
        " ", 
        "finding step covariances estimate"
       ]
      }, 
      {
       "output_type": "stream", 
       "stream": "stdout", 
       "text": [
        " ", 
        "resetting initial values (1)"
       ]
      }, 
      {
       "output_type": "stream", 
       "stream": "stdout", 
       "text": [
        " ."
       ]
      }, 
      {
       "output_type": "stream", 
       "stream": "stdout", 
       "text": [
        " ."
       ]
      }, 
      {
       "output_type": "stream", 
       "stream": "stdout", 
       "text": [
        " ."
       ]
      }, 
      {
       "output_type": "stream", 
       "stream": "stdout", 
       "text": [
        " ", 
        "resetting initial values (2)"
       ]
      }, 
      {
       "output_type": "stream", 
       "stream": "stdout", 
       "text": [
        "mare: 0.1", 
        "sampling from posterior"
       ]
      }, 
      {
       "output_type": "stream", 
       "stream": "stdout", 
       "text": [
        "CPU times: user 211.24 s, sys: 0.01 s, total: 211.25 s", 
        "Wall time: 211.27 s"
       ]
      }, 
      {
       "output_type": "pyout", 
       "prompt_number": 45, 
       "text": [
        "(&lt;pymc.NormalApproximation.MAP at 0x14975850&gt;, &lt;pymc.MCMC.MCMC at 0x14975f10&gt;)"
       ]
      }
     ], 
     "prompt_number": 45
    }, 
    {
     "cell_type": "code", 
     "collapsed": false, 
     "input": [
      "model.pred = dismod3.covariates.predict_for(model, model.parameters[data_type], ", 
      "                                            country, sex, year, country, sex, year,", 
      "                                            1., model.vars[data_type], 0., 1.).T", 
      "dismod3.graphics.plot_data_bars(model.get_data(data_type))", 
      "pl.plot(model.pred.mean(axis=1), label='posterior without emp prior')", 
      "pl.plot(pl.array(mu_prior), label='emp mu_prior')", 
      "pl.plot(pl.array(sigma_prior), label='emp sigma_prior')", 
      "", 
      "pl.legend(loc='upper left')"
     ], 
     "language": "python", 
     "outputs": [
      {
       "output_type": "pyout", 
       "prompt_number": 54, 
       "text": [
        "&lt;matplotlib.legend.Legend at 0x1bccbd50&gt;"
       ]
      }, 
      {
       "output_type": "display_data", 
       "png": "[encoded data removed]"
      }
     ], 
     "prompt_number": 54
    }, 
    {
     "cell_type": "markdown", 
     "source": [
      "Testing NLD with new find_fnrfx", 
      "-------------------------------", 
      "Results:", 
      "", 
      "* mare really high", 
      "* posterior with emp prior does not fit data"
     ]
    }, 
    {
     "cell_type": "code", 
     "collapsed": true, 
     "input": [
      "country = 'NLD'"
     ], 
     "language": "python", 
     "outputs": [], 
     "prompt_number": 55
    }, 
    {
     "cell_type": "code", 
     "collapsed": false, 
     "input": [
      "nld_wo = load_new_model(disease, country, sex, year)", 
      "mu_prior, sigma_prior = get_emp(disease, data_type, country, sex, year) ", 
      "find_fnrfx(nld_wo, disease, data_type, country, region, sex, year)", 
      "nld_wo.vars += dismod3.ism.age_specific_rate(nld_wo, data_type, country, sex, year) # None, mu_prior, sigma_prior)", 
      "%time dismod3.fit.fit_asr(nld_wo, data_type, iter=iter, thin=thin, burn=burn)", 
      "nld_wo.pred = dismod3.covariates.predict_for(nld_wo, model.parameters[data_type], ", 
      "                                             country, sex, year, country, sex, year,", 
      "                                             1., model.vars[data_type], 0., 1.).T"
     ], 
     "language": "python", 
     "outputs": [
      {
       "output_type": "stream", 
       "stream": "stdout", 
       "text": [
        "kept 34 rows of data", 
        "kept 34 rows of data"
       ]
      }, 
      {
       "output_type": "stream", 
       "stream": "stdout", 
       "text": [
        "", 
        "adding smoothing of 0.5", 
        "adding smoothing of"
       ]
      }, 
      {
       "output_type": "stream", 
       "stream": "stdout", 
       "text": [
        " 0.5", 
        "using stored RE hyperprior for sigma_alpha_i_0 {&apos;mu&apos;: 0.05, &apos;upper&apos;: 0.5, &apos;lower&apos;: 0.01, &apos;sigma&apos;: 1111.111111111111, &apos;dist&apos;: &apos;TruncatedNormal&apos;}", 
        "using stored RE hyperprior for sigma_alpha_i_1 {&apos;mu&apos;: 0.05, &apos;upper&apos;: 0.5, &apos;lower&apos;: 0.01, &apos;sigma&apos;: 1111.111111111111, &apos;dist&apos;: &apos;TruncatedNormal&apos;}", 
        "using stored RE hyperprior for sigma_alpha_i_2 {&apos;mu&apos;: 0.05, &apos;upper&apos;: 0.5, &apos;lower&apos;: 0.01, &apos;sigma&apos;: 1111.111111111111, &apos;dist&apos;: &apos;TruncatedNormal&apos;}", 
        "using stored RE hyperprior for sigma_alpha_i_3 {&apos;mu&apos;: 0.05, &apos;upper&apos;: 0.5, &apos;lower&apos;: 0.01, &apos;sigma&apos;: 1111.111111111111, &apos;dist&apos;: &apos;TruncatedNormal&apos;}", 
        "using stored RE hyperprior for sigma_alpha_i_4 {&apos;mu&apos;: 0.05, &apos;upper&apos;: 0.5, &apos;lower&apos;: 0.01, &apos;sigma&apos;: 1111.111111111111, &apos;dist&apos;: &apos;TruncatedNormal&apos;}", 
        "using stored FE for"
       ]
      }, 
      {
       "output_type": "stream", 
       "stream": "stdout", 
       "text": [
        " beta_i_x_IHME_alcohol_liters_pc_25July11 x_IHME_alcohol_liters_pc_25July11 {&apos;mu&apos;: 0.45348077369500001, &apos;sigma&apos;: 0.0, &apos;dist&apos;: &apos;Constant&apos;}", 
        "using stored FE for beta_i_x_health_system_access2 x_health_system_access2 {&apos;mu&apos;: 1.1261412398899999, &apos;sigma&apos;: 0.0, &apos;dist&apos;: &apos;Constant&apos;}", 
        "using stored FE for beta_i_x_sex x_sex {&apos;mu&apos;: 0.15505847944100001, &apos;sigma&apos;: 0.0, &apos;dist&apos;: &apos;Constant&apos;}", 
        "finding initial values"
       ]
      }, 
      {
       "output_type": "stream", 
       "stream": "stdout", 
       "text": [
        " ."
       ]
      }, 
      {
       "output_type": "stream", 
       "stream": "stdout", 
       "text": [
        " ."
       ]
      }, 
      {
       "output_type": "stream", 
       "stream": "stdout", 
       "text": [
        " ."
       ]
      }, 
      {
       "output_type": "stream", 
       "stream": "stdout", 
       "text": [
        " ", 
        "finding MAP estimate"
       ]
      }, 
      {
       "output_type": "stream", 
       "stream": "stdout", 
       "text": [
        " ", 
        "finding step covariances estimate"
       ]
      }, 
      {
       "output_type": "stream", 
       "stream": "stdout", 
       "text": [
        " ", 
        "resetting initial values (1)"
       ]
      }, 
      {
       "output_type": "stream", 
       "stream": "stdout", 
       "text": [
        " ."
       ]
      }, 
      {
       "output_type": "stream", 
       "stream": "stdout", 
       "text": [
        " ."
       ]
      }, 
      {
       "output_type": "stream", 
       "stream": "stdout", 
       "text": [
        " ."
       ]
      }, 
      {
       "output_type": "stream", 
       "stream": "stdout", 
       "text": [
        " ", 
        "resetting initial values (2)"
       ]
      }, 
      {
       "output_type": "stream", 
       "stream": "stdout", 
       "text": [
        "mare: 0.1", 
        "sampling from posterior"
       ]
      }, 
      {
       "output_type": "stream", 
       "stream": "stdout", 
       "text": [
        "CPU times: user 195.55 s, sys: 0.00 s, total: 195.55 s", 
        "Wall time: 195.57 s"
       ]
      }
     ], 
     "prompt_number": 56
    }, 
    {
     "cell_type": "code", 
     "collapsed": false, 
     "input": [
      "nld_w = load_new_model(disease, country, sex, year)", 
      "mu_prior, sigma_prior = get_emp(disease, data_type, country, sex, year) ", 
      "find_fnrfx(nld_w, disease, data_type, country, region, sex, year)", 
      "nld_w.vars += dismod3.ism.age_specific_rate(nld_w, data_type, country, sex, year, None, mu_prior, sigma_prior)", 
      "%time dismod3.fit.fit_asr(nld_w, data_type, iter=iter, thin=thin, burn=burn)", 
      "nld_w.pred = dismod3.covariates.predict_for(nld_w, nld_w.parameters[data_type], ", 
      "                                            country, sex, year, country, sex, year,", 
      "                                            1., nld_w.vars[data_type], 0., 1.).T"
     ], 
     "language": "python", 
     "outputs": [
      {
       "output_type": "stream", 
       "stream": "stdout", 
       "text": [
        "kept 34 rows of data", 
        "kept 34 rows of data"
       ]
      }, 
      {
       "output_type": "stream", 
       "stream": "stdout", 
       "text": [
        "", 
        "adding smoothing of 0.5", 
        "adding smoothing of"
       ]
      }, 
      {
       "output_type": "stream", 
       "stream": "stdout", 
       "text": [
        " 0.5", 
        "using stored RE hyperprior for sigma_alpha_i_0 {&apos;mu&apos;: 0.05, &apos;upper&apos;: 0.5, &apos;lower&apos;: 0.01, &apos;sigma&apos;: 1111.111111111111, &apos;dist&apos;: &apos;TruncatedNormal&apos;}", 
        "using stored RE hyperprior for sigma_alpha_i_1 {&apos;mu&apos;: 0.05, &apos;upper&apos;: 0.5, &apos;lower&apos;: 0.01, &apos;sigma&apos;: 1111.111111111111, &apos;dist&apos;: &apos;TruncatedNormal&apos;}", 
        "using stored RE hyperprior for sigma_alpha_i_2 {&apos;mu&apos;: 0.05, &apos;upper&apos;: 0.5, &apos;lower&apos;: 0.01, &apos;sigma&apos;: 1111.111111111111, &apos;dist&apos;: &apos;TruncatedNormal&apos;}", 
        "using stored RE hyperprior for sigma_alpha_i_3 {&apos;mu&apos;: 0.05, &apos;upper&apos;: 0.5, &apos;lower&apos;: 0.01, &apos;sigma&apos;: 1111.111111111111, &apos;dist&apos;: &apos;TruncatedNormal&apos;}", 
        "using stored RE hyperprior for sigma_alpha_i_4 {&apos;mu&apos;: 0.05, &apos;upper&apos;: 0.5, &apos;lower&apos;: 0.01, &apos;sigma&apos;: 1111.111111111111, &apos;dist&apos;: &apos;TruncatedNormal&apos;}", 
        "using stored FE for"
       ]
      }, 
      {
       "output_type": "stream", 
       "stream": "stdout", 
       "text": [
        " beta_i_x_IHME_alcohol_liters_pc_25July11 x_IHME_alcohol_liters_pc_25July11 {&apos;mu&apos;: 0.45348077369500001, &apos;sigma&apos;: 0.0, &apos;dist&apos;: &apos;Constant&apos;}", 
        "using stored FE for beta_i_x_health_system_access2 x_health_system_access2 {&apos;mu&apos;: 1.1261412398899999, &apos;sigma&apos;: 0.0, &apos;dist&apos;: &apos;Constant&apos;}", 
        "using stored FE for beta_i_x_sex x_sex {&apos;mu&apos;: 0.15505847944100001, &apos;sigma&apos;: 0.0, &apos;dist&apos;: &apos;Constant&apos;}", 
        "finding initial values"
       ]
      }, 
      {
       "output_type": "stream", 
       "stream": "stdout", 
       "text": [
        " ."
       ]
      }, 
      {
       "output_type": "stream", 
       "stream": "stdout", 
       "text": [
        " ."
       ]
      }, 
      {
       "output_type": "stream", 
       "stream": "stdout", 
       "text": [
        " ."
       ]
      }, 
      {
       "output_type": "stream", 
       "stream": "stdout", 
       "text": [
        " ", 
        "finding MAP estimate"
       ]
      }, 
      {
       "output_type": "stream", 
       "stream": "stdout", 
       "text": [
        " ", 
        "finding step covariances estimate"
       ]
      }, 
      {
       "output_type": "stream", 
       "stream": "stdout", 
       "text": [
        " ", 
        "resetting initial values (1)"
       ]
      }, 
      {
       "output_type": "stream", 
       "stream": "stdout", 
       "text": [
        " ."
       ]
      }, 
      {
       "output_type": "stream", 
       "stream": "stdout", 
       "text": [
        " ."
       ]
      }, 
      {
       "output_type": "stream", 
       "stream": "stdout", 
       "text": [
        " ."
       ]
      }, 
      {
       "output_type": "stream", 
       "stream": "stdout", 
       "text": [
        " ", 
        "resetting initial values (2)"
       ]
      }, 
      {
       "output_type": "stream", 
       "stream": "stdout", 
       "text": [
        "mare: 8669.39", 
        "sampling from posterior"
       ]
      }, 
      {
       "output_type": "stream", 
       "stream": "stdout", 
       "text": [
        "Halting at iteration  998  of  10000", 
        "CPU times: user 66.82 s, sys: 0.01 s, total: 66.83 s", 
        "Wall time: 66.84 s"
       ]
      }
     ], 
     "prompt_number": 74
    }, 
    {
     "cell_type": "code", 
     "collapsed": false, 
     "input": [
      "dismod3.graphics.plot_data_bars(nld_w.get_data(data_type))", 
      "pl.plot(nld_wo.pred.mean(axis=1), label='posterior without emp prior')", 
      "pl.plot(nld_w.pred.mean(axis=1), label='posterior with emp prior')", 
      "pl.plot(pl.array(mu_prior), label='emp mu_prior')", 
      "pl.plot(pl.array(sigma_prior), label='emp sigma_prior')", 
      "", 
      "pl.legend(loc='upper left')"
     ], 
     "language": "python", 
     "outputs": [
      {
       "output_type": "pyout", 
       "prompt_number": 63, 
       "text": [
        "&lt;matplotlib.legend.Legend at 0x14acce50&gt;"
       ]
      }, 
      {
       "output_type": "display_data", 
       "png": "[encoded data removed]"
      }
     ], 
     "prompt_number": 63
    }, 
    {
     "cell_type": "markdown", 
     "source": [
      "Testing with old find_fnrfx", 
      "---------------------------", 
      "", 
      "Results: ", 
      "", 
      "* mare is back to normal (.32 v > 8000)", 
      "* posterior with emp prior does not follow data"
     ]
    }, 
    {
     "cell_type": "code", 
     "collapsed": true, 
     "input": [
      "def find_fnrfx_old(t, model, vars):", 
      "    for n, col in zip(vars['alpha'], vars['U'].columns):", 
      "        stats = n.stats()", 
      "        model.parameters[t]['random_effects'][col] = dict(dist='Constant', mu=stats['mean'], sigma=stats['standard deviation'])", 
      "", 
      "    # also save empirical prior on sigma_alpha, the dispersion of the random effects", 
      "    for n in vars['sigma_alpha']:", 
      "        stats = n.stats()", 
      "        model.parameters[t]['random_effects'][n.__name__] = dict(dist='TruncatedNormal', mu=stats['mean'], sigma=stats['standard deviation'], lower=.01, upper=.5)", 
      "        ", 
      "    for n, col in zip(vars['beta'], vars['X'].columns):", 
      "        stats = n.stats()", 
      "        model.parameters[t]['fixed_effects'][col] = dict(dist='Constant', mu=stats['mean'], sigma=stats['standard deviation'])", 
      "    "
     ], 
     "language": "python", 
     "outputs": [], 
     "prompt_number": 66
    }, 
    {
     "cell_type": "code", 
     "collapsed": false, 
     "input": [
      "we = load_new_model(disease, 'europe_western', sex, year)", 
      "we.keep(areas=['europe_western'], sexes=['male'])", 
      "", 
      "we.vars += dismod3.ism.age_specific_rate(we, data_type)", 
      "%time dismod3.fit.fit_asr(we, data_type, iter=iter, thin=thin, burn=burn)"
     ], 
     "language": "python", 
     "outputs": [
      {
       "output_type": "stream", 
       "stream": "stdout", 
       "text": [
        "kept 1182 rows of data", 
        "kept 1182 rows of data"
       ]
      }, 
      {
       "output_type": "stream", 
       "stream": "stdout", 
       "text": [
        "", 
        "adding smoothing of 0.5", 
        "finding initial values"
       ]
      }, 
      {
       "output_type": "stream", 
       "stream": "stdout", 
       "text": [
        " ."
       ]
      }, 
      {
       "output_type": "stream", 
       "stream": "stdout", 
       "text": [
        " ."
       ]
      }, 
      {
       "output_type": "stream", 
       "stream": "stdout", 
       "text": [
        " ."
       ]
      }, 
      {
       "output_type": "stream", 
       "stream": "stdout", 
       "text": [
        " ", 
        "finding MAP estimate"
       ]
      }, 
      {
       "output_type": "stream", 
       "stream": "stdout", 
       "text": [
        " ", 
        "finding step covariances estimate"
       ]
      }, 
      {
       "output_type": "stream", 
       "stream": "stdout", 
       "text": [
        " ", 
        "resetting initial values (1)"
       ]
      }, 
      {
       "output_type": "stream", 
       "stream": "stdout", 
       "text": [
        " ."
       ]
      }, 
      {
       "output_type": "stream", 
       "stream": "stdout", 
       "text": [
        " ."
       ]
      }, 
      {
       "output_type": "stream", 
       "stream": "stdout", 
       "text": [
        " ."
       ]
      }, 
      {
       "output_type": "stream", 
       "stream": "stdout", 
       "text": [
        " ", 
        "resetting initial values (2)"
       ]
      }, 
      {
       "output_type": "stream", 
       "stream": "stdout", 
       "text": [
        "mare: 0.25", 
        "sampling from posterior"
       ]
      }, 
      {
       "output_type": "stream", 
       "stream": "stdout", 
       "text": [
        "CPU times: user 647.74 s, sys: 0.03 s, total: 647.77 s", 
        "Wall time: 647.88 s"
       ]
      }, 
      {
       "output_type": "pyout", 
       "prompt_number": 67, 
       "text": [
        "(&lt;pymc.NormalApproximation.MAP at 0x1bc7d650&gt;, &lt;pymc.MCMC.MCMC at 0x12e82c10&gt;)"
       ]
      }
     ], 
     "prompt_number": 67
    }, 
    {
     "cell_type": "code", 
     "collapsed": true, 
     "input": [
      "country = 'FIN'", 
      "fin_pred = dismod3.covariates.predict_for(we, we.parameters['i'], 'all', 'total', 'all', country, sex, year,", 
      "                                                False, we.vars['i'], 0., 1.).T  # NOTE: do not population-weight average for emp prior", 
      "", 
      "fin_mu_prior = fin_pred.mean(1)", 
      "fin_sigma_prior = fin_pred.std(1)"
     ], 
     "language": "python", 
     "outputs": [], 
     "prompt_number": 96
    }, 
    {
     "cell_type": "code", 
     "collapsed": false, 
     "input": [
      "fin_wp = load_new_model(disease, country, sex, year)", 
      "", 
      "find_fnrfx_old(data_type, fin_wp, we.vars[data_type])", 
      "", 
      "result = dismod3.data.ModelVars()", 
      "fin_wp.vars += dismod3.ism.age_specific_rate(fin_wp, data_type, country, sex, year, None, fin_mu_prior, fin_sigma_prior)", 
      "", 
      "%time dismod3.fit.fit_asr(fin_wp, data_type, iter=iter, thin=thin, burn=burn)"
     ], 
     "language": "python", 
     "outputs": [
      {
       "output_type": "stream", 
       "stream": "stdout", 
       "text": [
        "kept 79 rows of data", 
        "adding smoothing of 0.5", 
        "using stored RE hyperprior for"
       ]
      }, 
      {
       "output_type": "stream", 
       "stream": "stdout", 
       "text": [
        " sigma_alpha_i_0 {&apos;mu&apos;: 0.074098401468975186, &apos;upper&apos;: 0.5, &apos;lower&apos;: 0.01, &apos;sigma&apos;: 0.020931545792451951, &apos;dist&apos;: &apos;TruncatedNormal&apos;}", 
        "using stored RE hyperprior for sigma_alpha_i_1 {&apos;mu&apos;: 0.075157949476152175, &apos;upper&apos;: 0.5, &apos;lower&apos;: 0.01, &apos;sigma&apos;: 0.022094677116474705, &apos;dist&apos;: &apos;TruncatedNormal&apos;}", 
        "using stored RE hyperprior for sigma_alpha_i_2 {&apos;mu&apos;: 0.22477427317099108, &apos;upper&apos;: 0.5, &apos;lower&apos;: 0.01, &apos;sigma&apos;: 0.016241000671008789, &apos;dist&apos;: &apos;TruncatedNormal&apos;}", 
        "using stored RE hyperprior for sigma_alpha_i_3 {&apos;mu&apos;: 0.075182044899540654, &apos;upper&apos;: 0.5, &apos;lower&apos;: 0.01, &apos;sigma&apos;: 0.021681081053116297, &apos;dist&apos;: &apos;TruncatedNormal&apos;}", 
        "using stored RE hyperprior for sigma_alpha_i_4 {&apos;mu&apos;: 0.072078091139203423, &apos;upper&apos;: 0.5, &apos;lower&apos;: 0.01, &apos;sigma&apos;: 0.019669101826623604, &apos;dist&apos;: &apos;TruncatedNormal&apos;}", 
        "using stored FE for"
       ]
      }, 
      {
       "output_type": "stream", 
       "stream": "stdout", 
       "text": [
        " beta_i_x_IHME_alcohol_liters_pc_25July11 x_IHME_alcohol_liters_pc_25July11 {&apos;mu&apos;: 0.0053234526627360919, &apos;sigma&apos;: 0.061716545001174405, &apos;dist&apos;: &apos;Constant&apos;}", 
        "using stored FE for beta_i_x_health_system_access2 x_health_system_access2 {&apos;mu&apos;: 0.2349317772779963, &apos;sigma&apos;: 0.31726668491296334, &apos;dist&apos;: &apos;Constant&apos;}", 
        "using stored FE for beta_i_x_sex x_sex {&apos;mu&apos;: -0.1645974424200092, &apos;sigma&apos;: 1.0452889364897204, &apos;dist&apos;: &apos;Constant&apos;}", 
        "finding initial values"
       ]
      }, 
      {
       "output_type": "stream", 
       "stream": "stdout", 
       "text": [
        " ."
       ]
      }, 
      {
       "output_type": "stream", 
       "stream": "stdout", 
       "text": [
        " ."
       ]
      }, 
      {
       "output_type": "stream", 
       "stream": "stdout", 
       "text": [
        " ."
       ]
      }, 
      {
       "output_type": "stream", 
       "stream": "stdout", 
       "text": [
        " ", 
        "finding MAP estimate"
       ]
      }, 
      {
       "output_type": "stream", 
       "stream": "stdout", 
       "text": [
        " ", 
        "finding step covariances estimate"
       ]
      }, 
      {
       "output_type": "stream", 
       "stream": "stdout", 
       "text": [
        " ", 
        "resetting initial values (1)"
       ]
      }, 
      {
       "output_type": "stream", 
       "stream": "stdout", 
       "text": [
        " ."
       ]
      }, 
      {
       "output_type": "stream", 
       "stream": "stdout", 
       "text": [
        " ."
       ]
      }, 
      {
       "output_type": "stream", 
       "stream": "stdout", 
       "text": [
        " ."
       ]
      }, 
      {
       "output_type": "stream", 
       "stream": "stdout", 
       "text": [
        " ", 
        "resetting initial values (2)"
       ]
      }, 
      {
       "output_type": "stream", 
       "stream": "stdout", 
       "text": [
        "mare: 0.32", 
        "sampling from posterior"
       ]
      }, 
      {
       "output_type": "stream", 
       "stream": "stdout", 
       "text": [
        "CPU times: user 207.10 s, sys: 0.00 s, total: 207.11 s", 
        "Wall time: 207.14 s"
       ]
      }, 
      {
       "output_type": "pyout", 
       "prompt_number": 97, 
       "text": [
        "(&lt;pymc.NormalApproximation.MAP at 0x12e84a10&gt;, &lt;pymc.MCMC.MCMC at 0x12f08310&gt;)"
       ]
      }
     ], 
     "prompt_number": 97
    }, 
    {
     "cell_type": "code", 
     "collapsed": false, 
     "input": [
      "fin_wp.pred = dismod3.covariates.predict_for(fin_wp, fin_wp.parameters[data_type], country, sex, year, country, sex, year,", 
      "                                             True, fin_wp.vars[data_type], 0., 1.).T  # NOTE: don't pop-weight avg for emp prior"
     ], 
     "language": "python", 
     "outputs": [], 
     "prompt_number": 100
    }, 
    {
     "cell_type": "code", 
     "collapsed": false, 
     "input": [
      "dismod3.graphics.plot_data_bars(fin_wp.get_data(data_type))", 
      "pl.plot(fin_wp.pred.mean(axis=1), label='posterior with emp prior')", 
      "pl.plot(pl.array(fin_mu_prior), label='emp mu_prior')", 
      "pl.plot(pl.array(fin_sigma_prior), label='emp sigma_prior')", 
      "", 
      "pl.legend(loc='upper left')"
     ], 
     "language": "python", 
     "outputs": [
      {
       "output_type": "pyout", 
       "prompt_number": 101, 
       "text": [
        "&lt;matplotlib.legend.Legend at 0x2b1014262890&gt;"
       ]
      }, 
      {
       "output_type": "display_data", 
       "png": "[encoded data removed]"
      }
     ], 
     "prompt_number": 101
    }, 
    {
     "cell_type": "markdown", 
     "source": [
      "Testing with old find_fnrfx and sigma_mu*10", 
      "-------------------------------------------", 
      "", 
      "Results: ", 
      "", 
      "* mare is lower (.09 v .32)", 
      "* posterior with emp prior follows data"
     ]
    }, 
    {
     "cell_type": "code", 
     "collapsed": false, 
     "input": [
      "fin_wp10 = load_new_model(disease, country, sex, year)", 
      "", 
      "find_fnrfx_old(data_type, fin_wp10, we.vars[data_type])", 
      "", 
      "result = dismod3.data.ModelVars()", 
      "fin_wp10.vars += dismod3.ism.age_specific_rate(fin_wp10, data_type, country, sex, year, None, fin_mu_prior, fin_sigma_prior*10)", 
      "", 
      "%time dismod3.fit.fit_asr(fin_wp10, data_type, iter=iter, thin=thin, burn=burn)", 
      "", 
      "fin_wp10.pred = dismod3.covariates.predict_for(fin_wp10, fin_wp10.parameters[data_type], country, sex, year, country, sex, year,", 
      "                                               True, fin_wp10.vars[data_type], 0., 1.).T  # NOTE: don't pop-weight avg for emp prior"
     ], 
     "language": "python", 
     "outputs": [
      {
       "output_type": "stream", 
       "stream": "stdout", 
       "text": [
        "kept 79 rows of data", 
        "adding smoothing of 0.5", 
        "using stored RE hyperprior for"
       ]
      }, 
      {
       "output_type": "stream", 
       "stream": "stdout", 
       "text": [
        " sigma_alpha_i_0 {&apos;mu&apos;: 0.074098401468975186, &apos;upper&apos;: 0.5, &apos;lower&apos;: 0.01, &apos;sigma&apos;: 0.020931545792451951, &apos;dist&apos;: &apos;TruncatedNormal&apos;}", 
        "using stored RE hyperprior for sigma_alpha_i_1 {&apos;mu&apos;: 0.075157949476152175, &apos;upper&apos;: 0.5, &apos;lower&apos;: 0.01, &apos;sigma&apos;: 0.022094677116474705, &apos;dist&apos;: &apos;TruncatedNormal&apos;}", 
        "using stored RE hyperprior for sigma_alpha_i_2 {&apos;mu&apos;: 0.22477427317099108, &apos;upper&apos;: 0.5, &apos;lower&apos;: 0.01, &apos;sigma&apos;: 0.016241000671008789, &apos;dist&apos;: &apos;TruncatedNormal&apos;}", 
        "using stored RE hyperprior for sigma_alpha_i_3 {&apos;mu&apos;: 0.075182044899540654, &apos;upper&apos;: 0.5, &apos;lower&apos;: 0.01, &apos;sigma&apos;: 0.021681081053116297, &apos;dist&apos;: &apos;TruncatedNormal&apos;}", 
        "using stored RE hyperprior for sigma_alpha_i_4 {&apos;mu&apos;: 0.072078091139203423, &apos;upper&apos;: 0.5, &apos;lower&apos;: 0.01, &apos;sigma&apos;: 0.019669101826623604, &apos;dist&apos;: &apos;TruncatedNormal&apos;}", 
        "using stored FE for"
       ]
      }, 
      {
       "output_type": "stream", 
       "stream": "stdout", 
       "text": [
        " beta_i_x_IHME_alcohol_liters_pc_25July11 x_IHME_alcohol_liters_pc_25July11 {&apos;mu&apos;: 0.0053234526627360919, &apos;sigma&apos;: 0.061716545001174405, &apos;dist&apos;: &apos;Constant&apos;}", 
        "using stored FE for beta_i_x_health_system_access2 x_health_system_access2 {&apos;mu&apos;: 0.2349317772779963, &apos;sigma&apos;: 0.31726668491296334, &apos;dist&apos;: &apos;Constant&apos;}", 
        "using stored FE for beta_i_x_sex x_sex {&apos;mu&apos;: -0.1645974424200092, &apos;sigma&apos;: 1.0452889364897204, &apos;dist&apos;: &apos;Constant&apos;}", 
        "finding initial values"
       ]
      }, 
      {
       "output_type": "stream", 
       "stream": "stdout", 
       "text": [
        " ."
       ]
      }, 
      {
       "output_type": "stream", 
       "stream": "stdout", 
       "text": [
        " ."
       ]
      }, 
      {
       "output_type": "stream", 
       "stream": "stdout", 
       "text": [
        " ."
       ]
      }, 
      {
       "output_type": "stream", 
       "stream": "stdout", 
       "text": [
        " ", 
        "finding MAP estimate"
       ]
      }, 
      {
       "output_type": "stream", 
       "stream": "stdout", 
       "text": [
        " ", 
        "finding step covariances estimate"
       ]
      }, 
      {
       "output_type": "stream", 
       "stream": "stdout", 
       "text": [
        " ", 
        "resetting initial values (1)"
       ]
      }, 
      {
       "output_type": "stream", 
       "stream": "stdout", 
       "text": [
        " ."
       ]
      }, 
      {
       "output_type": "stream", 
       "stream": "stdout", 
       "text": [
        " ."
       ]
      }, 
      {
       "output_type": "stream", 
       "stream": "stdout", 
       "text": [
        " ."
       ]
      }, 
      {
       "output_type": "stream", 
       "stream": "stdout", 
       "text": [
        " ", 
        "resetting initial values (2)"
       ]
      }, 
      {
       "output_type": "stream", 
       "stream": "stdout", 
       "text": [
        "mare: 0.09", 
        "sampling from posterior"
       ]
      }, 
      {
       "output_type": "stream", 
       "stream": "stdout", 
       "text": [
        "CPU times: user 210.77 s, sys: 0.02 s, total: 210.79 s", 
        "Wall time: 210.81 s"
       ]
      }
     ], 
     "prompt_number": 103
    }, 
    {
     "cell_type": "code", 
     "collapsed": false, 
     "input": [
      "dismod3.graphics.plot_data_bars(fin_wp.get_data(data_type))", 
      "pl.plot(fin_wp10.pred.mean(axis=1), label='posterior with emp prior')", 
      "pl.plot(pl.array(fin_mu_prior), label='emp mu_prior')", 
      "pl.plot(pl.array(fin_sigma_prior), label='emp sigma_prior')", 
      "", 
      "pl.legend(loc='upper left')"
     ], 
     "language": "python", 
     "outputs": [
      {
       "output_type": "pyout", 
       "prompt_number": 104, 
       "text": [
        "&lt;matplotlib.legend.Legend at 0x2b102451de10&gt;"
       ]
      }, 
      {
       "output_type": "display_data", 
       "png": "[encoded data removed]"
      }
     ], 
     "prompt_number": 104
    }, 
    {
     "cell_type": "markdown", 
     "source": [
      "Another test country with old code", 
      "----------------------------------"
     ]
    }, 
    {
     "cell_type": "code", 
     "collapsed": true, 
     "input": [
      "cyr_pred = dismod3.covariates.predict_for(we, we.parameters['i'], 'all', 'total', 'all', 'CYP', 'male', 2005,", 
      "                                                False, we.vars['i'], 0., 1.).T  # NOTE: do not population-weight average for emp prior", 
      "", 
      "cyp_mu_prior = cyp_pred.mean(1)", 
      "cyp_sigma_prior = cyp_pred.std(1)"
     ], 
     "language": "python", 
     "outputs": [], 
     "prompt_number": "&nbsp;"
    }, 
    {
     "cell_type": "code", 
     "collapsed": true, 
     "input": [
      "cyp_wp = load_new_model(disease, country, sex, year)", 
      "", 
      "find_fnrfx_old('i', cyp_wp, we.vars['i'])", 
      "", 
      "result = dismod3.data.ModelVars()", 
      "cyp_wp.vars += dismod3.ism.age_specific_rate(cyp_wp, data_type, country, sex, year, None, cyp_mu_prior, cyp_sigma_prior)", 
      "%time dismod3.fit.fit_asr(fin_wp, 'i', iter=iter, thin=thin, burn=burn)", 
      "", 
      "cyp_wp.pred = dismod3.covariates.predict_for(cyp_wp, cyp_wp.parameters['i'], 'CYP', 'male', 2005, 'CYP', 'male', 2005,", 
      "                                                True, cyp_wp.vars['i'], 0., 1.).T  # NOTE: do not population-weight average for emp prior"
     ], 
     "language": "python", 
     "outputs": [], 
     "prompt_number": "&nbsp;"
    }, 
    {
     "cell_type": "code", 
     "collapsed": true, 
     "input": [
      "dismod3.graphics.plot_data_bars(fin_wp.get_data(data_type))", 
      "pl.plot(fin_wp.pred.mean(axis=1), label='posterior with emp prior')", 
      "pl.plot(pl.array(fin_mu_prior), label='emp mu_prior')", 
      "pl.plot(pl.array(fin_sigma_prior), label='emp sigma_prior')", 
      "", 
      "pl.legend(loc='upper left')"
     ], 
     "language": "python", 
     "outputs": [], 
     "prompt_number": "&nbsp;"
    }
   ]
  }
 ]
}
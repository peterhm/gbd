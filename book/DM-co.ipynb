{
 "metadata": {
  "name": "DM-co"
 }, 
 "nbformat": 2, 
 "worksheets": [
  {
   "cells": [
    {
     "cell_type": "markdown", 
     "source": [
      "Initialization", 
      "--------------"
     ]
    }, 
    {
     "cell_type": "code", 
     "collapsed": false, 
     "input": [
      "pwd"
     ], 
     "language": "python", 
     "outputs": [
      {
       "output_type": "pyout", 
       "prompt_number": 1, 
       "text": [
        "u&apos;/snfs2/HOME/peterhm/gbd/book&apos;"
       ]
      }
     ], 
     "prompt_number": 1
    }, 
    {
     "cell_type": "code", 
     "collapsed": false, 
     "input": [
      "cd /homes/peterhm/gbd/"
     ], 
     "language": "python", 
     "outputs": [
      {
       "output_type": "stream", 
       "stream": "stdout", 
       "text": [
        "/snfs2/HOME/peterhm/gbd"
       ]
      }
     ], 
     "prompt_number": 2
    }, 
    {
     "cell_type": "code", 
     "collapsed": false, 
     "input": [
      "import sys", 
      "sys.path += ['./book', '../dm3-computation_only/', '../dm3-computation_only/book']", 
      "import pylab as pl", 
      "import pymc as mc", 
      "import pandas", 
      "", 
      "import dismod3", 
      "reload(dismod3)", 
      "", 
      "import book_graphics", 
      "reload(book_graphics)"
     ], 
     "language": "python", 
     "outputs": [
      {
       "output_type": "pyout", 
       "prompt_number": 3, 
       "text": [
        "&lt;module &apos;dismod3&apos; from &apos;dismod3/__init__.pyc&apos;&gt;"
       ]
      }
     ], 
     "prompt_number": 3
    }, 
    {
     "cell_type": "markdown", 
     "source": [
      "Functions", 
      "---------"
     ]
    }, 
    {
     "cell_type": "code", 
     "collapsed": true, 
     "input": [
      "full_name = {'p': 'prevalence', ", 
      "             'i': 'incidence', ", 
      "             'r': 'remission', ", 
      "             'f': 'excess-mortality', ", 
      "             'pf': 'pf', ", 
      "             'csmr': 'r_specific', ", 
      "             'm_all': 'r_all',", 
      "             'm_with': 'r_with',", 
      "             'm': 'r_other',", 
      "             'smr': 'r_standard', ", 
      "             'rr': 'relative_risk', ", 
      "             'X': 'duration'}"
     ], 
     "language": "python", 
     "outputs": [], 
     "prompt_number": 8
    }, 
    {
     "cell_type": "code", 
     "collapsed": true, 
     "input": [
      "# find disease number from disease name", 
      "def disease_num(name):", 
      "    bm_path = '/snfs1/Project/GBD/dalynator/yld/best_models.csv'", 
      "    bm_csv = pandas.read_csv(bm_path,index_col=None)", 
      "    dismod_models = bm_csv.groupby('dismod_model_number').apply(lambda df: df.ix[df.index[0], 'outcome_name'])", 
      "    dismod_models = dismod_models.drop([0], axis=0)", 
      "    dismod_models = dict(sort(dismod_models))", 
      "    # change Series object into dictionary", 
      "    from collections import defaultdict", 
      "    reversed_dict = defaultdict(list)", 
      "    for key,value in dismod_models.iteritems():", 
      "        reversed_dict[value].append(key)", 
      "    num = reversed_dict[name]", 
      "    if num == []:", 
      "        print 'No DisMod-MR estimates for %s'%name", 
      "    elif len(num) > 1:", 
      "        print 'DisMod-MR has more than one model for %s'%name", 
      "        num = [int(k) for k in num]", 
      "    else:", 
      "        num = int(num[0])", 
      "    return num"
     ], 
     "language": "python", 
     "outputs": [], 
     "prompt_number": 9
    }, 
    {
     "cell_type": "code", 
     "collapsed": true, 
     "input": [
      "# find country name and region", 
      "def geo_info(name, disease):", 
      "    global_model = load_new_model(disease, 'all', 'total')", 
      "    region = global_model.hierarchy.in_edges(country)[0][0]", 
      "    return region"
     ], 
     "language": "python", 
     "outputs": [], 
     "prompt_number": 114
    }, 
    {
     "cell_type": "code", 
     "collapsed": true, 
     "input": [
      "# create disease model with relavtive data", 
      "def load_new_model(disease, country, sex):", 
      "    model = dismod3.data.load('/home/j/Project/dismod/output/dm-%s'%disease)", 
      "    # keep relative data", 
      "    if len(sex) == 1: model.keep(areas=[country], sexes=[sex])", 
      "    else: model.keep(areas=[country], sexes=sex)", 
      "    return model"
     ], 
     "language": "python", 
     "outputs": [], 
     "prompt_number": 112
    }, 
    {
     "cell_type": "code", 
     "collapsed": true, 
     "input": [
      "def get_emp(disease, data_type, country, sex, year):", 
      "    # load posterior estimates from GBD 2010 Study", 
      "    emp = pandas.read_csv('/home/j/Project/dismod/output/dm-%s/posterior/dm-%s-%s-%s-%s-%s.csv'%(disease, disease, full_name[data_type], region, sex, year), index_col=None)", 
      "", 
      "    # remove population numbers", 
      "    del emp['Population']", 
      "", 
      "    # keep only estimates from country", 
      "    cty_ix = (emp['Iso3'] == country)", 
      "    emp = emp[cty_ix]", 
      "    del emp['Iso3']", 
      "", 
      "    # keep only estimates for data type", 
      "    try:", 
      "        assert pl.all(emp['Rate type'] == full_name[data_type])", 
      "    except:", 
      "        dt_ix = (emp['Rate type']) == full_name[data_type]", 
      "        emp = emp[dt_ix]", 
      "    del emp['Rate type'] ", 
      "    ", 
      "    # return GBD 2010 Study posterior ", 
      "    emp.index = emp['Age']", 
      "    del emp['Age']", 
      "    return emp.mean(1), emp.std(1) #*10"
     ], 
     "language": "python", 
     "outputs": [], 
     "prompt_number": 23
    }, 
    {
     "cell_type": "code", 
     "collapsed": true, 
     "input": [
      "# if sigma_alpha is too hacky", 
      "# this might me an alternative", 
      "# though this is also hacky", 
      "#    dm = dismod3.load_disease_model(disease)", 
      "#    dm_na = dm.get_empirical_prior('incidence')['new_alpha']", 
      "#    sa = []", 
      "#    dm_na_keys = dm.get_empirical_prior('incidence')['new_alpha'].keys()", 
      "#    for k in range(len(dm_na_keys)):", 
      "#       try: ", 
      "#            dm_na_keys[k].index('sigma_alpha')", 
      "#            sa.append(dm_na_keys[k])", 
      "#            except:", 
      "#                pass"
     ], 
     "language": "python", 
     "outputs": [], 
     "prompt_number": 428
    }, 
    {
     "cell_type": "code", 
     "collapsed": false, 
     "input": [
      "# set fixed effects and random effects from strength-gathering posterior mean", 
      "", 
      "def find_fnrfx(model, disease, data_type, country, region, sex, year):", 
      "    # create dummy model to get appropriate Model.vars fields", 
      "    dummy = load_new_model(disease, country, sex)", 
      "    dummy.vars += dismod3.ism.age_specific_rate(dummy, data_type)", 
      "    vars = dummy.vars[data_type]", 
      "    ", 
      "    # save random effects", 
      "    emp_re = pandas.read_csv('/home/j/Project/dismod/output/dm-%s/posterior/re-%s-%s+%s+%s.csv'%(disease, data_type, region, sex, year), index_col=0)", 
      "    for col in emp_re.index:", 
      "        model.parameters[data_type]['random_effects'][col] = dict(dist='Constant', ", 
      "                                                                  mu=emp_re.ix[col, 'mu_coeff'], ", 
      "                                                                  sigma=emp_re.ix[col, 'sigma_coeff'])", 
      "        ", 
      "    # also save empirical prior on sigma_alpha, the dispersion of the random effects", 
      "    dm = dismod3.load_disease_model(disease)", 
      "    dm_na = dm.get_empirical_prior(full_name[data_type])['new_alpha']", 
      "    for n in vars['sigma_alpha']:", 
      "        try:", 
      "            model.parameters[data_type]['random_effects'][n.__name__] = dict(dist = dm_na[n.__name__]['dist'],", 
      "                                                                             mu = dm_na[n.__name__]['mu'], ", 
      "                                                                             sigma = dm_na[n.__name__]['sigma'], ", 
      "                                                                             lower = dm_na[n.__name__]['lower'], ", 
      "                                                                             upper = dm_na[n.__name__]['upper'])", 
      "        except:", 
      "            model.parameters[data_type]['random_effects'][n.__name__] = dict(dist = 'TruncatedNormal',", 
      "                                                                             mu = .05,", 
      "                                                                             sigma = .03**-2, ", 
      "                                                                             lower = 0.01, ", 
      "                                                                             upper = 0.5)", 
      "    # save fixed effects    ", 
      "    emp_fe = pandas.read_csv('/home/j/Project/dismod/output/dm-%s/posterior/fe-%s-%s+%s+%s.csv'%(disease, data_type, region, sex, year), index_col=0)", 
      "    for n, col in zip(vars['beta'], vars['X'].columns):", 
      "        model.parameters[data_type]['fixed_effects'][col] = dict(dist = 'Constant', ", 
      "                                                         mu = emp_fe.ix[col, 'mu_coeff'], ", 
      "                                                         sigma = emp_fe.ix[col, 'sigma_coeff'])", 
      "  "
     ], 
     "language": "python", 
     "outputs": [], 
     "prompt_number": 303
    }, 
    {
     "cell_type": "markdown", 
     "source": [
      "Choose disease, country, age, sex, year", 
      "---------------------------------------", 
      "", 
      "Results:", 
      "", 
      "* without emp prior mare is .09", 
      "* with emp prior mare is 1785739", 
      "* posterior w/o emp prior has shape of data but does not go through it", 
      "* posterior w/ emp prior near zero but has shape of data"
     ]
    }, 
    {
     "cell_type": "code", 
     "collapsed": false, 
     "input": [
      "disease = 39098 #28646", 
      "country = 'FIN'", 
      "region = geo_info(country, disease) #'europe_western'", 
      "sex = 'male'", 
      "year = 2005", 
      "data_type = 'i'", 
      "", 
      "iter=10000", 
      "burn=5000", 
      "thin=50"
     ], 
     "language": "python", 
     "outputs": [
      {
       "output_type": "stream", 
       "stream": "stdout", 
       "text": [
        "kept 0 rows of data"
       ]
      }
     ], 
     "prompt_number": 471
    }, 
    {
     "cell_type": "code", 
     "collapsed": false, 
     "input": [
      "model = load_new_model(disease, country, sex)", 
      "mu_prior, sigma_prior = get_emp(disease, data_type, country, sex, year) ", 
      "find_fnrfx(model, disease, data_type, country, region, sex, year)", 
      "model.vars += dismod3.ism.age_specific_rate(model, data_type,", 
      "                                            country, sex, year)", 
      "#                                            None, mu_prior, sigma_prior)", 
      "%time dismod3.fit.fit_asr(model, data_type, iter=iter, thin=thin, burn=burn)"
     ], 
     "language": "python", 
     "outputs": [
      {
       "output_type": "stream", 
       "stream": "stdout", 
       "text": [
        "kept 79 rows of data", 
        "kept 79 rows of data"
       ]
      }, 
      {
       "output_type": "stream", 
       "stream": "stdout", 
       "text": [
        "", 
        "adding smoothing of 0.5", 
        "adding smoothing of"
       ]
      }, 
      {
       "output_type": "stream", 
       "stream": "stdout", 
       "text": [
        " 0.5", 
        "using stored RE hyperprior for"
       ]
      }, 
      {
       "output_type": "stream", 
       "stream": "stdout", 
       "text": [
        " sigma_alpha_i_0 {&apos;mu&apos;: 0.40038784205565964, &apos;upper&apos;: 0.5, &apos;lower&apos;: 0.01, &apos;sigma&apos;: 0.0179577011663249, &apos;dist&apos;: &apos;TruncatedNormal&apos;}", 
        "using stored RE hyperprior for sigma_alpha_i_1 {&apos;mu&apos;: 0.39363418122886557, &apos;upper&apos;: 0.5, &apos;lower&apos;: 0.01, &apos;sigma&apos;: 0.014273765599462654, &apos;dist&apos;: &apos;TruncatedNormal&apos;}", 
        "using stored RE hyperprior for sigma_alpha_i_2 {&apos;mu&apos;: 0.4634309252921577, &apos;upper&apos;: 0.5, &apos;lower&apos;: 0.01, &apos;sigma&apos;: 0.01579657840109888, &apos;dist&apos;: &apos;TruncatedNormal&apos;}", 
        "using stored RE hyperprior for sigma_alpha_i_3 {&apos;mu&apos;: 0.5303942834212227, &apos;upper&apos;: 0.5, &apos;lower&apos;: 0.01, &apos;sigma&apos;: 0.015158994660545015, &apos;dist&apos;: &apos;TruncatedNormal&apos;}", 
        "using stored RE hyperprior for sigma_alpha_i_4 {&apos;mu&apos;: 0.4002607949407302, &apos;upper&apos;: 0.5, &apos;lower&apos;: 0.01, &apos;sigma&apos;: 0.01792897373218768, &apos;dist&apos;: &apos;TruncatedNormal&apos;}", 
        "using stored FE for"
       ]
      }, 
      {
       "output_type": "stream", 
       "stream": "stdout", 
       "text": [
        " beta_i_x_LDI_id_Updated_7July2011 x_LDI_id_Updated_7July2011 {&apos;mu&apos;: -0.080124265188800003, &apos;sigma&apos;: 0.0399317122612, &apos;dist&apos;: &apos;Constant&apos;}", 
        "using stored FE for beta_i_x_ihme_health_system_access_19jul2011 x_ihme_health_system_access_19jul2011 {&apos;mu&apos;: 0.615123922155, &apos;sigma&apos;: 0.036738326492500001, &apos;dist&apos;: &apos;Constant&apos;}", 
        "using stored FE for beta_i_x_sex x_sex {&apos;mu&apos;: 0.33885669031900001, &apos;sigma&apos;: 0.011531617794699999, &apos;dist&apos;: &apos;Constant&apos;}", 
        "finding initial values"
       ]
      }, 
      {
       "output_type": "stream", 
       "stream": "stdout", 
       "text": [
        " ."
       ]
      }, 
      {
       "output_type": "stream", 
       "stream": "stdout", 
       "text": [
        " ."
       ]
      }, 
      {
       "output_type": "stream", 
       "stream": "stdout", 
       "text": [
        " ."
       ]
      }, 
      {
       "output_type": "stream", 
       "stream": "stdout", 
       "text": [
        " ", 
        "finding MAP estimate"
       ]
      }, 
      {
       "output_type": "stream", 
       "stream": "stdout", 
       "text": [
        " ", 
        "finding step covariances estimate"
       ]
      }, 
      {
       "output_type": "stream", 
       "stream": "stdout", 
       "text": [
        " ", 
        "resetting initial values (1)"
       ]
      }, 
      {
       "output_type": "stream", 
       "stream": "stdout", 
       "text": [
        " ."
       ]
      }, 
      {
       "output_type": "stream", 
       "stream": "stdout", 
       "text": [
        " ."
       ]
      }, 
      {
       "output_type": "stream", 
       "stream": "stdout", 
       "text": [
        " ."
       ]
      }, 
      {
       "output_type": "stream", 
       "stream": "stdout", 
       "text": [
        " ", 
        "resetting initial values (2)"
       ]
      }, 
      {
       "output_type": "stream", 
       "stream": "stdout", 
       "text": [
        "mare: 0.09", 
        "sampling from posterior"
       ]
      }, 
      {
       "output_type": "stream", 
       "stream": "stdout", 
       "text": [
        "CPU times: user 418.20 s, sys: 0.03 s, total: 418.23 s", 
        "Wall time: 418.28 s"
       ]
      }, 
      {
       "output_type": "pyout", 
       "prompt_number": 476, 
       "text": [
        "(&lt;pymc.NormalApproximation.MAP at 0x2b1039d383d0&gt;,", 
        " &lt;pymc.MCMC.MCMC at 0x2b1039ebcc50&gt;)"
       ]
      }
     ], 
     "prompt_number": 476
    }, 
    {
     "cell_type": "code", 
     "collapsed": false, 
     "input": [
      "modelep = load_new_model(disease, country, sex)", 
      "find_fnrfx(modelep, disease, data_type, country, region, sex, year)", 
      "modelep.vars += dismod3.ism.age_specific_rate(modelep, data_type,", 
      "                                              country, sex, year,", 
      "                                              None, mu_prior, sigma_prior)", 
      "%time dismod3.fit.fit_asr(modelep, data_type, iter=iter, thin=thin, burn=burn)"
     ], 
     "language": "python", 
     "outputs": [
      {
       "output_type": "stream", 
       "stream": "stdout", 
       "text": [
        "kept 79 rows of data", 
        "kept 79 rows of data"
       ]
      }, 
      {
       "output_type": "stream", 
       "stream": "stdout", 
       "text": [
        "", 
        "adding smoothing of 0.5", 
        "adding smoothing of"
       ]
      }, 
      {
       "output_type": "stream", 
       "stream": "stdout", 
       "text": [
        " 0.5", 
        "using stored RE hyperprior for"
       ]
      }, 
      {
       "output_type": "stream", 
       "stream": "stdout", 
       "text": [
        " sigma_alpha_i_0 {&apos;mu&apos;: 0.40038784205565964, &apos;upper&apos;: 0.5, &apos;lower&apos;: 0.01, &apos;sigma&apos;: 0.0179577011663249, &apos;dist&apos;: &apos;TruncatedNormal&apos;}", 
        "using stored RE hyperprior for sigma_alpha_i_1 {&apos;mu&apos;: 0.39363418122886557, &apos;upper&apos;: 0.5, &apos;lower&apos;: 0.01, &apos;sigma&apos;: 0.014273765599462654, &apos;dist&apos;: &apos;TruncatedNormal&apos;}", 
        "using stored RE hyperprior for sigma_alpha_i_2 {&apos;mu&apos;: 0.4634309252921577, &apos;upper&apos;: 0.5, &apos;lower&apos;: 0.01, &apos;sigma&apos;: 0.01579657840109888, &apos;dist&apos;: &apos;TruncatedNormal&apos;}", 
        "using stored RE hyperprior for sigma_alpha_i_3 {&apos;mu&apos;: 0.5303942834212227, &apos;upper&apos;: 0.5, &apos;lower&apos;: 0.01, &apos;sigma&apos;: 0.015158994660545015, &apos;dist&apos;: &apos;TruncatedNormal&apos;}", 
        "using stored RE hyperprior for sigma_alpha_i_4 {&apos;mu&apos;: 0.4002607949407302, &apos;upper&apos;: 0.5, &apos;lower&apos;: 0.01, &apos;sigma&apos;: 0.01792897373218768, &apos;dist&apos;: &apos;TruncatedNormal&apos;}", 
        "using stored FE for"
       ]
      }, 
      {
       "output_type": "stream", 
       "stream": "stdout", 
       "text": [
        " beta_i_x_LDI_id_Updated_7July2011 x_LDI_id_Updated_7July2011 {&apos;mu&apos;: -0.080124265188800003, &apos;sigma&apos;: 0.0399317122612, &apos;dist&apos;: &apos;Constant&apos;}", 
        "using stored FE for beta_i_x_ihme_health_system_access_19jul2011 x_ihme_health_system_access_19jul2011 {&apos;mu&apos;: 0.615123922155, &apos;sigma&apos;: 0.036738326492500001, &apos;dist&apos;: &apos;Constant&apos;}", 
        "using stored FE for beta_i_x_sex x_sex {&apos;mu&apos;: 0.33885669031900001, &apos;sigma&apos;: 0.011531617794699999, &apos;dist&apos;: &apos;Constant&apos;}", 
        "finding initial values"
       ]
      }, 
      {
       "output_type": "stream", 
       "stream": "stdout", 
       "text": [
        " ."
       ]
      }, 
      {
       "output_type": "stream", 
       "stream": "stdout", 
       "text": [
        " ."
       ]
      }, 
      {
       "output_type": "stream", 
       "stream": "stdout", 
       "text": [
        " ."
       ]
      }, 
      {
       "output_type": "stream", 
       "stream": "stdout", 
       "text": [
        " ", 
        "finding MAP estimate"
       ]
      }, 
      {
       "output_type": "stream", 
       "stream": "stdout", 
       "text": [
        " ", 
        "finding step covariances estimate"
       ]
      }, 
      {
       "output_type": "stream", 
       "stream": "stdout", 
       "text": [
        " ", 
        "resetting initial values (1)"
       ]
      }, 
      {
       "output_type": "stream", 
       "stream": "stdout", 
       "text": [
        " ."
       ]
      }, 
      {
       "output_type": "stream", 
       "stream": "stdout", 
       "text": [
        " ."
       ]
      }, 
      {
       "output_type": "stream", 
       "stream": "stdout", 
       "text": [
        " ."
       ]
      }, 
      {
       "output_type": "stream", 
       "stream": "stdout", 
       "text": [
        " ", 
        "resetting initial values (2)"
       ]
      }, 
      {
       "output_type": "stream", 
       "stream": "stdout", 
       "text": [
        "mare: 1785739.65", 
        "sampling from posterior"
       ]
      }, 
      {
       "output_type": "stream", 
       "stream": "stdout", 
       "text": [
        "CPU times: user 462.99 s, sys: 0.02 s, total: 463.02 s", 
        "Wall time: 463.07 s"
       ]
      }, 
      {
       "output_type": "pyout", 
       "prompt_number": 480, 
       "text": [
        "(&lt;pymc.NormalApproximation.MAP at 0x2b1039d58410&gt;,", 
        " &lt;pymc.MCMC.MCMC at 0x2b103eb32b50&gt;)"
       ]
      }
     ], 
     "prompt_number": 480
    }, 
    {
     "cell_type": "code", 
     "collapsed": false, 
     "input": [
      "model.pred = dismod3.covariates.predict_for(model, model.parameters[data_type], ", 
      "                                            country, sex, year, country, sex, year,", 
      "                                            1., model.vars[data_type], 0., 1.).T", 
      "modelep.pred = dismod3.covariates.predict_for(modelep, modelep.parameters[data_type], ", 
      "                                            country, sex, year, country, sex, year,", 
      "                                            1., modelep.vars[data_type], 0., 1.).T", 
      "", 
      "", 
      "dismod3.graphics.plot_data_bars(model.get_data(data_type))", 
      "", 
      "pl.plot(model.pred.mean(axis=1), 's', label='posterior without emp prior')", 
      "pl.plot(modelep.pred.mean(axis=1), 's', label='posterior with emp prior')", 
      "pl.plot(pl.array(mu_prior), label='emp mu_prior')", 
      "pl.plot(pl.array(sigma_prior), label='emp sigma_prior')", 
      "", 
      "pl.legend(loc='upper left')"
     ], 
     "language": "python", 
     "outputs": [
      {
       "output_type": "pyout", 
       "prompt_number": 481, 
       "text": [
        "&lt;matplotlib.legend.Legend at 0x2b103ec5a210&gt;"
       ]
      }, 
      {
       "output_type": "display_data", 
       "png": "[encoded data removed]"
      }
     ], 
     "prompt_number": 481
    }, 
    {
     "cell_type": "code", 
     "collapsed": false, 
     "input": [
      "pl.plot(modelep.pred.mean(axis=1), 'rs', label='posterior with emp prior')"
     ], 
     "language": "python", 
     "outputs": [
      {
       "output_type": "pyout", 
       "prompt_number": 492, 
       "text": [
        "[&lt;matplotlib.lines.Line2D at 0x1366ba90&gt;]"
       ]
      }, 
      {
       "output_type": "display_data", 
       "png": "[encoded data removed]"
      }
     ], 
     "prompt_number": 492
    }, 
    {
     "cell_type": "markdown", 
     "source": [
      "Testing with old find_fnrfx", 
      "---------------------------", 
      "", 
      "Results: ", 
      "", 
      "* mare for region is .25", 
      "* mare using old method is .19", 
      "* posterior with emp prior does not follow data but follow emp prior"
     ]
    }, 
    {
     "cell_type": "code", 
     "collapsed": true, 
     "input": [
      "def find_fnrfx_old(t, model, vars):", 
      "    for n, col in zip(vars['alpha'], vars['U'].columns):", 
      "        stats = n.stats()", 
      "        model.parameters[t]['random_effects'][col] = dict(dist='Constant', mu=stats['mean'], sigma=stats['standard deviation'])", 
      "", 
      "    # also save empirical prior on sigma_alpha, the dispersion of the random effects", 
      "    for n in vars['sigma_alpha']:", 
      "        stats = n.stats()", 
      "        model.parameters[t]['random_effects'][n.__name__] = dict(dist='TruncatedNormal', mu=stats['mean'], sigma=stats['standard deviation'], lower=.01, upper=.5)", 
      "        ", 
      "    for n, col in zip(vars['beta'], vars['X'].columns):", 
      "        stats = n.stats()", 
      "        model.parameters[t]['fixed_effects'][col] = dict(dist='Constant', mu=stats['mean'], sigma=stats['standard deviation'])", 
      "    "
     ], 
     "language": "python", 
     "outputs": [], 
     "prompt_number": 66
    }, 
    {
     "cell_type": "code", 
     "collapsed": false, 
     "input": [
      "we = load_new_model(disease, 'europe_western', sex)", 
      "we.keep(areas=['europe_western'], sexes=['male'])", 
      "", 
      "we.vars += dismod3.ism.age_specific_rate(we, data_type)", 
      "%time dismod3.fit.fit_asr(we, data_type, iter=iter, thin=thin, burn=burn)"
     ], 
     "language": "python", 
     "outputs": [
      {
       "output_type": "stream", 
       "stream": "stdout", 
       "text": [
        "kept 1182 rows of data", 
        "kept 1182 rows of data"
       ]
      }, 
      {
       "output_type": "stream", 
       "stream": "stdout", 
       "text": [
        "", 
        "adding smoothing of 0.5", 
        "finding initial values"
       ]
      }, 
      {
       "output_type": "stream", 
       "stream": "stdout", 
       "text": [
        " ."
       ]
      }, 
      {
       "output_type": "stream", 
       "stream": "stdout", 
       "text": [
        " ."
       ]
      }, 
      {
       "output_type": "stream", 
       "stream": "stdout", 
       "text": [
        " ."
       ]
      }, 
      {
       "output_type": "stream", 
       "stream": "stdout", 
       "text": [
        " ", 
        "finding MAP estimate"
       ]
      }, 
      {
       "output_type": "stream", 
       "stream": "stdout", 
       "text": [
        " ", 
        "finding step covariances estimate"
       ]
      }, 
      {
       "output_type": "stream", 
       "stream": "stdout", 
       "text": [
        " ", 
        "resetting initial values (1)"
       ]
      }, 
      {
       "output_type": "stream", 
       "stream": "stdout", 
       "text": [
        " ."
       ]
      }, 
      {
       "output_type": "stream", 
       "stream": "stdout", 
       "text": [
        " ."
       ]
      }, 
      {
       "output_type": "stream", 
       "stream": "stdout", 
       "text": [
        " ."
       ]
      }, 
      {
       "output_type": "stream", 
       "stream": "stdout", 
       "text": [
        " ", 
        "resetting initial values (2)"
       ]
      }, 
      {
       "output_type": "stream", 
       "stream": "stdout", 
       "text": [
        "mare: 0.25", 
        "sampling from posterior"
       ]
      }, 
      {
       "output_type": "stream", 
       "stream": "stdout", 
       "text": [
        "CPU times: user 891.35 s, sys: 0.07 s, total: 891.42 s", 
        "Wall time: 891.52 s"
       ]
      }, 
      {
       "output_type": "pyout", 
       "prompt_number": 487, 
       "text": [
        "(&lt;pymc.NormalApproximation.MAP at 0x2b103ec501d0&gt;,", 
        " &lt;pymc.MCMC.MCMC at 0x2b1039f05590&gt;)"
       ]
      }
     ], 
     "prompt_number": 487
    }, 
    {
     "cell_type": "code", 
     "collapsed": true, 
     "input": [
      "country = 'FIN'", 
      "fin_pred = dismod3.covariates.predict_for(we, we.parameters['i'], 'all', 'total', 'all', country, sex, year,", 
      "                                                False, we.vars['i'], 0., 1.).T  # NOTE: do not population-weight average for emp prior", 
      "", 
      "fin_mu_prior = fin_pred.mean(1)", 
      "fin_sigma_prior = fin_pred.std(1)"
     ], 
     "language": "python", 
     "outputs": [], 
     "prompt_number": 498
    }, 
    {
     "cell_type": "code", 
     "collapsed": false, 
     "input": [
      "fin_wp = load_new_model(disease, country, sex)", 
      "", 
      "find_fnrfx_old(data_type, fin_wp, we.vars[data_type])", 
      "", 
      "result = dismod3.data.ModelVars()", 
      "fin_wp.vars += dismod3.ism.age_specific_rate(fin_wp, data_type, country, sex, year, None, fin_mu_prior, fin_sigma_prior)", 
      "", 
      "%time dismod3.fit.fit_asr(fin_wp, data_type, iter=iter, thin=thin, burn=burn)"
     ], 
     "language": "python", 
     "outputs": [
      {
       "output_type": "stream", 
       "stream": "stdout", 
       "text": [
        "kept 79 rows of data", 
        "adding smoothing of 0.5", 
        "using stored RE hyperprior for"
       ]
      }, 
      {
       "output_type": "stream", 
       "stream": "stdout", 
       "text": [
        " sigma_alpha_i_0 {&apos;mu&apos;: 0.073685314622345274, &apos;upper&apos;: 0.5, &apos;lower&apos;: 0.01, &apos;sigma&apos;: 0.019569477519580571, &apos;dist&apos;: &apos;TruncatedNormal&apos;}", 
        "using stored RE hyperprior for sigma_alpha_i_1 {&apos;mu&apos;: 0.074406197715962588, &apos;upper&apos;: 0.5, &apos;lower&apos;: 0.01, &apos;sigma&apos;: 0.017281432694739501, &apos;dist&apos;: &apos;TruncatedNormal&apos;}", 
        "using stored RE hyperprior for sigma_alpha_i_2 {&apos;mu&apos;: 0.22220558087665357, &apos;upper&apos;: 0.5, &apos;lower&apos;: 0.01, &apos;sigma&apos;: 0.017399677617347738, &apos;dist&apos;: &apos;TruncatedNormal&apos;}", 
        "using stored RE hyperprior for sigma_alpha_i_3 {&apos;mu&apos;: 0.074846442748043487, &apos;upper&apos;: 0.5, &apos;lower&apos;: 0.01, &apos;sigma&apos;: 0.019517416865654367, &apos;dist&apos;: &apos;TruncatedNormal&apos;}", 
        "using stored RE hyperprior for sigma_alpha_i_4 {&apos;mu&apos;: 0.076139214220113619, &apos;upper&apos;: 0.5, &apos;lower&apos;: 0.01, &apos;sigma&apos;: 0.018928443896331693, &apos;dist&apos;: &apos;TruncatedNormal&apos;}", 
        "using stored FE for beta_i_x_LDI_id_Updated_7July2011 x_LDI_id_Updated_7July2011 {&apos;mu&apos;: -0.12374487306589979, &apos;sigma&apos;: 0.17135796717127372, &apos;dist&apos;: &apos;Constant&apos;}", 
        "using stored FE for beta_i_x_ihme_health_system_access_19jul2011 x_ihme_health_system_access_19jul2011 {&apos;mu&apos;: 0.52798013576365332, &apos;sigma&apos;: 0.30684451353343983, &apos;dist&apos;: &apos;Constant&apos;}", 
        "using stored FE for beta_i_x_sex x_sex {&apos;mu&apos;: -0.41124793958334999, &apos;sigma&apos;: 0.9781838332329672, &apos;dist&apos;: &apos;Constant&apos;}", 
        "finding initial values"
       ]
      }, 
      {
       "output_type": "stream", 
       "stream": "stdout", 
       "text": [
        " ."
       ]
      }, 
      {
       "output_type": "stream", 
       "stream": "stdout", 
       "text": [
        " ."
       ]
      }, 
      {
       "output_type": "stream", 
       "stream": "stdout", 
       "text": [
        " ."
       ]
      }, 
      {
       "output_type": "stream", 
       "stream": "stdout", 
       "text": [
        " ", 
        "finding MAP estimate"
       ]
      }, 
      {
       "output_type": "stream", 
       "stream": "stdout", 
       "text": [
        " ", 
        "finding step covariances estimate"
       ]
      }, 
      {
       "output_type": "stream", 
       "stream": "stdout", 
       "text": [
        " ", 
        "resetting initial values (1)"
       ]
      }, 
      {
       "output_type": "stream", 
       "stream": "stdout", 
       "text": [
        " ."
       ]
      }, 
      {
       "output_type": "stream", 
       "stream": "stdout", 
       "text": [
        " ."
       ]
      }, 
      {
       "output_type": "stream", 
       "stream": "stdout", 
       "text": [
        " ."
       ]
      }, 
      {
       "output_type": "stream", 
       "stream": "stdout", 
       "text": [
        " ", 
        "resetting initial values (2)"
       ]
      }, 
      {
       "output_type": "stream", 
       "stream": "stdout", 
       "text": [
        "mare: 0.19", 
        "sampling from posterior"
       ]
      }, 
      {
       "output_type": "stream", 
       "stream": "stdout", 
       "text": [
        "CPU times: user 383.60 s, sys: 0.02 s, total: 383.63 s", 
        "Wall time: 383.67 s"
       ]
      }, 
      {
       "output_type": "pyout", 
       "prompt_number": 489, 
       "text": [
        "(&lt;pymc.NormalApproximation.MAP at 0x16b5b850&gt;,", 
        " &lt;pymc.MCMC.MCMC at 0x2b103eb9ee10&gt;)"
       ]
      }
     ], 
     "prompt_number": 489
    }, 
    {
     "cell_type": "code", 
     "collapsed": false, 
     "input": [
      "fin_wp.pred = dismod3.covariates.predict_for(fin_wp, fin_wp.parameters[data_type], country, sex, year, country, sex, year,", 
      "                                             True, fin_wp.vars[data_type], 0., 1.).T  # NOTE: don't pop-weight avg for emp prior"
     ], 
     "language": "python", 
     "outputs": [], 
     "prompt_number": 490
    }, 
    {
     "cell_type": "code", 
     "collapsed": false, 
     "input": [
      "dismod3.graphics.plot_data_bars(fin_wp.get_data(data_type))", 
      "pl.plot(fin_wp.pred.mean(axis=1), 's', label='posterior with emp prior')", 
      "pl.plot(pl.array(fin_mu_prior), label='emp mu_prior')", 
      "pl.plot(pl.array(fin_sigma_prior), label='emp sigma_prior')", 
      "", 
      "pl.legend(loc='upper left')"
     ], 
     "language": "python", 
     "outputs": [
      {
       "output_type": "pyout", 
       "prompt_number": 491, 
       "text": [
        "&lt;matplotlib.legend.Legend at 0x2b103f51ef90&gt;"
       ]
      }, 
      {
       "output_type": "display_data", 
       "png": "[encoded data removed]"
      }
     ], 
     "prompt_number": 491
    }, 
    {
     "cell_type": "markdown", 
     "source": [
      "Testing with old find_fnrfx and sigma_mu*10", 
      "-------------------------------------------", 
      "", 
      "Results: ", 
      "", 
      "* mare is lower (.09 v .19)", 
      "* posterior with emp prior follows pattern of data, but does not go through data"
     ]
    }, 
    {
     "cell_type": "code", 
     "collapsed": false, 
     "input": [
      "fin_wp10 = load_new_model(disease, country, sex)", 
      "", 
      "find_fnrfx_old(data_type, fin_wp10, we.vars[data_type])", 
      "", 
      "result = dismod3.data.ModelVars()", 
      "fin_wp10.vars += dismod3.ism.age_specific_rate(fin_wp10, data_type, country, sex, year, None, fin_mu_prior, fin_sigma_prior*10)", 
      "", 
      "%time dismod3.fit.fit_asr(fin_wp10, data_type, iter=iter, thin=thin, burn=burn)", 
      "", 
      "fin_wp10.pred = dismod3.covariates.predict_for(fin_wp10, fin_wp10.parameters[data_type], country, sex, year, country, sex, year,", 
      "                                               True, fin_wp10.vars[data_type], 0., 1.).T  # NOTE: don't pop-weight avg for emp prior"
     ], 
     "language": "python", 
     "outputs": [
      {
       "output_type": "stream", 
       "stream": "stdout", 
       "text": [
        "kept 79 rows of data", 
        "adding smoothing of 0.5", 
        "using stored RE hyperprior for"
       ]
      }, 
      {
       "output_type": "stream", 
       "stream": "stdout", 
       "text": [
        " sigma_alpha_i_0 {&apos;mu&apos;: 0.073685314622345274, &apos;upper&apos;: 0.5, &apos;lower&apos;: 0.01, &apos;sigma&apos;: 0.019569477519580571, &apos;dist&apos;: &apos;TruncatedNormal&apos;}", 
        "using stored RE hyperprior for sigma_alpha_i_1 {&apos;mu&apos;: 0.074406197715962588, &apos;upper&apos;: 0.5, &apos;lower&apos;: 0.01, &apos;sigma&apos;: 0.017281432694739501, &apos;dist&apos;: &apos;TruncatedNormal&apos;}", 
        "using stored RE hyperprior for sigma_alpha_i_2 {&apos;mu&apos;: 0.22220558087665357, &apos;upper&apos;: 0.5, &apos;lower&apos;: 0.01, &apos;sigma&apos;: 0.017399677617347738, &apos;dist&apos;: &apos;TruncatedNormal&apos;}", 
        "using stored RE hyperprior for sigma_alpha_i_3 {&apos;mu&apos;: 0.074846442748043487, &apos;upper&apos;: 0.5, &apos;lower&apos;: 0.01, &apos;sigma&apos;: 0.019517416865654367, &apos;dist&apos;: &apos;TruncatedNormal&apos;}", 
        "using stored RE hyperprior for sigma_alpha_i_4 {&apos;mu&apos;: 0.076139214220113619, &apos;upper&apos;: 0.5, &apos;lower&apos;: 0.01, &apos;sigma&apos;: 0.018928443896331693, &apos;dist&apos;: &apos;TruncatedNormal&apos;}", 
        "using stored FE for beta_i_x_LDI_id_Updated_7July2011 x_LDI_id_Updated_7July2011 {&apos;mu&apos;: -0.12374487306589979, &apos;sigma&apos;: 0.17135796717127372, &apos;dist&apos;: &apos;Constant&apos;}", 
        "using stored FE for beta_i_x_ihme_health_system_access_19jul2011 x_ihme_health_system_access_19jul2011 {&apos;mu&apos;: 0.52798013576365332, &apos;sigma&apos;: 0.30684451353343983, &apos;dist&apos;: &apos;Constant&apos;}", 
        "using stored FE for beta_i_x_sex x_sex {&apos;mu&apos;: -0.41124793958334999, &apos;sigma&apos;: 0.9781838332329672, &apos;dist&apos;: &apos;Constant&apos;}", 
        "finding initial values"
       ]
      }, 
      {
       "output_type": "stream", 
       "stream": "stdout", 
       "text": [
        " ."
       ]
      }, 
      {
       "output_type": "stream", 
       "stream": "stdout", 
       "text": [
        " ."
       ]
      }, 
      {
       "output_type": "stream", 
       "stream": "stdout", 
       "text": [
        " ."
       ]
      }, 
      {
       "output_type": "stream", 
       "stream": "stdout", 
       "text": [
        " ", 
        "finding MAP estimate"
       ]
      }, 
      {
       "output_type": "stream", 
       "stream": "stdout", 
       "text": [
        " ", 
        "finding step covariances estimate"
       ]
      }, 
      {
       "output_type": "stream", 
       "stream": "stdout", 
       "text": [
        " ", 
        "resetting initial values (1)"
       ]
      }, 
      {
       "output_type": "stream", 
       "stream": "stdout", 
       "text": [
        " ."
       ]
      }, 
      {
       "output_type": "stream", 
       "stream": "stdout", 
       "text": [
        " ."
       ]
      }, 
      {
       "output_type": "stream", 
       "stream": "stdout", 
       "text": [
        " ."
       ]
      }, 
      {
       "output_type": "stream", 
       "stream": "stdout", 
       "text": [
        " ", 
        "resetting initial values (2)"
       ]
      }, 
      {
       "output_type": "stream", 
       "stream": "stdout", 
       "text": [
        "mare: 0.09", 
        "sampling from posterior"
       ]
      }, 
      {
       "output_type": "stream", 
       "stream": "stdout", 
       "text": [
        "CPU times: user 378.39 s, sys: 0.03 s, total: 378.41 s", 
        "Wall time: 378.46 s"
       ]
      }
     ], 
     "prompt_number": 493
    }, 
    {
     "cell_type": "code", 
     "collapsed": false, 
     "input": [
      "dismod3.graphics.plot_data_bars(fin_wp.get_data(data_type))", 
      "", 
      "pl.plot(fin_wp.pred.mean(axis=1), 'gs', label='posterior with emp prior')", 
      "pl.plot(fin_wp10.pred.mean(axis=1), 'bs', label='posterior with emp prior and sigma*10')", 
      "pl.plot(pl.array(fin_mu_prior), label='emp mu_prior')", 
      "pl.plot(pl.array(fin_sigma_prior*10), label='emp sigma_prior *10')", 
      "", 
      "pl.legend(loc='upper left')"
     ], 
     "language": "python", 
     "outputs": [
      {
       "output_type": "pyout", 
       "prompt_number": 499, 
       "text": [
        "&lt;matplotlib.legend.Legend at 0x2b1039e66190&gt;"
       ]
      }, 
      {
       "output_type": "display_data", 
       "png": "[encoded data removed]"
      }
     ], 
     "prompt_number": 499
    }, 
    {
     "cell_type": "markdown", 
     "source": [
      "Testing with old find_fnrfx globally", 
      "------------------------------------", 
      "", 
      "Results: ", 
      "", 
      "* my posterior for globe is similar but not exact to dismod-mr from web", 
      "* global mare is .28", 
      "* using global predictions as emp prior mare is .55", 
      "* posterior with emp prior and emp prior are exact"
     ]
    }, 
    {
     "cell_type": "code", 
     "collapsed": false, 
     "input": [
      "globe = load_new_model(disease, 'all', ['total', 'male', 'female'])", 
      "", 
      "globe.vars += dismod3.ism.age_specific_rate(globe, data_type)", 
      "%time dismod3.fit.fit_asr(globe, data_type, iter=iter, thin=thin, burn=burn)"
     ], 
     "language": "python", 
     "outputs": [
      {
       "output_type": "stream", 
       "stream": "stdout", 
       "text": [
        "kept 9368 rows of data", 
        "adding smoothing of 0.5", 
        "finding initial values"
       ]
      }, 
      {
       "output_type": "stream", 
       "stream": "stdout", 
       "text": [
        " ."
       ]
      }, 
      {
       "output_type": "stream", 
       "stream": "stdout", 
       "text": [
        " ."
       ]
      }, 
      {
       "output_type": "stream", 
       "stream": "stdout", 
       "text": [
        " ."
       ]
      }, 
      {
       "output_type": "stream", 
       "stream": "stdout", 
       "text": [
        " ", 
        "finding MAP estimate"
       ]
      }, 
      {
       "output_type": "stream", 
       "stream": "stdout", 
       "text": [
        " ", 
        "finding step covariances estimate"
       ]
      }, 
      {
       "output_type": "stream", 
       "stream": "stdout", 
       "text": [
        " ", 
        "resetting initial values (1)"
       ]
      }, 
      {
       "output_type": "stream", 
       "stream": "stdout", 
       "text": [
        " ."
       ]
      }, 
      {
       "output_type": "stream", 
       "stream": "stdout", 
       "text": [
        " ."
       ]
      }, 
      {
       "output_type": "stream", 
       "stream": "stdout", 
       "text": [
        " ."
       ]
      }, 
      {
       "output_type": "stream", 
       "stream": "stdout", 
       "text": [
        " ", 
        "resetting initial values (2)"
       ]
      }, 
      {
       "output_type": "stream", 
       "stream": "stdout", 
       "text": [
        "mare: 0.28", 
        "sampling from posterior"
       ]
      }, 
      {
       "output_type": "stream", 
       "stream": "stdout", 
       "text": [
        "CPU times: user 2678.79 s, sys: 0.13 s, total: 2678.92 s", 
        "Wall time: 2679.29 s"
       ]
      }, 
      {
       "output_type": "pyout", 
       "prompt_number": 500, 
       "text": [
        "(&lt;pymc.NormalApproximation.MAP at 0x2b102451fc50&gt;,", 
        " &lt;pymc.MCMC.MCMC at 0x2b1039e63750&gt;)"
       ]
      }
     ], 
     "prompt_number": 500
    }, 
    {
     "cell_type": "code", 
     "collapsed": true, 
     "input": [
      "country = 'FIN'", 
      "", 
      "dm_fin_mu, dm_fin_sig = get_emp(disease, data_type, country, sex, year)", 
      "fing_pred = dismod3.covariates.predict_for(globe, globe.parameters['i'], 'all', 'total', 'all', country, sex, year,", 
      "                                           False, globe.vars['i'], 0., 1.).T  # NOTE: do not population-weight average for emp prior", 
      "fing_mu_prior = fing_pred.mean(1)", 
      "fing_sigma_prior = fing_pred.std(1)"
     ], 
     "language": "python", 
     "outputs": [], 
     "prompt_number": 501
    }, 
    {
     "cell_type": "code", 
     "collapsed": false, 
     "input": [
      "pl.plot(pl.array(dm_fin_mu), label='dismod-mr')", 
      "pl.plot(pl.array(fing_mu_prior), label='my_test')", 
      "pl.legend(loc='upper left')"
     ], 
     "language": "python", 
     "outputs": [
      {
       "output_type": "pyout", 
       "prompt_number": 504, 
       "text": [
        "&lt;matplotlib.legend.Legend at 0x2b103bccdd10&gt;"
       ]
      }, 
      {
       "output_type": "display_data", 
       "png": "[encoded data removed]"
      }
     ], 
     "prompt_number": 504
    }, 
    {
     "cell_type": "code", 
     "collapsed": false, 
     "input": [
      "fing_wp = load_new_model(disease, country, sex)", 
      "", 
      "find_fnrfx_old(data_type, fing_wp, globe.vars[data_type])", 
      "", 
      "result = dismod3.data.ModelVars()", 
      "fing_wp.vars += dismod3.ism.age_specific_rate(fing_wp, data_type, country, sex, year, None, fing_mu_prior, fing_sigma_prior)", 
      "", 
      "%time dismod3.fit.fit_asr(fing_wp, data_type, iter=iter, thin=thin, burn=burn)"
     ], 
     "language": "python", 
     "outputs": [
      {
       "output_type": "stream", 
       "stream": "stdout", 
       "text": [
        "kept 79 rows of data", 
        "adding smoothing of 0.5", 
        "using stored RE hyperprior for"
       ]
      }, 
      {
       "output_type": "stream", 
       "stream": "stdout", 
       "text": [
        " sigma_alpha_i_0 {&apos;mu&apos;: 0.077194116906617719, &apos;upper&apos;: 0.5, &apos;lower&apos;: 0.01, &apos;sigma&apos;: 0.019640994846720956, &apos;dist&apos;: &apos;TruncatedNormal&apos;}", 
        "using stored RE hyperprior for sigma_alpha_i_1 {&apos;mu&apos;: 0.073537766946642116, &apos;upper&apos;: 0.5, &apos;lower&apos;: 0.01, &apos;sigma&apos;: 0.016578233022928282, &apos;dist&apos;: &apos;TruncatedNormal&apos;}", 
        "using stored RE hyperprior for sigma_alpha_i_2 {&apos;mu&apos;: 0.090965602178726693, &apos;upper&apos;: 0.5, &apos;lower&apos;: 0.01, &apos;sigma&apos;: 0.022137577550942936, &apos;dist&apos;: &apos;TruncatedNormal&apos;}", 
        "using stored RE hyperprior for sigma_alpha_i_3 {&apos;mu&apos;: 0.22198925779666967, &apos;upper&apos;: 0.5, &apos;lower&apos;: 0.01, &apos;sigma&apos;: 0.014718729836434493, &apos;dist&apos;: &apos;TruncatedNormal&apos;}", 
        "using stored RE hyperprior for sigma_alpha_i_4 {&apos;mu&apos;: 0.076901884535768503, &apos;upper&apos;: 0.5, &apos;lower&apos;: 0.01, &apos;sigma&apos;: 0.018468706036531331, &apos;dist&apos;: &apos;TruncatedNormal&apos;}", 
        "using stored FE for beta_i_x_LDI_id_Updated_7July2011 x_LDI_id_Updated_7July2011 {&apos;mu&apos;: -0.030517040493272779, &apos;sigma&apos;: 0.033787498197511243, &apos;dist&apos;: &apos;Constant&apos;}", 
        "using stored FE for beta_i_x_ihme_health_system_access_19jul2011 x_ihme_health_system_access_19jul2011 {&apos;mu&apos;: 0.57084957071327447, &apos;sigma&apos;: 0.039753087966462833, &apos;dist&apos;: &apos;Constant&apos;}", 
        "using stored FE for beta_i_x_sex x_sex {&apos;mu&apos;: 0.32811844514718513, &apos;sigma&apos;: 0.015337392974150628, &apos;dist&apos;: &apos;Constant&apos;}", 
        "finding initial values"
       ]
      }, 
      {
       "output_type": "stream", 
       "stream": "stdout", 
       "text": [
        " ."
       ]
      }, 
      {
       "output_type": "stream", 
       "stream": "stdout", 
       "text": [
        " ."
       ]
      }, 
      {
       "output_type": "stream", 
       "stream": "stdout", 
       "text": [
        " ."
       ]
      }, 
      {
       "output_type": "stream", 
       "stream": "stdout", 
       "text": [
        " ", 
        "finding MAP estimate"
       ]
      }, 
      {
       "output_type": "stream", 
       "stream": "stdout", 
       "text": [
        " ", 
        "finding step covariances estimate"
       ]
      }, 
      {
       "output_type": "stream", 
       "stream": "stdout", 
       "text": [
        " ", 
        "resetting initial values (1)"
       ]
      }, 
      {
       "output_type": "stream", 
       "stream": "stdout", 
       "text": [
        " ."
       ]
      }, 
      {
       "output_type": "stream", 
       "stream": "stdout", 
       "text": [
        " ."
       ]
      }, 
      {
       "output_type": "stream", 
       "stream": "stdout", 
       "text": [
        " ."
       ]
      }, 
      {
       "output_type": "stream", 
       "stream": "stdout", 
       "text": [
        " ", 
        "resetting initial values (2)"
       ]
      }, 
      {
       "output_type": "stream", 
       "stream": "stdout", 
       "text": [
        "mare: 0.55", 
        "sampling from posterior"
       ]
      }, 
      {
       "output_type": "stream", 
       "stream": "stdout", 
       "text": [
        "CPU times: user 377.48 s, sys: 0.02 s, total: 377.50 s", 
        "Wall time: 377.54 s"
       ]
      }, 
      {
       "output_type": "pyout", 
       "prompt_number": 505, 
       "text": [
        "(&lt;pymc.NormalApproximation.MAP at 0x2b1016ab89d0&gt;,", 
        " &lt;pymc.MCMC.MCMC at 0x2b103ee4b5d0&gt;)"
       ]
      }
     ], 
     "prompt_number": 505
    }, 
    {
     "cell_type": "code", 
     "collapsed": true, 
     "input": [
      "fing_wp.pred = dismod3.covariates.predict_for(fing_wp, fing_wp.parameters[data_type], country, sex, year, country, sex, year,", 
      "                                               True, fing_wp.vars[data_type], 0., 1.).T  # NOTE: don't pop-weight avg for emp prior"
     ], 
     "language": "python", 
     "outputs": [], 
     "prompt_number": 506
    }, 
    {
     "cell_type": "code", 
     "collapsed": false, 
     "input": [
      "dismod3.graphics.plot_data_bars(fing_wp.get_data(data_type))", 
      "pl.plot(fing_wp.pred.mean(axis=1), 's', label='posterior with emp prior')", 
      "pl.plot(pl.array(fing_mu_prior), label='emp mu_prior')", 
      "pl.plot(pl.array(fing_sigma_prior), label='emp sigma_prior')", 
      "", 
      "pl.legend(loc='upper left')"
     ], 
     "language": "python", 
     "outputs": [
      {
       "output_type": "pyout", 
       "prompt_number": 507, 
       "text": [
        "&lt;matplotlib.legend.Legend at 0x2b103f68c890&gt;"
       ]
      }, 
      {
       "output_type": "display_data", 
       "png": "[encoded data removed]"
      }
     ], 
     "prompt_number": 507
    }, 
    {
     "cell_type": "markdown", 
     "source": [
      "Testing with old find_fnrfx for globe with sigma_mu*10", 
      "-------------------------------------------", 
      "", 
      "Results: ", 
      "", 
      "* mare is lower (.14 v .55)", 
      "* posterior with emp prior similar shape to data but only follows half of data"
     ]
    }, 
    {
     "cell_type": "code", 
     "collapsed": false, 
     "input": [
      "fing_wp10 = load_new_model(disease, country, sex)", 
      "", 
      "find_fnrfx_old(data_type, fing_wp10, globe.vars[data_type])", 
      "", 
      "result = dismod3.data.ModelVars()", 
      "fing_wp10.vars += dismod3.ism.age_specific_rate(fing_wp10, data_type, country, sex, year, None, fing_mu_prior, fing_sigma_prior*10)", 
      "", 
      "%time dismod3.fit.fit_asr(fing_wp10, data_type, iter=iter, thin=thin, burn=burn)"
     ], 
     "language": "python", 
     "outputs": [
      {
       "output_type": "stream", 
       "stream": "stdout", 
       "text": [
        "kept 79 rows of data", 
        "adding smoothing of 0.5", 
        "using stored RE hyperprior for"
       ]
      }, 
      {
       "output_type": "stream", 
       "stream": "stdout", 
       "text": [
        " sigma_alpha_i_0 {&apos;mu&apos;: 0.077194116906617719, &apos;upper&apos;: 0.5, &apos;lower&apos;: 0.01, &apos;sigma&apos;: 0.019640994846720956, &apos;dist&apos;: &apos;TruncatedNormal&apos;}", 
        "using stored RE hyperprior for sigma_alpha_i_1 {&apos;mu&apos;: 0.073537766946642116, &apos;upper&apos;: 0.5, &apos;lower&apos;: 0.01, &apos;sigma&apos;: 0.016578233022928282, &apos;dist&apos;: &apos;TruncatedNormal&apos;}", 
        "using stored RE hyperprior for sigma_alpha_i_2 {&apos;mu&apos;: 0.090965602178726693, &apos;upper&apos;: 0.5, &apos;lower&apos;: 0.01, &apos;sigma&apos;: 0.022137577550942936, &apos;dist&apos;: &apos;TruncatedNormal&apos;}", 
        "using stored RE hyperprior for sigma_alpha_i_3 {&apos;mu&apos;: 0.22198925779666967, &apos;upper&apos;: 0.5, &apos;lower&apos;: 0.01, &apos;sigma&apos;: 0.014718729836434493, &apos;dist&apos;: &apos;TruncatedNormal&apos;}", 
        "using stored RE hyperprior for sigma_alpha_i_4 {&apos;mu&apos;: 0.076901884535768503, &apos;upper&apos;: 0.5, &apos;lower&apos;: 0.01, &apos;sigma&apos;: 0.018468706036531331, &apos;dist&apos;: &apos;TruncatedNormal&apos;}", 
        "using stored FE for beta_i_x_LDI_id_Updated_7July2011 x_LDI_id_Updated_7July2011 {&apos;mu&apos;: -0.030517040493272779, &apos;sigma&apos;: 0.033787498197511243, &apos;dist&apos;: &apos;Constant&apos;}", 
        "using stored FE for beta_i_x_ihme_health_system_access_19jul2011 x_ihme_health_system_access_19jul2011 {&apos;mu&apos;: 0.57084957071327447, &apos;sigma&apos;: 0.039753087966462833, &apos;dist&apos;: &apos;Constant&apos;}", 
        "using stored FE for beta_i_x_sex x_sex {&apos;mu&apos;: 0.32811844514718513, &apos;sigma&apos;: 0.015337392974150628, &apos;dist&apos;: &apos;Constant&apos;}", 
        "finding initial values"
       ]
      }, 
      {
       "output_type": "stream", 
       "stream": "stdout", 
       "text": [
        " ."
       ]
      }, 
      {
       "output_type": "stream", 
       "stream": "stdout", 
       "text": [
        " ."
       ]
      }, 
      {
       "output_type": "stream", 
       "stream": "stdout", 
       "text": [
        " ."
       ]
      }, 
      {
       "output_type": "stream", 
       "stream": "stdout", 
       "text": [
        " ", 
        "finding MAP estimate"
       ]
      }, 
      {
       "output_type": "stream", 
       "stream": "stdout", 
       "text": [
        " ", 
        "finding step covariances estimate"
       ]
      }, 
      {
       "output_type": "stream", 
       "stream": "stdout", 
       "text": [
        " ", 
        "resetting initial values (1)"
       ]
      }, 
      {
       "output_type": "stream", 
       "stream": "stdout", 
       "text": [
        " ."
       ]
      }, 
      {
       "output_type": "stream", 
       "stream": "stdout", 
       "text": [
        " ."
       ]
      }, 
      {
       "output_type": "stream", 
       "stream": "stdout", 
       "text": [
        " ."
       ]
      }, 
      {
       "output_type": "stream", 
       "stream": "stdout", 
       "text": [
        " ", 
        "resetting initial values (2)"
       ]
      }, 
      {
       "output_type": "stream", 
       "stream": "stdout", 
       "text": [
        "mare: 0.14", 
        "sampling from posterior"
       ]
      }, 
      {
       "output_type": "stream", 
       "stream": "stdout", 
       "text": [
        "CPU times: user 374.13 s, sys: 0.03 s, total: 374.16 s", 
        "Wall time: 374.20 s"
       ]
      }, 
      {
       "output_type": "pyout", 
       "prompt_number": 508, 
       "text": [
        "(&lt;pymc.NormalApproximation.MAP at 0x21fd8990&gt;,", 
        " &lt;pymc.MCMC.MCMC at 0x2b103f477750&gt;)"
       ]
      }
     ], 
     "prompt_number": 508
    }, 
    {
     "cell_type": "code", 
     "collapsed": true, 
     "input": [
      "fing_wp10.pred = dismod3.covariates.predict_for(fing_wp10, fing_wp10.parameters[data_type], country, sex, year, country, sex, year,", 
      "                                                True, fing_wp10.vars[data_type], 0., 1.).T  # NOTE: don't pop-weight avg for emp prior"
     ], 
     "language": "python", 
     "outputs": [], 
     "prompt_number": 509
    }, 
    {
     "cell_type": "code", 
     "collapsed": false, 
     "input": [
      "dismod3.graphics.plot_data_bars(fin_wp.get_data(data_type))", 
      "", 
      "pl.plot(fing_wp10.pred.mean(axis=1), 's', label='posterior with emp prior')", 
      "pl.plot(pl.array(fing_mu_prior), label='emp mu_prior')", 
      "pl.plot(pl.array(fing_sigma_prior*10), label='emp sigma_prior *10')", 
      "", 
      "pl.legend(loc='upper left')"
     ], 
     "language": "python", 
     "outputs": [
      {
       "output_type": "pyout", 
       "prompt_number": 512, 
       "text": [
        "&lt;matplotlib.legend.Legend at 0x2b103f56ae50&gt;"
       ]
      }, 
      {
       "output_type": "display_data", 
       "png": "[encoded data removed]"
      }
     ], 
     "prompt_number": 512
    }, 
    {
     "cell_type": "markdown", 
     "source": [
      "compare find_fnrfx new and old", 
      "------------------------------", 
      "", 
      "Results:", 
      "", 
      "* values for fixed and random effects are similar", 
      "* random effects for regions and superregions not loaded with new method"
     ]
    }, 
    {
     "cell_type": "code", 
     "collapsed": false, 
     "input": [
      "country = 'FIN'", 
      "region = geo_info(country, disease)", 
      "", 
      "old_method = load_new_model(disease, country, sex)", 
      "find_fnrfx_old(data_type, old_method, globe.vars[data_type])", 
      "", 
      "new_method = load_new_model(disease, country, sex)", 
      "find_fnrfx(new_method, disease, data_type, country, region, sex, year)"
     ], 
     "language": "python", 
     "outputs": [
      {
       "output_type": "stream", 
       "stream": "stdout", 
       "text": [
        "kept 0 rows of data", 
        "kept 79 rows of data"
       ]
      }, 
      {
       "output_type": "stream", 
       "stream": "stdout", 
       "text": [
        "", 
        "kept 79 rows of data"
       ]
      }, 
      {
       "output_type": "stream", 
       "stream": "stdout", 
       "text": [
        "", 
        "kept 79 rows of data"
       ]
      }, 
      {
       "output_type": "stream", 
       "stream": "stdout", 
       "text": [
        "", 
        "adding smoothing of 0.5"
       ]
      }
     ], 
     "prompt_number": 513
    }, 
    {
     "cell_type": "code", 
     "collapsed": false, 
     "input": [
      "for i in old_method.parameters[data_type]['fixed_effects'].keys():", 
      "    print i", 
      "    print 'old:', old_method.parameters[data_type]['fixed_effects'][i]", 
      "    print 'new:', new_method.parameters[data_type]['fixed_effects'][i]"
     ], 
     "language": "python", 
     "outputs": [
      {
       "output_type": "stream", 
       "stream": "stdout", 
       "text": [
        "x_sex", 
        "old: {&apos;mu&apos;: 0.32811844514718513, &apos;sigma&apos;: 0.015337392974150628, &apos;dist&apos;: &apos;Constant&apos;}", 
        "new: {&apos;mu&apos;: 0.33885669031900001, &apos;sigma&apos;: 0.011531617794699999, &apos;dist&apos;: &apos;Constant&apos;}", 
        "x_ihme_health_system_access_19jul2011", 
        "old: {&apos;mu&apos;: 0.57084957071327447, &apos;sigma&apos;: 0.039753087966462833, &apos;dist&apos;: &apos;Constant&apos;}", 
        "new: {&apos;mu&apos;: 0.615123922155, &apos;sigma&apos;: 0.036738326492500001, &apos;dist&apos;: &apos;Constant&apos;}", 
        "x_LDI_id_Updated_7July2011", 
        "old: {&apos;mu&apos;: -0.030517040493272779, &apos;sigma&apos;: 0.033787498197511243, &apos;dist&apos;: &apos;Constant&apos;}", 
        "new: {&apos;mu&apos;: -0.080124265188800003, &apos;sigma&apos;: 0.0399317122612, &apos;dist&apos;: &apos;Constant&apos;}"
       ]
      }
     ], 
     "prompt_number": 514
    }, 
    {
     "cell_type": "code", 
     "collapsed": false, 
     "input": [
      "for i in old_method.parameters[data_type]['random_effects'].keys():", 
      "    print i", 
      "    try:", 
      "        print '  old:', old_method.parameters[data_type]['random_effects'][i]", 
      "        print '  new:', new_method.parameters[data_type]['random_effects'][i]", 
      "    except:", 
      "        print 'FAIL'"
     ], 
     "language": "python", 
     "outputs": [
      {
       "output_type": "stream", 
       "stream": "stdout", 
       "text": [
        " europe_eastern", 
        "  old: {&apos;mu&apos;: 0.1143302405303404, &apos;sigma&apos;: 0.082884647400794417, &apos;dist&apos;: &apos;Constant&apos;}", 
        "  new: FAIL", 
        "BEL", 
        "  old: {&apos;mu&apos;: 0.58193569850338023, &apos;sigma&apos;: 0.055252366201294194, &apos;dist&apos;: &apos;Constant&apos;}", 
        "  new: {&apos;mu&apos;: 0.59467768059600001, &apos;sigma&apos;: 0.029121431965699999, &apos;dist&apos;: &apos;Constant&apos;}", 
        "ISR", 
        "  old: {&apos;mu&apos;: 0.59711219191801146, &apos;sigma&apos;: 0.055734915305622253, &apos;dist&apos;: &apos;Constant&apos;}", 
        "  new: {&apos;mu&apos;: 0.58058836699799998, &apos;sigma&apos;: 0.027653391998400001, &apos;dist&apos;: &apos;Constant&apos;}", 
        "super-region_1", 
        "  old: {&apos;mu&apos;: -0.015705045683142429, &apos;sigma&apos;: 0.077002365134099665, &apos;dist&apos;: &apos;Constant&apos;}", 
        "  new: FAIL", 
        "super-region_0", 
        "  old: {&apos;mu&apos;: -0.030808199847670838, &apos;sigma&apos;: 0.069614289383039943, &apos;dist&apos;: &apos;Constant&apos;}", 
        "  new: FAIL", 
        "GBR", 
        "  old: {&apos;mu&apos;: -0.26037330279852255, &apos;sigma&apos;: 0.052317317706023513, &apos;dist&apos;: &apos;Constant&apos;}", 
        "  new: {&apos;mu&apos;: -0.23817361464, &apos;sigma&apos;: 0.024252572182500001, &apos;dist&apos;: &apos;Constant&apos;}", 
        "ISL", 
        "  old: {&apos;mu&apos;: -0.1780085962506649, &apos;sigma&apos;: 0.059531804569408209, &apos;dist&apos;: &apos;Constant&apos;}", 
        "  new: {&apos;mu&apos;: -0.18042107899199999, &apos;sigma&apos;: 0.041102922424800001, &apos;dist&apos;: &apos;Constant&apos;}", 
        "SVK", 
        "  old: {&apos;mu&apos;: 0.31189865959019442, &apos;sigma&apos;: 0.09308924787977696, &apos;dist&apos;: &apos;Constant&apos;}", 
        "  new: FAIL", 
        "CYP", 
        "  old: {&apos;mu&apos;: -0.74820187911595715, &apos;sigma&apos;: 0.064941923141129426, &apos;dist&apos;: &apos;Constant&apos;}", 
        "  new: {&apos;mu&apos;: -0.75608147595800002, &apos;sigma&apos;: 0.047387719618300003, &apos;dist&apos;: &apos;Constant&apos;}", 
        "USA", 
        "  old: {&apos;mu&apos;: 0.26778823050692629, &apos;sigma&apos;: 0.085384546698011349, &apos;dist&apos;: &apos;Constant&apos;}", 
        "  new: FAIL", 
        "europe_central", 
        "  old: {&apos;mu&apos;: -0.1176809737855305, &apos;sigma&apos;: 0.067245698716398419, &apos;dist&apos;: &apos;Constant&apos;}", 
        "  new: FAIL", 
        "ESP", 
        "  old: {&apos;mu&apos;: 0.36946086545465179, &apos;sigma&apos;: 0.049287418698352368, &apos;dist&apos;: &apos;Constant&apos;}", 
        "  new: {&apos;mu&apos;: 0.38817185165099999, &apos;sigma&apos;: 0.023732173438, &apos;dist&apos;: &apos;Constant&apos;}", 
        "PRT", 
        "  old: {&apos;mu&apos;: -0.24198198165469276, &apos;sigma&apos;: 0.086741266004942488, &apos;dist&apos;: &apos;Constant&apos;}", 
        "  new: {&apos;mu&apos;: -0.225674192902, &apos;sigma&apos;: 0.042389172565200001, &apos;dist&apos;: &apos;Constant&apos;}", 
        "sigma_alpha_i_4", 
        "  old: {&apos;mu&apos;: 0.076901884535768503, &apos;upper&apos;: 0.5, &apos;lower&apos;: 0.01, &apos;sigma&apos;: 0.018468706036531331, &apos;dist&apos;: &apos;TruncatedNormal&apos;}", 
        "  new: {&apos;mu&apos;: 0.4002607949407302, &apos;upper&apos;: 0.5, &apos;lower&apos;: 0.01, &apos;sigma&apos;: 0.01792897373218768, &apos;dist&apos;: &apos;TruncatedNormal&apos;}", 
        "sigma_alpha_i_2", 
        "  old: {&apos;mu&apos;: 0.090965602178726693, &apos;upper&apos;: 0.5, &apos;lower&apos;: 0.01, &apos;sigma&apos;: 0.022137577550942936, &apos;dist&apos;: &apos;TruncatedNormal&apos;}", 
        "  new: {&apos;mu&apos;: 0.4634309252921577, &apos;upper&apos;: 0.5, &apos;lower&apos;: 0.01, &apos;sigma&apos;: 0.01579657840109888, &apos;dist&apos;: &apos;TruncatedNormal&apos;}", 
        "NLD", 
        "  old: {&apos;mu&apos;: -0.1190927326889975, &apos;sigma&apos;: 0.056716042344349543, &apos;dist&apos;: &apos;Constant&apos;}", 
        "  new: {&apos;mu&apos;: -0.090998649208599999, &apos;sigma&apos;: 0.040315738720900003, &apos;dist&apos;: &apos;Constant&apos;}", 
        "sigma_alpha_i_0", 
        "  old: {&apos;mu&apos;: 0.077194116906617719, &apos;upper&apos;: 0.5, &apos;lower&apos;: 0.01, &apos;sigma&apos;: 0.019640994846720956, &apos;dist&apos;: &apos;TruncatedNormal&apos;}", 
        "  new: {&apos;mu&apos;: 0.40038784205565964, &apos;upper&apos;: 0.5, &apos;lower&apos;: 0.01, &apos;sigma&apos;: 0.0179577011663249, &apos;dist&apos;: &apos;TruncatedNormal&apos;}", 
        "sigma_alpha_i_1", 
        "  old: {&apos;mu&apos;: 0.073537766946642116, &apos;upper&apos;: 0.5, &apos;lower&apos;: 0.01, &apos;sigma&apos;: 0.016578233022928282, &apos;dist&apos;: &apos;TruncatedNormal&apos;}", 
        "  new: {&apos;mu&apos;: 0.39363418122886557, &apos;upper&apos;: 0.5, &apos;lower&apos;: 0.01, &apos;sigma&apos;: 0.014273765599462654, &apos;dist&apos;: &apos;TruncatedNormal&apos;}", 
        "sigma_alpha_i_3", 
        "  old: {&apos;mu&apos;: 0.22198925779666967, &apos;upper&apos;: 0.5, &apos;lower&apos;: 0.01, &apos;sigma&apos;: 0.014718729836434493, &apos;dist&apos;: &apos;TruncatedNormal&apos;}", 
        "  new: {&apos;mu&apos;: 0.5303942834212227, &apos;upper&apos;: 0.5, &apos;lower&apos;: 0.01, &apos;sigma&apos;: 0.015158994660545015, &apos;dist&apos;: &apos;TruncatedNormal&apos;}", 
        "SVN", 
        "  old: {&apos;mu&apos;: -0.43093344979940901, &apos;sigma&apos;: 0.090750916579628568, &apos;dist&apos;: &apos;Constant&apos;}", 
        "  new: FAIL", 
        "CHE", 
        "  old: {&apos;mu&apos;: -0.48226302819883415, &apos;sigma&apos;: 0.068202427133784868, &apos;dist&apos;: &apos;Constant&apos;}", 
        "  new: {&apos;mu&apos;: -0.44470440747500001, &apos;sigma&apos;: 0.031570632671900002, &apos;dist&apos;: &apos;Constant&apos;}", 
        "LTU", 
        "  old: {&apos;mu&apos;: 0.50715048324050216, &apos;sigma&apos;: 0.092474361087588025, &apos;dist&apos;: &apos;Constant&apos;}", 
        "  new: FAIL", 
        "europe_western", 
        "  old: {&apos;mu&apos;: -0.078629131957538081, &apos;sigma&apos;: 0.057403967165502418, &apos;dist&apos;: &apos;Constant&apos;}", 
        "  new: FAIL", 
        "HRV", 
        "  old: {&apos;mu&apos;: -0.28444243560451449, &apos;sigma&apos;: 0.080985123923127636, &apos;dist&apos;: &apos;Constant&apos;}", 
        "  new: FAIL", 
        "DNK", 
        "  old: {&apos;mu&apos;: -0.14805890249623085, &apos;sigma&apos;: 0.049963713685525386, &apos;dist&apos;: &apos;Constant&apos;}", 
        "  new: {&apos;mu&apos;: -0.116903903462, &apos;sigma&apos;: 0.030832768683699999, &apos;dist&apos;: &apos;Constant&apos;}", 
        "LVA", 
        "  old: {&apos;mu&apos;: 0.19130303267082818, &apos;sigma&apos;: 0.084741870175550918, &apos;dist&apos;: &apos;Constant&apos;}", 
        "  new: FAIL", 
        "AUT", 
        "  old: {&apos;mu&apos;: 0.17095304553300469, &apos;sigma&apos;: 0.046127452408435257, &apos;dist&apos;: &apos;Constant&apos;}", 
        "  new: {&apos;mu&apos;: 0.19980469934600001, &apos;sigma&apos;: 0.0262404292092, &apos;dist&apos;: &apos;Constant&apos;}", 
        "FIN", 
        "  old: {&apos;mu&apos;: 0.22929428185110115, &apos;sigma&apos;: 0.055920927378018827, &apos;dist&apos;: &apos;Constant&apos;}", 
        "  new: {&apos;mu&apos;: 0.24284462450399999, &apos;sigma&apos;: 0.0279704638943, &apos;dist&apos;: &apos;Constant&apos;}", 
        "north_america_high_income", 
        "  old: {&apos;mu&apos;: 0.046006036105296071, &apos;sigma&apos;: 0.071458564461565857, &apos;dist&apos;: &apos;Constant&apos;}", 
        "  new: FAIL", 
        "ITA", 
        "  old: {&apos;mu&apos;: 0.30097358259907409, &apos;sigma&apos;: 0.059433578124058861, &apos;dist&apos;: &apos;Constant&apos;}", 
        "  new: {&apos;mu&apos;: 0.32238991441300002, &apos;sigma&apos;: 0.028265011867699998, &apos;dist&apos;: &apos;Constant&apos;}", 
        "NOR", 
        "  old: {&apos;mu&apos;: -0.33758961221984429, &apos;sigma&apos;: 0.052609525378871341, &apos;dist&apos;: &apos;Constant&apos;}", 
        "  new: {&apos;mu&apos;: -0.27551981487100002, &apos;sigma&apos;: 0.043505068396399997, &apos;dist&apos;: &apos;Constant&apos;}", 
        "CZE", 
        "  old: {&apos;mu&apos;: -0.29161604282845094, &apos;sigma&apos;: 0.081420724330386385, &apos;dist&apos;: &apos;Constant&apos;}", 
        "  new: FAIL"
       ]
      }
     ], 
     "prompt_number": 516
    }, 
    {
     "cell_type": "markdown", 
     "source": [
      "testing new fnrfx with 'old' values", 
      "---------", 
      "", 
      "Results:", 
      "", 
      "* mare is high (1.7E6)", 
      "* posterior is near-zero"
     ]
    }, 
    {
     "cell_type": "code", 
     "collapsed": false, 
     "input": [
      "country = 'FIN'", 
      "", 
      "oldval = load_new_model(disease, country, sex)", 
      "oldval_mu, oldval_sigma = get_emp(disease, data_type, country, sex, year) ", 
      "", 
      "find_fnrfx(oldval, disease, data_type, country, region, sex, year)"
     ], 
     "language": "python", 
     "outputs": [
      {
       "output_type": "stream", 
       "stream": "stdout", 
       "text": [
        "kept 79 rows of data", 
        "kept 79 rows of data"
       ]
      }, 
      {
       "output_type": "stream", 
       "stream": "stdout", 
       "text": [
        "", 
        "adding smoothing of 0.5"
       ]
      }
     ], 
     "prompt_number": 518
    }, 
    {
     "cell_type": "code", 
     "collapsed": false, 
     "input": [
      "old_method = load_new_model(disease, country, sex)", 
      "find_fnrfx_old(data_type, old_method, globe.vars[data_type])"
     ], 
     "language": "python", 
     "outputs": [
      {
       "output_type": "stream", 
       "stream": "stdout", 
       "text": [
        "kept 79 rows of data"
       ]
      }
     ], 
     "prompt_number": 519
    }, 
    {
     "cell_type": "code", 
     "collapsed": false, 
     "input": [
      "for n in oldval.parameters[data_type]['random_effects'].keys():", 
      "    oldval.parameters[data_type]['random_effects'][n] = old_method.parameters[data_type]['random_effects'][n]", 
      "", 
      "for n in oldval.parameters[data_type]['fixed_effects'].keys():", 
      "    oldval.parameters[data_type]['fixed_effects'][n] = old_method.parameters[data_type]['fixed_effects'][n]"
     ], 
     "language": "python", 
     "outputs": [], 
     "prompt_number": 520
    }, 
    {
     "cell_type": "code", 
     "collapsed": false, 
     "input": [
      "oldval.vars += dismod3.ism.age_specific_rate(oldval, data_type, country, sex, year, None, oldval_mu, oldval_sigma)", 
      "%time dismod3.fit.fit_asr(oldval, data_type, iter=iter, thin=thin, burn=burn)", 
      "oldval.pred = dismod3.covariates.predict_for(oldval, oldval.parameters[data_type], ", 
      "                                              country, sex, year, country, sex, year,", 
      "                                              1., oldval.vars[data_type], 0., 1.).T"
     ], 
     "language": "python", 
     "outputs": [
      {
       "output_type": "stream", 
       "stream": "stdout", 
       "text": [
        "adding smoothing of 0.5", 
        "using stored RE hyperprior for"
       ]
      }, 
      {
       "output_type": "stream", 
       "stream": "stdout", 
       "text": [
        " sigma_alpha_i_0 {&apos;mu&apos;: 0.077194116906617719, &apos;upper&apos;: 0.5, &apos;lower&apos;: 0.01, &apos;sigma&apos;: 0.019640994846720956, &apos;dist&apos;: &apos;TruncatedNormal&apos;}", 
        "using stored RE hyperprior for sigma_alpha_i_1 {&apos;mu&apos;: 0.073537766946642116, &apos;upper&apos;: 0.5, &apos;lower&apos;: 0.01, &apos;sigma&apos;: 0.016578233022928282, &apos;dist&apos;: &apos;TruncatedNormal&apos;}", 
        "using stored RE hyperprior for sigma_alpha_i_2 {&apos;mu&apos;: 0.090965602178726693, &apos;upper&apos;: 0.5, &apos;lower&apos;: 0.01, &apos;sigma&apos;: 0.022137577550942936, &apos;dist&apos;: &apos;TruncatedNormal&apos;}", 
        "using stored RE hyperprior for sigma_alpha_i_3 {&apos;mu&apos;: 0.22198925779666967, &apos;upper&apos;: 0.5, &apos;lower&apos;: 0.01, &apos;sigma&apos;: 0.014718729836434493, &apos;dist&apos;: &apos;TruncatedNormal&apos;}", 
        "using stored RE hyperprior for sigma_alpha_i_4 {&apos;mu&apos;: 0.076901884535768503, &apos;upper&apos;: 0.5, &apos;lower&apos;: 0.01, &apos;sigma&apos;: 0.018468706036531331, &apos;dist&apos;: &apos;TruncatedNormal&apos;}", 
        "using stored FE for"
       ]
      }, 
      {
       "output_type": "stream", 
       "stream": "stdout", 
       "text": [
        " beta_i_x_LDI_id_Updated_7July2011 x_LDI_id_Updated_7July2011 {&apos;mu&apos;: -0.030517040493272779, &apos;sigma&apos;: 0.033787498197511243, &apos;dist&apos;: &apos;Constant&apos;}", 
        "using stored FE for beta_i_x_ihme_health_system_access_19jul2011 x_ihme_health_system_access_19jul2011 {&apos;mu&apos;: 0.57084957071327447, &apos;sigma&apos;: 0.039753087966462833, &apos;dist&apos;: &apos;Constant&apos;}", 
        "using stored FE for beta_i_x_sex x_sex {&apos;mu&apos;: 0.32811844514718513, &apos;sigma&apos;: 0.015337392974150628, &apos;dist&apos;: &apos;Constant&apos;}", 
        "finding initial values"
       ]
      }, 
      {
       "output_type": "stream", 
       "stream": "stdout", 
       "text": [
        " ."
       ]
      }, 
      {
       "output_type": "stream", 
       "stream": "stdout", 
       "text": [
        " ."
       ]
      }, 
      {
       "output_type": "stream", 
       "stream": "stdout", 
       "text": [
        " ."
       ]
      }, 
      {
       "output_type": "stream", 
       "stream": "stdout", 
       "text": [
        " ", 
        "finding MAP estimate"
       ]
      }, 
      {
       "output_type": "stream", 
       "stream": "stdout", 
       "text": [
        " ", 
        "finding step covariances estimate"
       ]
      }, 
      {
       "output_type": "stream", 
       "stream": "stdout", 
       "text": [
        " ", 
        "resetting initial values (1)"
       ]
      }, 
      {
       "output_type": "stream", 
       "stream": "stdout", 
       "text": [
        " ."
       ]
      }, 
      {
       "output_type": "stream", 
       "stream": "stdout", 
       "text": [
        " ."
       ]
      }, 
      {
       "output_type": "stream", 
       "stream": "stdout", 
       "text": [
        " ."
       ]
      }, 
      {
       "output_type": "stream", 
       "stream": "stdout", 
       "text": [
        " ", 
        "resetting initial values (2)"
       ]
      }, 
      {
       "output_type": "stream", 
       "stream": "stdout", 
       "text": [
        "mare: 1720598.87", 
        "sampling from posterior"
       ]
      }, 
      {
       "output_type": "stream", 
       "stream": "stdout", 
       "text": [
        "CPU times: user 446.39 s, sys: 0.14 s, total: 446.54 s", 
        "Wall time: 451.82 s"
       ]
      }
     ], 
     "prompt_number": 521
    }, 
    {
     "cell_type": "code", 
     "collapsed": false, 
     "input": [
      "dismod3.graphics.plot_data_bars(oldval.get_data(data_type))", 
      "pl.plot(oldval.pred.mean(axis=1), 's', label='posterior with emp prior')", 
      "pl.plot(pl.array(oldval_mu), label='emp mu_prior')", 
      "pl.plot(pl.array(oldval_sigma), label='emp sigma_prior')", 
      "pl.legend(loc='upper left')"
     ], 
     "language": "python", 
     "outputs": [
      {
       "output_type": "pyout", 
       "prompt_number": 522, 
       "text": [
        "&lt;matplotlib.legend.Legend at 0x2b103fa2ae50&gt;"
       ]
      }, 
      {
       "output_type": "display_data", 
       "png": "[encoded data removed]"
      }
     ], 
     "prompt_number": 522
    }, 
    {
     "cell_type": "markdown", 
     "source": [
      "Testing new method with model 39098 with rfx for regions and superregions", 
      "-------------------------------", 
      "", 
      "Results:", 
      "", 
      "* mare is low (.24 v 1.8E6)", 
      "* posterior is near-zero"
     ]
    }, 
    {
     "cell_type": "code", 
     "collapsed": false, 
     "input": [
      "dummy = load_new_model(disease, 'all', sex)", 
      "dummy.vars += dismod3.ism.age_specific_rate(dummy, data_type)", 
      "vars = dummy.vars[data_type]"
     ], 
     "language": "python", 
     "outputs": [
      {
       "output_type": "stream", 
       "stream": "stdout", 
       "text": [
        "kept 4677 rows of data", 
        "adding smoothing of 0.5"
       ]
      }
     ], 
     "prompt_number": 405
    }, 
    {
     "cell_type": "code", 
     "collapsed": false, 
     "input": [
      "allrf = load_new_model(disease, country, sex)"
     ], 
     "language": "python", 
     "outputs": [
      {
       "output_type": "stream", 
       "stream": "stdout", 
       "text": [
        "kept 79 rows of data"
       ]
      }
     ], 
     "prompt_number": 554
    }, 
    {
     "cell_type": "code", 
     "collapsed": true, 
     "input": [
      "for r in ['europe_eastern', 'europe_western', 'europe_central', 'north_america_high_income']:", 
      "    emp_re = pandas.read_csv('/home/j/Project/dismod/output/dm-%s/posterior/re-%s-%s+%s+%s.csv'%(disease, data_type, r, sex, year), index_col=0)", 
      "    for col in emp_re.index:", 
      "        allrf.parameters[data_type]['random_effects'][col] = dict(dist='Constant', ", 
      "                                                                  mu=emp_re.ix[col, 'mu_coeff'], ", 
      "                                                                  sigma=emp_re.ix[col, 'sigma_coeff'])"
     ], 
     "language": "python", 
     "outputs": [], 
     "prompt_number": 555
    }, 
    {
     "cell_type": "code", 
     "collapsed": true, 
     "input": [
      "dm = dismod3.load_disease_model(disease)", 
      "dm_na = dm.get_empirical_prior(full_name[data_type])['new_alpha']", 
      "for n in vars['sigma_alpha']:", 
      "    try:", 
      "        model.parameters[data_type]['random_effects'][n.__name__] = dict(dist = dm_na[n.__name__]['dist'],", 
      "                                                                         mu = dm_na[n.__name__]['mu'], ", 
      "                                                                         sigma = dm_na[n.__name__]['sigma'], ", 
      "                                                                         lower = dm_na[n.__name__]['lower'], ", 
      "                                                                         upper = dm_na[n.__name__]['upper'])", 
      "    except:", 
      "        model.parameters[data_type]['random_effects'][n.__name__] = dict(dist = 'TruncatedNormal',", 
      "                                                                         mu = .05,", 
      "                                                                         sigma = .03**-2, ", 
      "                                                                         lower = 0.01, ", 
      "                                                                         upper = 0.5)"
     ], 
     "language": "python", 
     "outputs": [], 
     "prompt_number": 558
    }, 
    {
     "cell_type": "code", 
     "collapsed": false, 
     "input": [
      "hier = {'europe_eastern':0, 'europe_western':3, 'europe_cental':23, 'north_america_high_income':12,", 
      "        'super-region_0':6, 'super-region_1':4}", 
      "", 
      "for i in hier.keys():", 
      "    n = globe.vars[data_type]['alpha'][0].stats()", 
      "    allrf.parameters[data_type]['random_effects'][i] = dict(dist='Constant', mu=stats['mean'], sigma=stats['standard deviation'])"
     ], 
     "language": "python", 
     "outputs": [], 
     "prompt_number": 559
    }, 
    {
     "cell_type": "code", 
     "collapsed": false, 
     "input": [
      "emp_fe = pandas.read_csv('/home/j/Project/dismod/output/dm-%s/posterior/fe-%s-%s+%s+%s.csv'%(disease, data_type, region, sex, year), index_col=0)", 
      "for n, col in zip(vars['beta'], vars['X'].columns):", 
      "    allrf.parameters[data_type]['fixed_effects'][col] = dict(dist = 'Constant', ", 
      "                                                             mu = emp_fe.ix[col, 'mu_coeff'], ", 
      "                                                             sigma = emp_fe.ix[col, 'sigma_coeff'])"
     ], 
     "language": "python", 
     "outputs": [], 
     "prompt_number": 550
    }, 
    {
     "cell_type": "code", 
     "collapsed": false, 
     "input": [
      "allrf.vars += dismod3.ism.age_specific_rate(allrf, data_type, country, sex, year, None, nm_mu, nm_sigma)", 
      "%time dismod3.fit.fit_asr(allrf, data_type, iter=iter, thin=thin, burn=burn)", 
      "allrf.pred = dismod3.covariates.predict_for(allrf, allrf.parameters[data_type], ", 
      "                                            country, sex, year, country, sex, year,", 
      "                                            1., allrf.vars[data_type], 0., 1.).T"
     ], 
     "language": "python", 
     "outputs": [
      {
       "output_type": "stream", 
       "stream": "stdout", 
       "text": [
        "adding smoothing of 0.5", 
        "using stored RE hyperprior for"
       ]
      }, 
      {
       "output_type": "stream", 
       "stream": "stdout", 
       "text": [
        " sigma_alpha_i_0 {&apos;mu&apos;: 0.40038784205565964, &apos;upper&apos;: 0.5, &apos;lower&apos;: 0.01, &apos;sigma&apos;: 0.0179577011663249, &apos;dist&apos;: &apos;TruncatedNormal&apos;}", 
        "using stored RE hyperprior for sigma_alpha_i_1 {&apos;mu&apos;: 0.39363418122886557, &apos;upper&apos;: 0.5, &apos;lower&apos;: 0.01, &apos;sigma&apos;: 0.014273765599462654, &apos;dist&apos;: &apos;TruncatedNormal&apos;}", 
        "using stored RE hyperprior for sigma_alpha_i_2 {&apos;mu&apos;: 0.4634309252921577, &apos;upper&apos;: 0.5, &apos;lower&apos;: 0.01, &apos;sigma&apos;: 0.01579657840109888, &apos;dist&apos;: &apos;TruncatedNormal&apos;}", 
        "using stored RE hyperprior for sigma_alpha_i_3 {&apos;mu&apos;: 0.5303942834212227, &apos;upper&apos;: 0.5, &apos;lower&apos;: 0.01, &apos;sigma&apos;: 0.015158994660545015, &apos;dist&apos;: &apos;TruncatedNormal&apos;}", 
        "using stored RE hyperprior for sigma_alpha_i_4 {&apos;mu&apos;: 0.4002607949407302, &apos;upper&apos;: 0.5, &apos;lower&apos;: 0.01, &apos;sigma&apos;: 0.01792897373218768, &apos;dist&apos;: &apos;TruncatedNormal&apos;}", 
        "finding initial values"
       ]
      }, 
      {
       "output_type": "stream", 
       "stream": "stdout", 
       "text": [
        " ."
       ]
      }, 
      {
       "output_type": "stream", 
       "stream": "stdout", 
       "text": [
        " ."
       ]
      }, 
      {
       "output_type": "stream", 
       "stream": "stdout", 
       "text": [
        " ."
       ]
      }, 
      {
       "output_type": "stream", 
       "stream": "stdout", 
       "text": [
        " ", 
        "finding MAP estimate"
       ]
      }, 
      {
       "output_type": "stream", 
       "stream": "stdout", 
       "text": [
        " ", 
        "finding step covariances estimate"
       ]
      }, 
      {
       "output_type": "stream", 
       "stream": "stdout", 
       "text": [
        " ", 
        "resetting initial values (1)"
       ]
      }, 
      {
       "output_type": "stream", 
       "stream": "stdout", 
       "text": [
        " ."
       ]
      }, 
      {
       "output_type": "stream", 
       "stream": "stdout", 
       "text": [
        " ."
       ]
      }, 
      {
       "output_type": "stream", 
       "stream": "stdout", 
       "text": [
        " ."
       ]
      }, 
      {
       "output_type": "stream", 
       "stream": "stdout", 
       "text": [
        " ", 
        "resetting initial values (2)"
       ]
      }, 
      {
       "output_type": "stream", 
       "stream": "stdout", 
       "text": [
        "mare: 0.24", 
        "sampling from posterior"
       ]
      }, 
      {
       "output_type": "stream", 
       "stream": "stdout", 
       "text": [
        "CPU times: user 417.13 s, sys: 0.02 s, total: 417.15 s", 
        "Wall time: 417.19 s"
       ]
      }
     ], 
     "prompt_number": 560
    }, 
    {
     "cell_type": "code", 
     "collapsed": false, 
     "input": [
      "dismod3.graphics.plot_data_bars(old_model.get_data(data_type))", 
      "", 
      "pl.plot(allrf.pred.mean(axis=1), 's', label='posterior with emp prior')", 
      "pl.plot(pl.array(nm_mu), label='emp mu_prior')", 
      "pl.plot(pl.array(nm_sigma), label='emp sigma_prior')", 
      "pl.legend(loc='upper left')"
     ], 
     "language": "python", 
     "outputs": [
      {
       "output_type": "pyout", 
       "prompt_number": 561, 
       "text": [
        "&lt;matplotlib.legend.Legend at 0x2b103a1450d0&gt;"
       ]
      }, 
      {
       "output_type": "display_data", 
       "png": "[encoded data removed]"
      }
     ], 
     "prompt_number": 561
    }, 
    {
     "cell_type": "markdown", 
     "source": [
      "Testing new method with model 39098, with all rfx levels of old method and no fx", 
      "-------------------------------", 
      "", 
      "Results:", 
      "", 
      "* mare is low (.24)", 
      "* posterior is near-zero"
     ]
    }, 
    {
     "cell_type": "code", 
     "collapsed": false, 
     "input": [
      "nofe = load_new_model(disease, country, sex)"
     ], 
     "language": "python", 
     "outputs": [
      {
       "output_type": "stream", 
       "stream": "stdout", 
       "text": [
        "kept 79 rows of data"
       ]
      }
     ], 
     "prompt_number": 562
    }, 
    {
     "cell_type": "code", 
     "collapsed": true, 
     "input": [
      "for r in ['europe_eastern', 'europe_western', 'europe_central', 'north_america_high_income']:", 
      "    emp_re = pandas.read_csv('/home/j/Project/dismod/output/dm-%s/posterior/re-%s-%s+%s+%s.csv'%(disease, data_type, r, sex, year), index_col=0)", 
      "    for col in emp_re.index:", 
      "        nofe.parameters[data_type]['random_effects'][col] = dict(dist='Constant', ", 
      "                                                                  mu=emp_re.ix[col, 'mu_coeff'], ", 
      "                                                                  sigma=emp_re.ix[col, 'sigma_coeff'])"
     ], 
     "language": "python", 
     "outputs": [], 
     "prompt_number": 563
    }, 
    {
     "cell_type": "code", 
     "collapsed": true, 
     "input": [
      "for n in vars['sigma_alpha']:", 
      "    try:", 
      "        nofe.parameters[data_type]['random_effects'][n.__name__] = dict(dist = dm_na[n.__name__]['dist'],", 
      "                                                                         mu = dm_na[n.__name__]['mu'], ", 
      "                                                                         sigma = dm_na[n.__name__]['sigma'], ", 
      "                                                                         lower = dm_na[n.__name__]['lower'], ", 
      "                                                                         upper = dm_na[n.__name__]['upper'])", 
      "    except:", 
      "        nofe.parameters[data_type]['random_effects'][n.__name__] = dict(dist = 'TruncatedNormal',", 
      "                                                                         mu = .05,", 
      "                                                                         sigma = .03**-2, ", 
      "                                                                         lower = 0.01, ", 
      "                                                                         upper = 0.5)"
     ], 
     "language": "python", 
     "outputs": [], 
     "prompt_number": 564
    }, 
    {
     "cell_type": "code", 
     "collapsed": true, 
     "input": [
      "hier = {'europe_eastern':0, 'europe_western':3, 'europe_cental':23, 'north_america_high_income':12,", 
      "        'super-region_0':6, 'super-region_1':4}", 
      "", 
      "for i in hier.keys():", 
      "    n = globe.vars[data_type]['alpha'][0].stats()", 
      "    nofe.parameters[data_type]['random_effects'][i] = dict(dist='Constant', mu=stats['mean'], sigma=stats['standard deviation'])"
     ], 
     "language": "python", 
     "outputs": [], 
     "prompt_number": 565
    }, 
    {
     "cell_type": "code", 
     "collapsed": false, 
     "input": [
      "nofe.vars += dismod3.ism.age_specific_rate(nofe, data_type, country, sex, year, None, nm_mu, nm_sigma)", 
      "%time dismod3.fit.fit_asr(nofe, data_type, iter=iter, thin=thin, burn=burn)", 
      "nofe.pred = dismod3.covariates.predict_for(nofe, nofe.parameters[data_type], ", 
      "                                            country, sex, year, country, sex, year,", 
      "                                            1., nofe.vars[data_type], 0., 1.).T"
     ], 
     "language": "python", 
     "outputs": [
      {
       "output_type": "stream", 
       "stream": "stdout", 
       "text": [
        "adding smoothing of 0.5", 
        "using stored RE hyperprior for"
       ]
      }, 
      {
       "output_type": "stream", 
       "stream": "stdout", 
       "text": [
        " sigma_alpha_i_0 {&apos;mu&apos;: 0.40038784205565964, &apos;upper&apos;: 0.5, &apos;lower&apos;: 0.01, &apos;sigma&apos;: 0.0179577011663249, &apos;dist&apos;: &apos;TruncatedNormal&apos;}", 
        "using stored RE hyperprior for sigma_alpha_i_1 {&apos;mu&apos;: 0.39363418122886557, &apos;upper&apos;: 0.5, &apos;lower&apos;: 0.01, &apos;sigma&apos;: 0.014273765599462654, &apos;dist&apos;: &apos;TruncatedNormal&apos;}", 
        "using stored RE hyperprior for sigma_alpha_i_2 {&apos;mu&apos;: 0.4634309252921577, &apos;upper&apos;: 0.5, &apos;lower&apos;: 0.01, &apos;sigma&apos;: 0.01579657840109888, &apos;dist&apos;: &apos;TruncatedNormal&apos;}", 
        "using stored RE hyperprior for sigma_alpha_i_3 {&apos;mu&apos;: 0.5303942834212227, &apos;upper&apos;: 0.5, &apos;lower&apos;: 0.01, &apos;sigma&apos;: 0.015158994660545015, &apos;dist&apos;: &apos;TruncatedNormal&apos;}", 
        "using stored RE hyperprior for sigma_alpha_i_4 {&apos;mu&apos;: 0.4002607949407302, &apos;upper&apos;: 0.5, &apos;lower&apos;: 0.01, &apos;sigma&apos;: 0.01792897373218768, &apos;dist&apos;: &apos;TruncatedNormal&apos;}", 
        "finding initial values"
       ]
      }, 
      {
       "output_type": "stream", 
       "stream": "stdout", 
       "text": [
        " ."
       ]
      }, 
      {
       "output_type": "stream", 
       "stream": "stdout", 
       "text": [
        " ."
       ]
      }, 
      {
       "output_type": "stream", 
       "stream": "stdout", 
       "text": [
        " ."
       ]
      }, 
      {
       "output_type": "stream", 
       "stream": "stdout", 
       "text": [
        " ", 
        "finding MAP estimate"
       ]
      }, 
      {
       "output_type": "stream", 
       "stream": "stdout", 
       "text": [
        " ", 
        "finding step covariances estimate"
       ]
      }, 
      {
       "output_type": "stream", 
       "stream": "stdout", 
       "text": [
        " ", 
        "resetting initial values (1)"
       ]
      }, 
      {
       "output_type": "stream", 
       "stream": "stdout", 
       "text": [
        " ."
       ]
      }, 
      {
       "output_type": "stream", 
       "stream": "stdout", 
       "text": [
        " ."
       ]
      }, 
      {
       "output_type": "stream", 
       "stream": "stdout", 
       "text": [
        " ."
       ]
      }, 
      {
       "output_type": "stream", 
       "stream": "stdout", 
       "text": [
        " ", 
        "resetting initial values (2)"
       ]
      }, 
      {
       "output_type": "stream", 
       "stream": "stdout", 
       "text": [
        "mare: 0.24", 
        "sampling from posterior"
       ]
      }, 
      {
       "output_type": "stream", 
       "stream": "stdout", 
       "text": [
        "CPU times: user 419.80 s, sys: 0.04 s, total: 419.84 s", 
        "Wall time: 419.89 s"
       ]
      }
     ], 
     "prompt_number": 566
    }, 
    {
     "cell_type": "code", 
     "collapsed": false, 
     "input": [
      "dismod3.graphics.plot_data_bars(old_model.get_data(data_type))", 
      "", 
      "pl.plot(nofe.pred.mean(axis=1), 's', label='posterior with emp prior')", 
      "pl.plot(pl.array(nm_mu), label='emp mu_prior')", 
      "pl.plot(pl.array(nm_sigma), label='emp sigma_prior')", 
      "pl.legend(loc='upper left')"
     ], 
     "language": "python", 
     "outputs": [
      {
       "output_type": "pyout", 
       "prompt_number": 570, 
       "text": [
        "&lt;matplotlib.legend.Legend at 0x2b103a13f410&gt;"
       ]
      }, 
      {
       "output_type": "display_data", 
       "png": "[encoded data removed]"
      }
     ], 
     "prompt_number": 570
    }, 
    {
     "cell_type": "markdown", 
     "source": [
      "testing new method with no fixed or random effects", 
      "--------", 
      "", 
      "Results:", 
      "", 
      "* mare is low (.24)", 
      "* posterior is near-zero"
     ]
    }, 
    {
     "cell_type": "code", 
     "collapsed": false, 
     "input": [
      "none = load_new_model(disease, country, sex)", 
      "mu_prior, sigma_prior = get_emp(disease, data_type, country, sex, year) ", 
      "", 
      "none.vars += dismod3.ism.age_specific_rate(none, data_type,", 
      "                                           country, sex, year,", 
      "                                           None, mu_prior, sigma_prior)", 
      "%time dismod3.fit.fit_asr(none, data_type, iter=iter, thin=thin, burn=burn)", 
      "", 
      "none.pred = dismod3.covariates.predict_for(none, none.parameters[data_type], ", 
      "                                            country, sex, year, country, sex, year,", 
      "                                            1., none.vars[data_type], 0., 1.).T"
     ], 
     "language": "python", 
     "outputs": [
      {
       "output_type": "stream", 
       "stream": "stdout", 
       "text": [
        "kept 79 rows of data", 
        "adding smoothing of"
       ]
      }, 
      {
       "output_type": "stream", 
       "stream": "stdout", 
       "text": [
        " 0.5", 
        "finding initial values"
       ]
      }, 
      {
       "output_type": "stream", 
       "stream": "stdout", 
       "text": [
        " ."
       ]
      }, 
      {
       "output_type": "stream", 
       "stream": "stdout", 
       "text": [
        " ."
       ]
      }, 
      {
       "output_type": "stream", 
       "stream": "stdout", 
       "text": [
        " ."
       ]
      }, 
      {
       "output_type": "stream", 
       "stream": "stdout", 
       "text": [
        " ", 
        "finding MAP estimate"
       ]
      }, 
      {
       "output_type": "stream", 
       "stream": "stdout", 
       "text": [
        " ", 
        "finding step covariances estimate"
       ]
      }, 
      {
       "output_type": "stream", 
       "stream": "stdout", 
       "text": [
        " ", 
        "resetting initial values (1)"
       ]
      }, 
      {
       "output_type": "stream", 
       "stream": "stdout", 
       "text": [
        " ."
       ]
      }, 
      {
       "output_type": "stream", 
       "stream": "stdout", 
       "text": [
        " ."
       ]
      }, 
      {
       "output_type": "stream", 
       "stream": "stdout", 
       "text": [
        " ."
       ]
      }, 
      {
       "output_type": "stream", 
       "stream": "stdout", 
       "text": [
        " ", 
        "resetting initial values (2)"
       ]
      }, 
      {
       "output_type": "stream", 
       "stream": "stdout", 
       "text": [
        "mare: 0.24", 
        "sampling from posterior"
       ]
      }, 
      {
       "output_type": "stream", 
       "stream": "stdout", 
       "text": [
        "CPU times: user 406.16 s, sys: 0.01 s, total: 406.16 s", 
        "Wall time: 406.22 s"
       ]
      }
     ], 
     "prompt_number": 571
    }, 
    {
     "cell_type": "code", 
     "collapsed": false, 
     "input": [
      "dismod3.graphics.plot_data_bars(none.get_data(data_type))", 
      "", 
      "pl.plot(none.pred.mean(axis=1), 's', label='posterior with emp prior')", 
      "pl.plot(pl.array(mu_prior), label='emp mu_prior')", 
      "pl.plot(pl.array(sigma_prior), label='emp sigma_prior')", 
      "pl.legend(loc='upper left')"
     ], 
     "language": "python", 
     "outputs": [
      {
       "output_type": "pyout", 
       "prompt_number": 572, 
       "text": [
        "&lt;matplotlib.legend.Legend at 0x167bdad0&gt;"
       ]
      }, 
      {
       "output_type": "display_data", 
       "png": "[encoded data removed]"
      }
     ], 
     "prompt_number": 572
    }, 
    {
     "cell_type": "code", 
     "collapsed": true, 
     "input": [], 
     "language": "python", 
     "outputs": [], 
     "prompt_number": "&nbsp;"
    }
   ]
  }
 ]
}
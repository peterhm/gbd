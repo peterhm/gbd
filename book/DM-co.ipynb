{
 "metadata": {
  "name": "DM-co"
 }, 
 "nbformat": 2, 
 "worksheets": [
  {
   "cells": [
    {
     "cell_type": "markdown", 
     "source": [
      "Initialization", 
      "--------------"
     ]
    }, 
    {
     "cell_type": "code", 
     "collapsed": false, 
     "input": [
      "pwd"
     ], 
     "language": "python", 
     "outputs": [
      {
       "output_type": "pyout", 
       "prompt_number": 10, 
       "text": [
        "u&apos;/snfs2/HOME/peterhm/gbd/book&apos;"
       ]
      }
     ], 
     "prompt_number": 10
    }, 
    {
     "cell_type": "code", 
     "collapsed": false, 
     "input": [
      "cd /homes/peterhm/gbd/book"
     ], 
     "language": "python", 
     "outputs": [
      {
       "output_type": "stream", 
       "stream": "stdout", 
       "text": [
        "/snfs2/HOME/peterhm/gbd/book"
       ]
      }
     ], 
     "prompt_number": 7
    }, 
    {
     "cell_type": "code", 
     "collapsed": false, 
     "input": [
      "import book_graphics", 
      "reload(book_graphics)"
     ], 
     "language": "python", 
     "outputs": [
      {
       "output_type": "pyout", 
       "prompt_number": 11, 
       "text": [
        "&lt;module &apos;book_graphics&apos; from &apos;book_graphics.pyc&apos;&gt;"
       ]
      }
     ], 
     "prompt_number": 11
    }, 
    {
     "cell_type": "code", 
     "collapsed": false, 
     "input": [
      "cd /homes/peterhm/gbd/"
     ], 
     "language": "python", 
     "outputs": [
      {
       "output_type": "stream", 
       "stream": "stdout", 
       "text": [
        "/snfs2/HOME/peterhm/gbd"
       ]
      }
     ], 
     "prompt_number": 12
    }, 
    {
     "cell_type": "code", 
     "collapsed": false, 
     "input": [
      "import sys", 
      "sys.path += ['../book', '../dm3-computation_only/', '../dm3-computation_only/book']", 
      "import pylab as pl", 
      "import pymc as mc", 
      "import pandas", 
      "", 
      "import dismod3", 
      "reload(dismod3)"
     ], 
     "language": "python", 
     "outputs": [
      {
       "output_type": "pyout", 
       "prompt_number": 13, 
       "text": [
        "&lt;module &apos;dismod3&apos; from &apos;dismod3/__init__.pyc&apos;&gt;"
       ]
      }
     ], 
     "prompt_number": 13
    }, 
    {
     "cell_type": "markdown", 
     "source": [
      "Functions", 
      "---------"
     ]
    }, 
    {
     "cell_type": "code", 
     "collapsed": true, 
     "input": [
      "full_name = {'p': 'prevalence', ", 
      "             'i': 'incidence', ", 
      "             'r': 'remission', ", 
      "             'f': 'excess-mortality', ", 
      "             'pf': 'pf', ", 
      "             'csmr': 'r_specific', ", 
      "             'm_all': 'r_all',", 
      "             'm_with': 'r_with',", 
      "             'm': 'r_other',", 
      "             'smr': 'r_standard', ", 
      "             'rr': 'relative_risk', ", 
      "             'X': 'duration'}"
     ], 
     "language": "python", 
     "outputs": [], 
     "prompt_number": 256
    }, 
    {
     "cell_type": "code", 
     "collapsed": true, 
     "input": [
      "# find disease number from disease name", 
      "def disease_num(name):", 
      "    bm_path = '/snfs1/Project/GBD/dalynator/yld/best_models.csv'", 
      "    bm_csv = pandas.read_csv(bm_path,index_col=None)", 
      "    dismod_models = bm_csv.groupby('dismod_model_number').apply(lambda df: df.ix[df.index[0], 'outcome_name'])", 
      "    dismod_models = dismod_models.drop([0], axis=0)", 
      "    dismod_models = dict(sort(dismod_models))", 
      "    # change Series object into dictionary", 
      "    from collections import defaultdict", 
      "    reversed_dict = defaultdict(list)", 
      "    for key,value in dismod_models.iteritems():", 
      "        reversed_dict[value].append(key)", 
      "    num = reversed_dict[name]", 
      "    if num == []:", 
      "        print 'No DisMod-MR estimates for %s'%name", 
      "    elif len(num) > 1:", 
      "        print 'DisMod-MR has more than one model for %s'%name", 
      "        num = [int(k) for k in num]", 
      "    else:", 
      "        num = int(num[0])", 
      "    return num"
     ], 
     "language": "python", 
     "outputs": [], 
     "prompt_number": 248
    }, 
    {
     "cell_type": "code", 
     "collapsed": true, 
     "input": [
      "# find country name and region", 
      "def geo_info(name, disease, sex, year):", 
      "    global_model = load_new_model(disease, 'all', sex, year)", 
      "    region = global_model.hierarchy.in_edges(country)[0][0]", 
      "    return region"
     ], 
     "language": "python", 
     "outputs": [], 
     "prompt_number": "&nbsp;"
    }, 
    {
     "cell_type": "code", 
     "collapsed": true, 
     "input": [
      "# create disease model with relavtive data", 
      "def load_new_model(disease, country, sex, year):", 
      "    model = dismod3.data.load('/home/j/Project/dismod/output/dm-%s'%disease)", 
      "    # keep relative data", 
      "    model.keep(areas=[country], sexes=[sex])", 
      "    ", 
      "    # remove covariates", 
      "    #model.input_data = model.input_data.drop(['x_LDI_id_Updated_7July2011', 'x_ihme_health_system_access_19jul2011'], 1)", 
      "    ", 
      "    return model"
     ], 
     "language": "python", 
     "outputs": [], 
     "prompt_number": 544
    }, 
    {
     "cell_type": "code", 
     "collapsed": true, 
     "input": [
      "def get_emp(disease, country, sex, year):", 
      "    # load posterior estimates from GBD 2010 Study", 
      "    emp = pandas.read_csv('/home/j/Project/dismod/output/dm-%s/posterior/dm-%s-%s-%s-%s-%s.csv'%(disease, disease, full_name[data_type], region, sex, year), index_col=None)", 
      "", 
      "    # remove population numbers", 
      "    del emp['Population']", 
      "", 
      "    # keep only estimates from country", 
      "    cty_ix = (emp['Iso3'] == country)", 
      "    emp = emp[cty_ix]", 
      "    del emp['Iso3']", 
      "", 
      "    # keep only estimates for data type", 
      "    try:", 
      "        assert pl.all(emp['Rate type'] == full_name[data_type])", 
      "    except:", 
      "        dt_ix = (emp['Rate type']) == full_name[data_type]", 
      "        emp = emp[dt_ix]", 
      "    del emp['Rate type'] ", 
      "    ", 
      "    # return GBD 2010 Study posterior ", 
      "    emp.index = emp['Age']", 
      "    del emp['Age']", 
      "    return emp.mean(1), emp.std(1) #*10"
     ], 
     "language": "python", 
     "outputs": [], 
     "prompt_number": 576
    }, 
    {
     "cell_type": "code", 
     "collapsed": true, 
     "input": [
      "# if sigma_alpha is too hacky", 
      "# this might me an alternative", 
      "# though this is also hacky", 
      "#    dm = dismod3.load_disease_model(disease)", 
      "#    dm_na = dm.get_empirical_prior('incidence')['new_alpha']", 
      "#    sa = []", 
      "#    dm_na_keys = dm.get_empirical_prior('incidence')['new_alpha'].keys()", 
      "#    for k in range(len(dm_na_keys)):", 
      "#       try: ", 
      "#            dm_na_keys[k].index('sigma_alpha')", 
      "#            sa.append(dm_na_keys[k])", 
      "#            except:", 
      "#                pass"
     ], 
     "language": "python", 
     "outputs": [], 
     "prompt_number": 428
    }, 
    {
     "cell_type": "code", 
     "collapsed": true, 
     "input": [
      "# set fixed effects and random effects from strength-gathering posterior mean", 
      "", 
      "def find_fnrfx(t, model, disease, country, region, sex, year):", 
      "    # create dummy model to get appropriate Model.vars fields", 
      "    dummy = load_new_model(disease, country, sex, year)", 
      "    dummy.vars += dismod3.ism.age_specific_rate(dummy, t)", 
      "    vars = dummy.vars[t]", 
      "    ", 
      "    # save random effects", 
      "    emp_re = pandas.read_csv('/home/j/Project/dismod/output/dm-%s/posterior/re-%s-%s+%s+%s.csv'%(disease, data_type, region, sex, year), index_col=None)", 
      "    for n, col in zip(vars['alpha'], vars['U'].columns):", 
      "        model.parameters[t]['random_effects'][col] = dict(dist='Constant', ", 
      "                                                          mu=emp_re.ix[col, 'mu_coeff'], ", 
      "                                                          sigma=emp_re.ix[col, 'sigma_coeff'])", 
      "        ", 
      "    # also save empirical prior on sigma_alpha, the dispersion of the random effects", 
      "    dm = dismod3.load_disease_model(disease)", 
      "    dm_na = dm.get_empirical_prior('incidence')['new_alpha']", 
      "    for n in vars['sigma_alpha']:", 
      "        model.parameters[t]['random_effects'][n.__name__] = dict(dist = dm_na[n.__name__]['dist'],", 
      "                                                                 mu = dm_na[n.__name__]['mu'], ", 
      "                                                                 sigma = dm_na[n.__name__]['sigma'], ", 
      "                                                                 lower = dm_na[n.__name__]['lower'], ", 
      "                                                                 upper = dm_na[n.__name__]['upper'])", 
      "    ", 
      "    # save fixed effects    ", 
      "    emp_fe = pandas.read_csv('/home/j/Project/dismod/output/dm-%s/posterior/fe-%s-%s+%s+%s.csv'%(disease, data_type, region, sex, year), index_col=0)", 
      "    for n, col in zip(vars['beta'], vars['X'].columns):", 
      "        model.parameters[t]['fixed_effects'][col] = dict(dist = 'Constant', ", 
      "                                                         mu = emp_fe.ix[col, 'mu_coeff'], ", 
      "                                                         sigma = emp_fe.ix[col, 'sigma_coeff'])", 
      "  "
     ], 
     "language": "python", 
     "outputs": [], 
     "prompt_number": 463
    }, 
    {
     "cell_type": "markdown", 
     "source": [
      "Choose disease, country, age, sex, year", 
      "---------------------------------------"
     ]
    }, 
    {
     "cell_type": "code", 
     "collapsed": true, 
     "input": [
      "disease = 28646", 
      "", 
      "country = 'FIN'", 
      "region = 'europe_western'", 
      "sex = 'male'", 
      "year = 2005", 
      "data_type = 'i'", 
      "", 
      "iter=10000", 
      "burn=5000", 
      "thin=50"
     ], 
     "language": "python", 
     "outputs": [], 
     "prompt_number": 546
    }, 
    {
     "cell_type": "code", 
     "collapsed": false, 
     "input": [
      "model = load_new_model(disease, country, sex, year)"
     ], 
     "language": "python", 
     "outputs": [
      {
       "output_type": "stream", 
       "stream": "stdout", 
       "text": [
        "kept 79 rows of data"
       ]
      }
     ], 
     "prompt_number": 547
    }, 
    {
     "cell_type": "code", 
     "collapsed": false, 
     "input": [
      "# drop covaraites for now", 
      "model.input_data = model.input_data.drop(['x_IHME_alcohol_liters_pc_25July11', 'x_health_system_access2'], 1)"
     ], 
     "language": "python", 
     "outputs": [], 
     "prompt_number": 565
    }, 
    {
     "cell_type": "code", 
     "collapsed": false, 
     "input": [
      "mu_prior, sigma_prior = get_emp(disease, country, sex, year)  # FIXME: need to specify data type"
     ], 
     "language": "python", 
     "outputs": [], 
     "prompt_number": 577
    }, 
    {
     "cell_type": "code", 
     "collapsed": false, 
     "input": [
      "#find_fnrfx(data_type, model, disease, country, region, sex, year)  # FIXME: handle case when sigma_alpha_i_0 is not found, default "
     ], 
     "language": "python", 
     "outputs": [
      {
       "ename": "KeyError", 
       "evalue": "'sigma_alpha_i_0'", 
       "output_type": "pyerr", 
       "traceback": [
        "<span class=\"ansired\">---------------------------------------------------------------------------</span>\n<span class=\"ansired\">KeyError</span>                                  Traceback (most recent call last)", 
        "<span class=\"ansigreen\">/snfs2/HOME/peterhm/gbd/&lt;ipython-input-550-03dec07d5df5&gt;</span> in <span class=\"ansicyan\">&lt;module&gt;</span><span class=\"ansiblue\">()</span>\n<span class=\"ansigreen\">----&gt; 1</span><span class=\"ansiyellow\"> </span>find_fnrfx<span class=\"ansiyellow\">(</span>data_type<span class=\"ansiyellow\">,</span> model<span class=\"ansiyellow\">,</span> disease<span class=\"ansiyellow\">,</span> country<span class=\"ansiyellow\">,</span> region<span class=\"ansiyellow\">,</span> sex<span class=\"ansiyellow\">,</span> year<span class=\"ansiyellow\">)</span><span class=\"ansiyellow\"></span>\n", 
        "<span class=\"ansigreen\">/snfs2/HOME/peterhm/gbd/&lt;ipython-input-463-0060932c4e68&gt;</span> in <span class=\"ansicyan\">find_fnrfx</span><span class=\"ansiblue\">(t, model, disease, country, region, sex, year)</span>\n<span class=\"ansigreen\">     18</span>     dm_na <span class=\"ansiyellow\">=</span> dm<span class=\"ansiyellow\">.</span>get_empirical_prior<span class=\"ansiyellow\">(</span><span class=\"ansiblue\">&apos;incidence&apos;</span><span class=\"ansiyellow\">)</span><span class=\"ansiyellow\">[</span><span class=\"ansiblue\">&apos;new_alpha&apos;</span><span class=\"ansiyellow\">]</span><span class=\"ansiyellow\"></span>\n<span class=\"ansigreen\">     19</span>     <span class=\"ansigreen\">for</span> n <span class=\"ansigreen\">in</span> vars<span class=\"ansiyellow\">[</span><span class=\"ansiblue\">&apos;sigma_alpha&apos;</span><span class=\"ansiyellow\">]</span><span class=\"ansiyellow\">:</span><span class=\"ansiyellow\"></span>\n<span class=\"ansigreen\">---&gt; 20</span><span class=\"ansiyellow\">         model.parameters[t][&apos;random_effects&apos;][n.__name__] = dict(dist = dm_na[n.__name__][&apos;dist&apos;],\n</span><span class=\"ansigreen\">     21</span>                                                                  mu <span class=\"ansiyellow\">=</span> dm_na<span class=\"ansiyellow\">[</span>n<span class=\"ansiyellow\">.</span>__name__<span class=\"ansiyellow\">]</span><span class=\"ansiyellow\">[</span><span class=\"ansiblue\">&apos;mu&apos;</span><span class=\"ansiyellow\">]</span><span class=\"ansiyellow\">,</span><span class=\"ansiyellow\"></span>\n<span class=\"ansigreen\">     22</span>                                                                  sigma <span class=\"ansiyellow\">=</span> dm_na<span class=\"ansiyellow\">[</span>n<span class=\"ansiyellow\">.</span>__name__<span class=\"ansiyellow\">]</span><span class=\"ansiyellow\">[</span><span class=\"ansiblue\">&apos;sigma&apos;</span><span class=\"ansiyellow\">]</span><span class=\"ansiyellow\">,</span><span class=\"ansiyellow\"></span>\n", 
        "<span class=\"ansired\">KeyError</span>: &apos;sigma_alpha_i_0&apos;"
       ]
      }, 
      {
       "output_type": "stream", 
       "stream": "stdout", 
       "text": [
        "kept 79 rows of data", 
        "adding smoothing of 0.5"
       ]
      }
     ], 
     "prompt_number": 550
    }, 
    {
     "cell_type": "code", 
     "collapsed": true, 
     "input": [
      "dismod3.ism.age_specific_rate?"
     ], 
     "language": "python", 
     "outputs": [], 
     "prompt_number": 574
    }, 
    {
     "cell_type": "code", 
     "collapsed": false, 
     "input": [
      "sex"
     ], 
     "language": "python", 
     "outputs": [
      {
       "output_type": "pyout", 
       "prompt_number": 587, 
       "text": [
        "&apos;male&apos;"
       ]
      }
     ], 
     "prompt_number": 587
    }, 
    {
     "cell_type": "code", 
     "collapsed": false, 
     "input": [
      "model.vars += dismod3.ism.age_specific_rate(model, data_type,", 
      "                                            country, sex, year)", 
      "#                                            None, mu_prior, sigma_prior)"
     ], 
     "language": "python", 
     "outputs": [
      {
       "output_type": "stream", 
       "stream": "stdout", 
       "text": [
        "adding smoothing of 0.5"
       ]
      }
     ], 
     "prompt_number": 590
    }, 
    {
     "cell_type": "code", 
     "collapsed": false, 
     "input": [
      "%time dismod3.fit.fit_asr(model, data_type, iter=iter, thin=thin, burn=burn)"
     ], 
     "language": "python", 
     "outputs": [
      {
       "output_type": "stream", 
       "stream": "stdout", 
       "text": [
        "finding initial values"
       ]
      }, 
      {
       "output_type": "stream", 
       "stream": "stdout", 
       "text": [
        " ."
       ]
      }, 
      {
       "output_type": "stream", 
       "stream": "stdout", 
       "text": [
        " ."
       ]
      }, 
      {
       "output_type": "stream", 
       "stream": "stdout", 
       "text": [
        " ."
       ]
      }, 
      {
       "output_type": "stream", 
       "stream": "stdout", 
       "text": [
        " ", 
        "finding MAP estimate"
       ]
      }, 
      {
       "output_type": "stream", 
       "stream": "stdout", 
       "text": [
        " ", 
        "finding step covariances estimate"
       ]
      }, 
      {
       "output_type": "stream", 
       "stream": "stdout", 
       "text": [
        " ", 
        "resetting initial values (1)"
       ]
      }, 
      {
       "output_type": "stream", 
       "stream": "stdout", 
       "text": [
        " ."
       ]
      }, 
      {
       "output_type": "stream", 
       "stream": "stdout", 
       "text": [
        " ."
       ]
      }, 
      {
       "output_type": "stream", 
       "stream": "stdout", 
       "text": [
        " ."
       ]
      }, 
      {
       "output_type": "stream", 
       "stream": "stdout", 
       "text": [
        " ", 
        "resetting initial values (2)"
       ]
      }, 
      {
       "output_type": "stream", 
       "stream": "stdout", 
       "text": [
        "mare: 0.09", 
        "sampling from posterior"
       ]
      }
     ], 
     "prompt_number": "*"
    }, 
    {
     "cell_type": "code", 
     "collapsed": true, 
     "input": [
      "output = pandas.read_csv('/home/j/Project/dismod/gbd/data/applications-data_pancreatitis.csv')"
     ], 
     "language": "python", 
     "outputs": [], 
     "prompt_number": 570
    }, 
    {
     "cell_type": "code", 
     "collapsed": false, 
     "input": [
      "[n.stats() for n in model.vars['i']['beta']]"
     ], 
     "language": "python", 
     "outputs": [
      {
       "output_type": "pyout", 
       "prompt_number": 571, 
       "text": [
        "[{&apos;95% HPD interval&apos;: array([-1.94093612,  1.84197111]),", 
        "  &apos;mc error&apos;: 0.10033918623855953,", 
        "  &apos;mean&apos;: 0.091799581060557425,", 
        "  &apos;n&apos;: 100,", 
        "  &apos;quantiles&apos;: {2.5: -1.9319005251424217,", 
        "   25: -0.52401882841793079,", 
        "   50: 0.077477962462655592,", 
        "   75: 0.76461091344944709,", 
        "   97.5: 1.8546434499315365},", 
        "  &apos;standard deviation&apos;: 1.0033918623855953}]"
       ]
      }
     ], 
     "prompt_number": 571
    }, 
    {
     "cell_type": "code", 
     "collapsed": false, 
     "input": [
      "pl.plot(pl.array(mu_prior), label='emp prior?')", 
      "pl.plot(pl.array(sigma_prior), label='emp prior?')"
     ], 
     "language": "python", 
     "outputs": [
      {
       "output_type": "pyout", 
       "prompt_number": 578, 
       "text": [
        "[&lt;matplotlib.lines.Line2D at 0x13a73a50&gt;]"
       ]
      }, 
      {
       "output_type": "display_data", 
       "png": "[encoded data removed]"
      }
     ], 
     "prompt_number": 578
    }, 
    {
     "cell_type": "code", 
     "collapsed": false, 
     "input": [
      "model.pred = dismod3.covariates.predict_for(model, model.parameters[data_type], country, sex, year, country, sex, year,", 
      "                                            1., model.vars['i'], 0., 1.).T", 
      "pl.plot(pl.array(output[country]), label='posterior')", 
      "pl.plot(pl.array(output[country+'_pr']), label='emp prior')", 
      "pl.plot(model.pred.mean(axis=1), label='DM-co')", 
      "", 
      "pl.plot(pl.array(mu_prior), label='emp prior?')", 
      "dismod3.graphics.plot_data_bars(model.get_data('i'))", 
      "", 
      "pl.legend(loc='upper left')", 
      "# not matching because I pulled cov/FE/RE values from actual model and not what I ran for the book?"
     ], 
     "language": "python", 
     "outputs": [
      {
       "output_type": "pyout", 
       "prompt_number": 573, 
       "text": [
        "&lt;matplotlib.legend.Legend at 0x127ea250&gt;"
       ]
      }, 
      {
       "output_type": "display_data", 
       "png": "[encoded data removed]"
      }
     ], 
     "prompt_number": 573
    }, 
    {
     "cell_type": "markdown", 
     "source": [
      "Direct comparison of previous prior to above prior code", 
      "-------------------------------------------------------"
     ]
    }, 
    {
     "cell_type": "code", 
     "collapsed": false, 
     "input": [
      "!date"
     ], 
     "language": "python", 
     "outputs": [
      {
       "output_type": "stream", 
       "stream": "stdout", 
       "text": [
        "Thu Feb 21 10:25:21 PST 2013"
       ]
      }
     ], 
     "prompt_number": 485
    }, 
    {
     "cell_type": "code", 
     "collapsed": true, 
     "input": [
      "def load_new_model_old():", 
      "    model = dismod3.data.load('/home/j/Project/dismod/output/dm-39098')", 
      "    # remove covariates", 
      "    model.input_data = model.input_data.drop(['x_LDI_id_Updated_7July2011', 'x_ihme_health_system_access_19jul2011'], 1)", 
      "    ", 
      "    # remove increasing age pattern, to make data speak for itself", 
      "    #model.parameters['i']['increasing'] = {'age_end': 0, 'age_start': 0}", 
      "    #model.parameters['i']['smoothness']['amount'] = 'Moderately'", 
      "    return model"
     ], 
     "language": "python", 
     "outputs": [], 
     "prompt_number": 486
    }, 
    {
     "cell_type": "code", 
     "collapsed": true, 
     "input": [
      "# set fixed effects and random effects from strength-gathering posterior mean", 
      "#model.parameters[t]['random_effects'] = ...", 
      "#model.parameters[t]['fixed_effects'] = ...", 
      "", 
      "def find_fnrfx_old(t, model, vars):", 
      "    for n, col in zip(vars['alpha'], vars['U'].columns):", 
      "        stats = n.stats()", 
      "        model.parameters[t]['random_effects'][col] = dict(dist='Constant', mu=stats['mean'], sigma=stats['standard deviation'])", 
      "", 
      "    # also save empirical prior on sigma_alpha, the dispersion of the random effects", 
      "    for n in vars['sigma_alpha']:", 
      "        stats = n.stats()", 
      "        model.parameters[t]['random_effects'][n.__name__] = dict(dist='TruncatedNormal', mu=stats['mean'], sigma=stats['standard deviation'], lower=.01, upper=.5)", 
      "        ", 
      "    for n, col in zip(vars['beta'], vars['X'].columns):", 
      "        stats = n.stats()", 
      "        model.parameters[t]['fixed_effects'][col] = dict(dist='Constant', mu=stats['mean'], sigma=stats['standard deviation'])", 
      "    "
     ], 
     "language": "python", 
     "outputs": [], 
     "prompt_number": 487
    }, 
    {
     "cell_type": "code", 
     "collapsed": false, 
     "input": [
      "we = load_new_model_old()", 
      "we.keep(areas=['europe_western'], sexes=['male'])", 
      "", 
      "we.vars += dismod3.ism.age_specific_rate(we, 'i')", 
      "%time dismod3.fit.fit_asr(we, 'i', iter=iter, thin=thin, burn=burn)"
     ], 
     "language": "python", 
     "outputs": [
      {
       "output_type": "stream", 
       "stream": "stdout", 
       "text": [
        "kept 1182 rows of data"
       ]
      }, 
      {
       "output_type": "stream", 
       "stream": "stdout", 
       "text": [
        "", 
        "adding smoothing of 0.5", 
        "finding initial values"
       ]
      }, 
      {
       "output_type": "stream", 
       "stream": "stdout", 
       "text": [
        " ."
       ]
      }, 
      {
       "output_type": "stream", 
       "stream": "stdout", 
       "text": [
        " ."
       ]
      }, 
      {
       "output_type": "stream", 
       "stream": "stdout", 
       "text": [
        " ."
       ]
      }, 
      {
       "output_type": "stream", 
       "stream": "stdout", 
       "text": [
        " ", 
        "finding MAP estimate"
       ]
      }, 
      {
       "output_type": "stream", 
       "stream": "stdout", 
       "text": [
        " ", 
        "finding step covariances estimate"
       ]
      }, 
      {
       "output_type": "stream", 
       "stream": "stdout", 
       "text": [
        " ", 
        "resetting initial values (1)"
       ]
      }, 
      {
       "output_type": "stream", 
       "stream": "stdout", 
       "text": [
        " ."
       ]
      }, 
      {
       "output_type": "stream", 
       "stream": "stdout", 
       "text": [
        " ."
       ]
      }, 
      {
       "output_type": "stream", 
       "stream": "stdout", 
       "text": [
        " ."
       ]
      }, 
      {
       "output_type": "stream", 
       "stream": "stdout", 
       "text": [
        " ", 
        "resetting initial values (2)"
       ]
      }, 
      {
       "output_type": "stream", 
       "stream": "stdout", 
       "text": [
        "mare: 0.24", 
        "sampling from posterior"
       ]
      }, 
      {
       "output_type": "stream", 
       "stream": "stdout", 
       "text": [
        "CPU times: user 1053.13 s, sys: 1.97 s, total: 1055.10 s", 
        "Wall time: 1055.48 s"
       ]
      }, 
      {
       "output_type": "pyout", 
       "prompt_number": 488, 
       "text": [
        "(&lt;pymc.NormalApproximation.MAP at 0x14f3ad10&gt;, &lt;pymc.MCMC.MCMC at 0x12240050&gt;)"
       ]
      }
     ], 
     "prompt_number": 488
    }, 
    {
     "cell_type": "code", 
     "collapsed": true, 
     "input": [
      "fin_pred = dismod3.covariates.predict_for(we, we.parameters['i'], 'all', 'total', 'all', 'FIN', 'male', 2005,", 
      "                                                False, we.vars['i'], 0., 1.).T  # NOTE: do not population-weight average for emp prior", 
      "", 
      "fin_mu_prior = fin_pred.mean(1)", 
      "fin_sigma_prior = fin_pred.std(1)*10"
     ], 
     "language": "python", 
     "outputs": [], 
     "prompt_number": 489
    }, 
    {
     "cell_type": "code", 
     "collapsed": false, 
     "input": [
      "fin_wp = load_new_model_old()", 
      "fin_wp.keep(areas=['FIN'], sexes=['male'])", 
      "", 
      "find_fnrfx_old('i', fin_wp, we.vars['i'])", 
      "", 
      "result = dismod3.data.ModelVars()", 
      "result['i'] = dismod3.data_model.data_model('i', fin_wp, 'i',", 
      "                                            'FIN', 'male', 2005,", 
      "                                            None, fin_mu_prior, fin_sigma_prior,", 
      "                                            rate_type='neg_binom')", 
      "fin_wp.vars += result"
     ], 
     "language": "python", 
     "outputs": [
      {
       "output_type": "stream", 
       "stream": "stdout", 
       "text": [
        "kept 79 rows of data", 
        "adding smoothing of 1.0", 
        "using stored RE hyperprior for"
       ]
      }, 
      {
       "output_type": "stream", 
       "stream": "stdout", 
       "text": [
        " sigma_alpha_i_0 {&apos;mu&apos;: 0.077075540268231893, &apos;upper&apos;: 0.5, &apos;lower&apos;: 0.01, &apos;sigma&apos;: 0.020860272121711168, &apos;dist&apos;: &apos;TruncatedNormal&apos;}", 
        "using stored RE hyperprior for sigma_alpha_i_1 {&apos;mu&apos;: 0.074282475496447273, &apos;upper&apos;: 0.5, &apos;lower&apos;: 0.01, &apos;sigma&apos;: 0.016874965214132794, &apos;dist&apos;: &apos;TruncatedNormal&apos;}", 
        "using stored RE hyperprior for sigma_alpha_i_2 {&apos;mu&apos;: 0.22659448662610995, &apos;upper&apos;: 0.5, &apos;lower&apos;: 0.01, &apos;sigma&apos;: 0.015501500534693241, &apos;dist&apos;: &apos;TruncatedNormal&apos;}", 
        "using stored RE hyperprior for sigma_alpha_i_3 {&apos;mu&apos;: 0.075470276332521513, &apos;upper&apos;: 0.5, &apos;lower&apos;: 0.01, &apos;sigma&apos;: 0.018719453427165619, &apos;dist&apos;: &apos;TruncatedNormal&apos;}", 
        "using stored RE hyperprior for sigma_alpha_i_4 {&apos;mu&apos;: 0.073867504315561397, &apos;upper&apos;: 0.5, &apos;lower&apos;: 0.01, &apos;sigma&apos;: 0.018904265682321137, &apos;dist&apos;: &apos;TruncatedNormal&apos;}", 
        "using stored FE for beta_i_x_sex x_sex {&apos;mu&apos;: -0.66440910834125888, &apos;sigma&apos;: 1.0062645936839951, &apos;dist&apos;: &apos;Constant&apos;}"
       ]
      }
     ], 
     "prompt_number": 490
    }, 
    {
     "cell_type": "code", 
     "collapsed": false, 
     "input": [
      "%time dismod3.fit.fit_asr(fin_wp, 'i', iter=iter, thin=thin, burn=burn)"
     ], 
     "language": "python", 
     "outputs": [
      {
       "output_type": "stream", 
       "stream": "stdout", 
       "text": [
        "finding initial values"
       ]
      }, 
      {
       "output_type": "stream", 
       "stream": "stdout", 
       "text": [
        " ."
       ]
      }, 
      {
       "output_type": "stream", 
       "stream": "stdout", 
       "text": [
        " ."
       ]
      }, 
      {
       "output_type": "stream", 
       "stream": "stdout", 
       "text": [
        " ."
       ]
      }, 
      {
       "output_type": "stream", 
       "stream": "stdout", 
       "text": [
        " ", 
        "finding MAP estimate"
       ]
      }, 
      {
       "output_type": "stream", 
       "stream": "stdout", 
       "text": [
        " ", 
        "finding step covariances estimate"
       ]
      }, 
      {
       "output_type": "stream", 
       "stream": "stdout", 
       "text": [
        " ", 
        "resetting initial values (1)"
       ]
      }, 
      {
       "output_type": "stream", 
       "stream": "stdout", 
       "text": [
        " ."
       ]
      }, 
      {
       "output_type": "stream", 
       "stream": "stdout", 
       "text": [
        " ."
       ]
      }, 
      {
       "output_type": "stream", 
       "stream": "stdout", 
       "text": [
        " ."
       ]
      }, 
      {
       "output_type": "stream", 
       "stream": "stdout", 
       "text": [
        " ", 
        "resetting initial values (2)"
       ]
      }, 
      {
       "output_type": "stream", 
       "stream": "stdout", 
       "text": [
        "mare: 0.1", 
        "sampling from posterior"
       ]
      }, 
      {
       "output_type": "stream", 
       "stream": "stdout", 
       "text": [
        "CPU times: user 405.71 s, sys: 1.13 s, total: 406.85 s", 
        "Wall time: 407.00 s"
       ]
      }, 
      {
       "output_type": "pyout", 
       "prompt_number": 491, 
       "text": [
        "(&lt;pymc.NormalApproximation.MAP at 0x19f2d210&gt;, &lt;pymc.MCMC.MCMC at 0x19f2d610&gt;)"
       ]
      }
     ], 
     "prompt_number": 491
    }, 
    {
     "cell_type": "code", 
     "collapsed": true, 
     "input": [
      "we.nodes_to_fit = ['europe_western']  # was a set, which was preventing saving", 
      "we.save('/homes/peterhm/gbd/dm-test')"
     ], 
     "language": "python", 
     "outputs": [], 
     "prompt_number": 499
    }, 
    {
     "cell_type": "code", 
     "collapsed": true, 
     "input": [
      "import pylab as pl", 
      "import pymc as mc", 
      "import networkx as nx", 
      "import pandas", 
      "", 
      "import ism", 
      "import covariate_model", 
      "import fit_model", 
      "import graphics", 
      "", 
      "reload(covariate_model)", 
      "reload(ism)", 
      "reload(fit_model)", 
      "", 
      "", 
      "def fit_posterior(dm, region, sex, year, fast_fit=False, ", 
      "                  inconsistent_fit=False, params_to_fit=['p', 'r', 'i'], zero_re=True,", 
      "                  posteriors_only=False):", 
      "    \"\"\" Fit posterior of specified region/sex/year for specified model", 
      "", 
      "    Parameters", 
      "    ----------", 
      "    dm : DiseaseJson", 
      "    region : str", 
      "      From dismod3.settings.gbd_regions, but clean()-ed", 
      "    sex : str, from dismod3.settings.gbd_sexes", 
      "    year : str, from dismod3.settings.gbd_years", 
      "", 
      "    fast_fit : sample 101 draws from posterior, don't try for convergence (fast for testing)", 
      "    inconsistent_fit : fit parameters  separately", 
      "    params_to_fit : list of params to fit, if not fitting all consistently", 
      "", 
      "    zero_re : bool, if true, enforce constraint that sibling area REs sum to zero", 
      "    posteriors_only : bool, if tru use data from 1997-2007 for 2005 and from 2007 on for 2010", 
      "", 
      "    Example", 
      "    -------", 
      "    >>> import fit_posterior", 
      "    >>> fit_posterior.fit_posterior(2552, 'asia_east', 'male', '2005')", 
      "    \"\"\"", 
      "    dir = '/homes/peterhm/gbd/dm-test/' #dismod3.settings.JOB_WORKING_DIR % dm.id", 
      "", 
      "    ## load the model from disk or from web", 
      "    import simplejson as json", 
      "    import data", 
      "    reload(data)", 
      "", 
      "    try:", 
      "        model = data.ModelData.load(dir)", 
      "        print 'loaded data from new format from %s' % dir", 
      "    except (IOError, AssertionError):", 
      "        model = data.ModelData.from_gbd_jsons(json.loads(dm.to_json()))", 
      "        #model.save(dir)", 
      "        print 'loaded data from json, saved in new format for next time in %s' % dir", 
      "", 
      "    # TODO: check for missing covariates, and have them fixed, instead of filling them with zeros", 
      "", 
      "    ## next block fills in missing covariates with zero", 
      "    for col in model.input_data.columns:", 
      "        if col.startswith('x_'):", 
      "            model.input_data[col] = model.input_data[col].fillna(0.)", 
      "    # also fill all covariates missing in output template with zeros", 
      "    model.output_template = model.output_template.fillna(0)", 
      "", 
      "    predict_area = dismod3.utils.clean(region)", 
      "    predict_sex = dismod3.utils.clean(sex)", 
      "    predict_year = int(year)", 
      "", 
      "    ## load emp_priors dict from dm.params", 
      "    param_type = dict(i='incidence', p='prevalence', r='remission', f='excess-mortality', rr='relative-risk', pf='prevalence_x_excess-mortality', m_with='mortality')", 
      "    emp_priors = {}", 
      "    for t in 'i r p f'.split():", 
      "", 
      "        # uncomment below to not use empirical prior for rate with zero data", 
      "        # if pl.all(model.input_data['data_type'] != t):", 
      "        #     continue", 
      "", 
      "        #key = dismod3.utils.gbd_key_for(param_type[t], model.hierarchy.predecessors(predict_area)[0], year, sex)", 
      "        key = dismod3.utils.gbd_key_for(param_type[t], predict_area, year, sex)", 
      "        mu = dm.get_mcmc('emp_prior_mean', key)", 
      "        #mu = dm.get_mcmc('emp_prior_median', key)", 
      "        sigma = dm.get_mcmc('emp_prior_std', key)", 
      "        ", 
      "        if len(mu) == 101 and len(sigma) == 101:", 
      "            emp_priors[t, 'mu'] = mu", 
      "", 
      "            # TODO: determine best way to propagate prior on function", 
      "            emp_priors[t, 'sigma'] = sigma", 
      "            ", 
      "            # ALT 1: scale so that the joint probability is not a", 
      "            # function of the length of the age function", 
      "            # emp_priors[t, 'sigma'] = sigma * pl.sqrt(len(sigma))", 
      "", 
      "        ## update model.parameters['random_effects'] if there is information in the disease model", 
      "        expert_priors = model.parameters[t].get('random_effects', {})", 
      "        model.parameters[t]['random_effects'] = dm.get_empirical_prior(param_type[t]).get('new_alpha', {})", 
      "        model.parameters[t]['random_effects'].update(expert_priors)", 
      "", 
      "        # shift random effects to make REs for observed children of predict area have mean zero", 
      "        re_mean = pl.mean([model.parameters[t]['random_effects'][area]['mu'] \\", 
      "                           for area in model.hierarchy.neighbors(predict_area) \\", 
      "                           if area in model.parameters[t]['random_effects']])", 
      "        for area in model.hierarchy.neighbors(predict_area):", 
      "            if area in model.parameters[t]['random_effects']:", 
      "                model.parameters[t]['random_effects'][area]['mu'] -= re_mean", 
      "            ", 
      "", 
      "        ## update model.parameters['fixed_effects'] if there is information in the disease model", 
      "        expert_fe_priors = model.parameters[t].get('fixed_effects', {})", 
      "        model.parameters[t]['fixed_effects'].update(dm.get_empirical_prior(param_type[t]).get('new_beta', {}))", 
      "", 
      "", 
      "    ## create model and priors for region/sex/year", 
      "    # select data that is about areas in this region, recent years, and sex of male or total only", 
      "    assert predict_area in model.hierarchy, 'region %s not found in area hierarchy' % predict_area", 
      "    subtree = nx.traversal.bfs_tree(model.hierarchy, predict_area)", 
      "", 
      "    def is_relevant(r):", 
      "        if (r['area'] not in subtree) and r['area'] != 'all':", 
      "            return False", 
      "", 
      "", 
      "        if predict_year == 1990:", 
      "            if r['year_start'] > 1997:", 
      "                return False", 
      "        elif predict_year == 2005:", 
      "            if posteriors_only:", 
      "                if r['year_end'] < 1997 or r['year_start'] > 2007:", 
      "                    return False", 
      "            else:", 
      "                if r['year_end'] < 1997:", 
      "                    return False", 
      "        elif predict_year == 2010:", 
      "            if posteriors_only:", 
      "                if r['data_type'] == 'm_all':", 
      "                    # include m_all data from 2005, since 2010 is not loaded", 
      "                    if r['year_end'] < 1997:", 
      "                        return False", 
      "                else:", 
      "                    if r['year_end'] < 2007:", 
      "                        return False", 
      "            else:", 
      "                if r['year_end'] < 1997:", 
      "                    return False", 
      "        else:", 
      "            assert 0, 'Predictions for year %d not yet implemented' % predict_year", 
      "", 
      "        if r['sex'] not in [predict_sex, 'total']:", 
      "            return False", 
      "", 
      "        return True", 
      "    ", 
      "    old_relevant_rows = [i for i, r in model.input_data.T.iteritems() \\", 
      "                         if (r['area'] in subtree or r['area'] == 'all')\\", 
      "                         and ((predict_year >= 1997 and r['year_end'] >= 1997) or", 
      "                              (predict_year <= 1997 and r['year_start'] <= 1997)) \\", 
      "                         and r['sex'] in [predict_sex, 'total']]", 
      "", 
      "    relevant_rows = model.input_data.index[model.input_data.apply(is_relevant, axis=1)]", 
      "", 
      "    if predict_year == 1990:", 
      "        assert pl.all(relevant_rows == old_relevant_rows), \"relevant rows should be the same in new and old implementation for 1990\"", 
      "", 
      "    if not posteriors_only:", 
      "        assert pl.all(relevant_rows == old_relevant_rows), \"relevant rows should be the same in new and old implementation when posteriors_only is False\"", 
      "    ", 
      "    model.input_data = model.input_data.ix[relevant_rows]", 
      "", 
      "    # replace area 'all' with predict_area", 
      "    model.input_data['area'][model.input_data['area'] == 'all'] = predict_area", 
      "", 
      "    if inconsistent_fit:", 
      "        # generate fits for requested parameters inconsistently", 
      "        vars = {}", 
      "        for t in params_to_fit:", 
      "            vars[t] = ism.age_specific_rate(t, model, t,", 
      "                                            reference_area=predict_area, reference_sex=predict_sex, reference_year=predict_year,", 
      "                                            mu_age=None,", 
      "                                            mu_age_parent=emp_priors.get((t, 'mu')),", 
      "                                            sigma_age_parent=emp_priors.get((t, 'sigma')),", 
      "                                            rate_type=(t == 'rr') and 'log_normal' or 'neg_binom',", 
      "                                            zero_re=zero_re)", 
      "            if fast_fit:", 
      "                fit_model.fit_data_model(vars[t], iter=101, burn=0, thin=1, tune_interval=100)", 
      "            else:", 
      "                fit_model.fit_data_model(vars[t], iter=iter, burn=burn, thin=thin, tune_interval=100)", 
      "", 
      "    else:", 
      "        model.vars += ism.consistent(model,", 
      "                                     reference_area=predict_area, reference_sex=predict_sex, reference_year=predict_year,", 
      "                                     priors=emp_priors, zero_re=zero_re)", 
      "", 
      "        ## fit model to data", 
      "        if fast_fit:", 
      "            dm.map, dm.mcmc = dismod3.fit.fit_consistent(model, 105, 0, 1, 100)", 
      "        else:", 
      "            dm.map, dm.mcmc = dismod3.fit.fit_consistent(model, iter=iter, burn=burn, thin=thin, tune_interval=100, verbose=True)", 
      "", 
      "", 
      "    # generate estimates", 
      "    posteriors = {}", 
      "    for t in 'i r f p rr pf m_with X'.split():", 
      "        if t in model.vars:", 
      "            if t in model.parameters and 'level_bounds' in model.parameters[t]:", 
      "                lower=model.parameters[t]['level_bounds']['lower']", 
      "                upper=model.parameters[t]['level_bounds']['upper']", 
      "            else:", 
      "                lower=0", 
      "                upper=pl.inf", 
      "            posteriors[t] = covariate_model.predict_for(model,", 
      "                                                        model.parameters.get(t, {}),", 
      "                                                        predict_area, predict_sex, predict_year,", 
      "                                                        predict_area, predict_sex, predict_year,", 
      "                                                        True,  # population weighted averages", 
      "                                                        model.vars[t], lower, upper)", 
      "    try:", 
      "        graphics.plot_fit(model, vars, emp_priors, {})", 
      "        pl.savefig(dir + '/image/posterior-%s+%s+%s.png'%(predict_area, predict_sex, predict_year))", 
      "    except Exception, e:", 
      "        print 'Error generating output graphics'", 
      "        print e", 
      "", 
      "    try:", 
      "        graphics.plot_convergence_diag(vars)", 
      "        pl.savefig(dir + '/image/posterior-%s+%s+%s-convergence.png'%(predict_area, predict_sex, predict_year))", 
      "    except Exception, e:", 
      "        print 'Error generating output graphics'", 
      "        print e", 
      "", 
      "    dm.vars, dm.model, dm.emp_priors = model.vars, model, emp_priors", 
      "    for t in 'i r f p rr pf X m_with smr'.split():", 
      "        if t not in dm.vars:", 
      "            continue", 
      "        print 'saving tables for', t", 
      "        if 'data' in dm.vars[t] and 'p_pred' in dm.vars[t]:", 
      "            stats = dm.vars[t]['p_pred'].stats(batches=5)", 
      "            dm.vars[t]['data']['mu_pred'] = stats['mean']", 
      "            dm.vars[t]['data']['sigma_pred'] = stats['standard deviation']", 
      "", 
      "            stats = dm.vars[t]['pi'].stats(batches=5)", 
      "            dm.vars[t]['data']['mc_error'] = stats['mc error']", 
      "", 
      "            dm.vars[t]['data']['residual'] = dm.vars[t]['data']['value'] - dm.vars[t]['data']['mu_pred']", 
      "            dm.vars[t]['data']['abs_residual'] = pl.absolute(dm.vars[t]['data']['residual'])", 
      "            if 'delta' in dm.vars[t]:", 
      "                if len(pl.atleast_1d(dm.vars[t]['delta'].value)) == 1:", 
      "                    d = pl.atleast_1d(dm.vars[t]['delta'].stats()['mean'])", 
      "                    dm.vars[t]['data']['logp'] = [mc.negative_binomial_like(n*p_obs, n*p_pred, n*p_pred*d) for n, p_obs, p_pred  \\", 
      "                                                  in zip(dm.vars[t]['data']['effective_sample_size'], dm.vars[t]['data']['value'], dm.vars[t]['data']['mu_pred'])]", 
      "                else:", 
      "                    dm.vars[t]['data']['logp'] = [mc.negative_binomial_like(n*p_obs, n*p_pred, n*p_pred*d) for n, p_obs, p_pred, d \\", 
      "                                                      in zip(dm.vars[t]['data']['effective_sample_size'], dm.vars[t]['data']['value'], dm.vars[t]['data']['mu_pred'], pl.atleast_1d(dm.vars[t]['delta'].stats()['mean']))]", 
      "            try:", 
      "                dm.vars[t]['data'].to_csv(dir + '/posterior/data-%s-%s+%s+%s.csv'%(t, predict_area, predict_sex, predict_year))", 
      "            except IOError, e:", 
      "                print 'WARNING: could not save file'", 
      "                print e", 
      "        if 'U' in dm.vars[t]:", 
      "            re = dm.vars[t]['U'].T", 
      "            columns = list(re.columns)", 
      "            mu = []", 
      "            sigma = []", 
      "            for n in dm.vars[t]['alpha']:", 
      "                if isinstance(n, mc.Node):", 
      "                    mu.append(n.stats()['mean'])", 
      "                    sigma.append(n.stats()['standard deviation'])", 
      "                else:", 
      "                    mu.append(n)", 
      "                    sigma.append(0.)", 
      "", 
      "            re['mu_coeff'] = mu", 
      "            re['sigma_coeff'] = sigma", 
      "", 
      "            # replace sigma with empirical prior sigma if dist is constant", 
      "            re_prior = model.parameters[t]['random_effects']", 
      "            for cov in re_prior:", 
      "                if re_prior[cov].get('dist') == 'Constant' and 'sigma' in re_prior[cov] and cov in re.index:", 
      "                    re['sigma_coeff'][cov] = re_prior[cov]['sigma']", 
      "", 
      "", 
      "            re = re.reindex(columns=['mu_coeff', 'sigma_coeff'] + columns)", 
      "            try:", 
      "                re.to_csv(dir + '/posterior/re-%s-%s+%s+%s.csv'%(t, predict_area, predict_sex, predict_year))", 
      "            except IOError, e:", 
      "                print 'WARNING: could not save file'", 
      "                print e", 
      "", 
      "        if 'X' in dm.vars[t]:", 
      "            fe = dm.vars[t]['X'].T", 
      "            columns = list(fe.columns)", 
      "            mu = []", 
      "            sigma = []", 
      "            for n in dm.vars[t]['beta']:", 
      "                if isinstance(n, mc.Node):", 
      "                    mu.append(n.stats()['mean'])", 
      "                    sigma.append(n.stats()['standard deviation'])", 
      "                else:", 
      "                    mu.append(n)", 
      "                    sigma.append(0.)", 
      "            fe['mu_coeff'] = mu", 
      "            fe['sigma_coeff'] = sigma", 
      "", 
      "            # replace sigma with empirical prior sigma if dist is constant", 
      "            fe_prior = model.parameters[t]['fixed_effects']", 
      "            for cov in fe_prior:", 
      "                if fe_prior[cov].get('dist') == 'Constant' and 'sigma' in fe_prior[cov]:", 
      "                    fe['sigma_coeff'][cov] = fe_prior[cov]['sigma']", 
      "", 
      "", 
      "            fe = fe.reindex(columns=['mu_coeff', 'sigma_coeff'] + columns)", 
      "            try:", 
      "                fe.to_csv(dir + '/posterior/fe-%s-%s+%s+%s.csv'%(t, predict_area, predict_sex, predict_year))", 
      "            except IOError, e:", 
      "                print 'WARNING: could not save file'", 
      "                print e", 
      "                                    ", 
      "", 
      "    save_country_level_posterior(dm, model, model.vars, predict_area, predict_sex, predict_year, ['incidence', 'prevalence', 'remission', 'excess-mortality', 'duration', 'prevalence_x_excess-mortality'])", 
      "", 
      "    keys = []", 
      "    for i, (type, long_type) in enumerate([['i', 'incidence'],", 
      "                                           ['r', 'remission'],", 
      "                                           ['f', 'excess-mortality'],", 
      "                                           ['p', 'prevalence'],", 
      "                                           ['rr', 'relative-risk'],", 
      "                                           ['pf', 'prevalence_x_excess-mortality'],", 
      "                                           ['m_with', 'mortality'],", 
      "                                           ['X', 'duration']]):", 
      "        if type in posteriors:", 
      "            n = len(posteriors[type])", 
      "            if n > 0:", 
      "                key = '%s+%s+%s+%s' % (long_type, predict_area, predict_year, predict_sex)", 
      "                keys.append(key)", 
      "", 
      "                posteriors[type].sort(axis=0)", 
      "                dm.set_mcmc('mean', key, pl.mean(posteriors[type], axis=0))", 
      "                dm.set_mcmc('median', key, pl.median(posteriors[type], axis=0))", 
      "                dm.set_mcmc('lower_ui', key, posteriors[type][.025*n,:])", 
      "                dm.set_mcmc('upper_ui', key, posteriors[type][.975*n,:])", 
      "", 
      "                vars = dm.vars[type]", 
      "                effects = {}", 
      "                effects['alpha'] = {}", 
      "                effects['sigma_alpha'] = {}", 
      "                if 'alpha' in vars:", 
      "                    for n, col in zip(vars['alpha'], vars['U'].columns):", 
      "                        if isinstance(n, mc.Node):", 
      "                            stats = n.stats()", 
      "                            if stats:", 
      "                                effects['alpha'][col] = dict(mu=stats['mean'], sigma=stats['standard deviation'])", 
      "                    for n in vars['sigma_alpha']:", 
      "                        stats = n.stats()", 
      "                        effects['sigma_alpha'][n.__name__] = dict(mu=stats['mean'], sigma=stats['standard deviation'])", 
      "", 
      "                effects['beta'] = {}", 
      "                if 'beta' in vars:", 
      "                    for n, col in zip(vars['beta'], vars['X'].columns):", 
      "                        if isinstance(n, mc.Node):", 
      "                            stats = n.stats()", 
      "                            if stats:", 
      "                                effects['beta'][col] = dict(mu=stats['mean'], sigma=stats['standard deviation'])", 
      "                                ", 
      "                dm.set_key_by_type('effects', key, effects)", 
      "", 
      "    # save results (do this last, because it removes things from the disease model that plotting function, etc, might need", 
      "    try:", 
      "        dm.save('dm-%d-posterior-%s-%s-%s.json' % (dm.id, predict_area, predict_sex, predict_year), keys_to_save=keys)", 
      "    except IOError, e:", 
      "        print 'WARNING: could not save file'", 
      "        print e", 
      "        ", 
      "    return dm"
     ], 
     "language": "python", 
     "outputs": [], 
     "prompt_number": 510
    }, 
    {
     "cell_type": "code", 
     "collapsed": true, 
     "input": [
      "def load_dm(id, verbose=False):", 
      "    \"\"\" return a DiseaseJson object ", 
      "", 
      "", 
      "    if the JOB_WORKING_DIR contains .json files, use them to construct", 
      "    the disease model", 
      "    ", 
      "    if not, fetch specificed disease model data from", 
      "    dismod server given in settings.py", 
      "", 
      "    Parameters", 
      "    ----------", 
      "    id : str", 
      "    verbose : bool, optional", 
      "    \"\"\"", 
      "    try:", 
      "        dir = '/homes/peterhm/gbd/dm-test/'", 
      "        fname = '%s/json/dm-%s.json' % (dir, id)", 
      "        f = open(fname)", 
      "        dm_json = f.read()", 
      "        dm = DiseaseJson(dm_json)  # TODO: handle error if json fails to load", 
      "        f.close()", 
      "", 
      "        import glob", 
      "        for fname in sorted(glob.glob('%s/json/dm-%d*.json' % (dir, id)), reverse=True):", 
      "            try:", 
      "                if verbose:", 
      "                    debug('merging %s' % fname)", 
      "                f = open(fname)", 
      "                dm.merge(DiseaseJson(f.read()))", 
      "                f.close()", 
      "", 
      "            except ValueError:", 
      "                debug('failed to merge in %s' % fname)", 
      "        return dm", 
      "", 
      "    except IOError: # no local copy, so download from server", 
      "        create_disease_model_dir(id)", 
      "        dm = fetch_disease_model(id)", 
      "    ", 
      "        # get the all-cause mortality data, and merge it into the model", 
      "        mort = fetch_disease_model('all-cause_mortality')", 
      "        dm.data += mort.data", 
      "        dm.save()", 
      "        return dm"
     ], 
     "language": "python", 
     "outputs": [], 
     "prompt_number": 531
    }, 
    {
     "cell_type": "code", 
     "collapsed": true, 
     "input": [
      "import os", 
      "", 
      "def create_disease_model_dir(id):", 
      "    \"\"\" make directory structure to store computation output\"\"\"", 
      "    ", 
      "    dir = '/homes/peterhm/gbd/dm-test/'", 
      "", 
      "    for phase in ['empirical_priors', 'posterior']:", 
      "        os.mkdir('%s/%s' % (dir, phase))", 
      "        for f_type in ['stdout', 'stderr', 'pickle']:", 
      "            os.mkdir('%s/%s/%s' % (dir, phase, f_type))", 
      "    os.mkdir('%s/json' % dir)", 
      "    os.mkdir('%s/image' % dir)", 
      "    os.mkdir('%s/image/mcmc_diagnostics' % dir)"
     ], 
     "language": "python", 
     "outputs": [], 
     "prompt_number": 534
    }, 
    {
     "cell_type": "code", 
     "collapsed": true, 
     "input": [
      "def fetch_disease_model(id):", 
      "    from twill import set_output", 
      "    set_output(open('/dev/null', 'w'))", 
      "", 
      "    dismod_server_login()", 
      "", 
      "    twc.go(DISMOD_DOWNLOAD_URL % id)", 
      "    result_json = twc.show()", 
      "    twc.get_browser()._browser._response.close()  # end the connection, so that apache doesn't get upset", 
      "", 
      "    dm = DiseaseJson(result_json)", 
      "    return dm"
     ], 
     "language": "python", 
     "outputs": [], 
     "prompt_number": 540
    }, 
    {
     "cell_type": "code", 
     "collapsed": false, 
     "input": [
      "#dm = dismod3.load_disease_model(id)", 
      "tester = load_dm('dm-test')", 
      "tester.id = 'dm-test'", 
      "fit_posterior(we, 'europe_western', sex, year)"
     ], 
     "language": "python", 
     "outputs": [
      {
       "ename": "OSError", 
       "evalue": "[Errno 17] File exists: '/homes/peterhm/gbd/dm-test//empirical_priors'", 
       "output_type": "pyerr", 
       "traceback": [
        "<span class=\"ansired\">---------------------------------------------------------------------------</span>\n<span class=\"ansired\">OSError</span>                                   Traceback (most recent call last)", 
        "<span class=\"ansigreen\">/snfs2/HOME/peterhm/gbd/&lt;ipython-input-541-30c1384d22c7&gt;</span> in <span class=\"ansicyan\">&lt;module&gt;</span><span class=\"ansiblue\">()</span>\n<span class=\"ansigreen\">      1</span> <span class=\"ansired\">#dm = dismod3.load_disease_model(id)</span>\n<span class=\"ansiyellow\"></span>\n<span class=\"ansigreen\">----&gt; 2</span><span class=\"ansiyellow\"> </span>tester <span class=\"ansiyellow\">=</span> load_dm<span class=\"ansiyellow\">(</span><span class=\"ansiblue\">&apos;dm-test&apos;</span><span class=\"ansiyellow\">)</span><span class=\"ansiyellow\"></span>\n<span class=\"ansigreen\">      3</span> tester<span class=\"ansiyellow\">.</span>id <span class=\"ansiyellow\">=</span> <span class=\"ansiblue\">&apos;dm-test&apos;</span><span class=\"ansiyellow\"></span>\n<span class=\"ansigreen\">      4</span> fit_posterior<span class=\"ansiyellow\">(</span>we<span class=\"ansiyellow\">,</span> <span class=\"ansiblue\">&apos;europe_western&apos;</span><span class=\"ansiyellow\">,</span> sex<span class=\"ansiyellow\">,</span> year<span class=\"ansiyellow\">)</span><span class=\"ansiyellow\"></span>\n", 
        "<span class=\"ansigreen\">/snfs2/HOME/peterhm/gbd/&lt;ipython-input-531-f71965256801&gt;</span> in <span class=\"ansicyan\">load_dm</span><span class=\"ansiblue\">(id, verbose)</span>\n<span class=\"ansigreen\">     36</span> <span class=\"ansiyellow\"></span>\n<span class=\"ansigreen\">     37</span>     <span class=\"ansigreen\">except</span> IOError<span class=\"ansiyellow\">:</span> <span class=\"ansired\"># no local copy, so download from server</span><span class=\"ansiyellow\"></span>\n<span class=\"ansigreen\">---&gt; 38</span><span class=\"ansiyellow\">         </span>create_disease_model_dir<span class=\"ansiyellow\">(</span>id<span class=\"ansiyellow\">)</span><span class=\"ansiyellow\"></span>\n<span class=\"ansigreen\">     39</span>         dm <span class=\"ansiyellow\">=</span> fetch_disease_model<span class=\"ansiyellow\">(</span>id<span class=\"ansiyellow\">)</span><span class=\"ansiyellow\"></span>\n<span class=\"ansigreen\">     40</span> <span class=\"ansiyellow\"></span>\n", 
        "<span class=\"ansigreen\">/snfs2/HOME/peterhm/gbd/&lt;ipython-input-534-69107d6167a8&gt;</span> in <span class=\"ansicyan\">create_disease_model_dir</span><span class=\"ansiblue\">(id)</span>\n<span class=\"ansigreen\">      7</span> <span class=\"ansiyellow\"></span>\n<span class=\"ansigreen\">      8</span>     <span class=\"ansigreen\">for</span> phase <span class=\"ansigreen\">in</span> <span class=\"ansiyellow\">[</span><span class=\"ansiblue\">&apos;empirical_priors&apos;</span><span class=\"ansiyellow\">,</span> <span class=\"ansiblue\">&apos;posterior&apos;</span><span class=\"ansiyellow\">]</span><span class=\"ansiyellow\">:</span><span class=\"ansiyellow\"></span>\n<span class=\"ansigreen\">----&gt; 9</span><span class=\"ansiyellow\">         </span>os<span class=\"ansiyellow\">.</span>mkdir<span class=\"ansiyellow\">(</span><span class=\"ansiblue\">&apos;%s/%s&apos;</span> <span class=\"ansiyellow\">%</span> <span class=\"ansiyellow\">(</span>dir<span class=\"ansiyellow\">,</span> phase<span class=\"ansiyellow\">)</span><span class=\"ansiyellow\">)</span><span class=\"ansiyellow\"></span>\n<span class=\"ansigreen\">     10</span>         <span class=\"ansigreen\">for</span> f_type <span class=\"ansigreen\">in</span> <span class=\"ansiyellow\">[</span><span class=\"ansiblue\">&apos;stdout&apos;</span><span class=\"ansiyellow\">,</span> <span class=\"ansiblue\">&apos;stderr&apos;</span><span class=\"ansiyellow\">,</span> <span class=\"ansiblue\">&apos;pickle&apos;</span><span class=\"ansiyellow\">]</span><span class=\"ansiyellow\">:</span><span class=\"ansiyellow\"></span>\n<span class=\"ansigreen\">     11</span>             os<span class=\"ansiyellow\">.</span>mkdir<span class=\"ansiyellow\">(</span><span class=\"ansiblue\">&apos;%s/%s/%s&apos;</span> <span class=\"ansiyellow\">%</span> <span class=\"ansiyellow\">(</span>dir<span class=\"ansiyellow\">,</span> phase<span class=\"ansiyellow\">,</span> f_type<span class=\"ansiyellow\">)</span><span class=\"ansiyellow\">)</span><span class=\"ansiyellow\"></span>\n", 
        "<span class=\"ansired\">OSError</span>: [Errno 17] File exists: &apos;/homes/peterhm/gbd/dm-test//empirical_priors&apos;"
       ]
      }
     ], 
     "prompt_number": 541
    }, 
    {
     "cell_type": "code", 
     "collapsed": false, 
     "input": [], 
     "language": "python", 
     "outputs": [
      {
       "output_type": "pyout", 
       "prompt_number": 512, 
       "text": [
        "1"
       ]
      }
     ], 
     "prompt_number": 512
    }, 
    {
     "cell_type": "code", 
     "collapsed": true, 
     "input": [], 
     "language": "python", 
     "outputs": [], 
     "prompt_number": "&nbsp;"
    }
   ]
  }
 ]
}